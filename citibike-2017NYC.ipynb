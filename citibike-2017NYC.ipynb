{
 "cells": [
  {
   "cell_type": "code",
   "execution_count": 358,
   "metadata": {
    "_cell_guid": "b1076dfc-b9ad-4769-8c92-a6c4dae69d19",
    "_uuid": "8f2839f25d086af736a60e9eeb907d3b93b6e0e5"
   },
   "outputs": [
    {
     "data": {
      "text/html": [
       "        <script type=\"text/javascript\">\n",
       "        window.PlotlyConfig = {MathJaxConfig: 'local'};\n",
       "        if (window.MathJax) {MathJax.Hub.Config({SVG: {font: \"STIX-Web\"}});}\n",
       "        if (typeof require !== 'undefined') {\n",
       "        require.undef(\"plotly\");\n",
       "        requirejs.config({\n",
       "            paths: {\n",
       "                'plotly': ['https://cdn.plot.ly/plotly-latest.min']\n",
       "            }\n",
       "        });\n",
       "        require(['plotly'], function(Plotly) {\n",
       "            window._Plotly = Plotly;\n",
       "        });\n",
       "        }\n",
       "        </script>\n",
       "        "
      ]
     },
     "metadata": {},
     "output_type": "display_data"
    }
   ],
   "source": [
    "%matplotlib inline\n",
    "import numpy as np \n",
    "import pandas as pd \n",
    "import plotly.graph_objs as go\n",
    "from plotly import tools\n",
    "import seaborn as sns\n",
    "from plotly.offline import download_plotlyjs, init_notebook_mode, plot, iplot\n",
    "init_notebook_mode(connected=True)"
   ]
  },
  {
   "cell_type": "markdown",
   "metadata": {
    "_uuid": "b06d8c99727696943474b8479143f33a7619d284"
   },
   "source": [
    "## Imports"
   ]
  },
  {
   "cell_type": "code",
   "execution_count": 359,
   "metadata": {
    "_cell_guid": "79c7e3d0-c299-4dcb-8224-4455121ee9b0",
    "_uuid": "d629ff2d2480ee46fbb7e2d37f6b5fab8052498a"
   },
   "outputs": [],
   "source": [
    "df = pd.read_csv('/Users/jeffbloom13/WPI/DS504/week-7/201703-citibike-tripdata.csv')\n",
    "weatherDf = pd.read_csv('/Users/jeffbloom13/WPI/DS504/week-7/NYCWeatherClean.csv')\n"
   ]
  },
  {
   "cell_type": "code",
   "execution_count": 360,
   "metadata": {
    "_uuid": "cc4e99504c7e7e2fe588acb9e4b06d2465a362f1"
   },
   "outputs": [
    {
     "data": {
      "text/html": [
       "<div>\n",
       "<style scoped>\n",
       "    .dataframe tbody tr th:only-of-type {\n",
       "        vertical-align: middle;\n",
       "    }\n",
       "\n",
       "    .dataframe tbody tr th {\n",
       "        vertical-align: top;\n",
       "    }\n",
       "\n",
       "    .dataframe thead th {\n",
       "        text-align: right;\n",
       "    }\n",
       "</style>\n",
       "<table border=\"1\" class=\"dataframe\">\n",
       "  <thead>\n",
       "    <tr style=\"text-align: right;\">\n",
       "      <th></th>\n",
       "      <th>Trip Duration</th>\n",
       "      <th>Start Time</th>\n",
       "      <th>Stop Time</th>\n",
       "      <th>Start Station ID</th>\n",
       "      <th>Start Station Name</th>\n",
       "      <th>Start Station Latitude</th>\n",
       "      <th>Start Station Longitude</th>\n",
       "      <th>End Station ID</th>\n",
       "      <th>End Station Name</th>\n",
       "      <th>End Station Latitude</th>\n",
       "      <th>End Station Longitude</th>\n",
       "      <th>Bike ID</th>\n",
       "      <th>User Type</th>\n",
       "      <th>Birth Year</th>\n",
       "      <th>Gender</th>\n",
       "    </tr>\n",
       "  </thead>\n",
       "  <tbody>\n",
       "    <tr>\n",
       "      <th>0</th>\n",
       "      <td>1893</td>\n",
       "      <td>2017-03-01 00:00:32</td>\n",
       "      <td>2017-03-01 00:32:06</td>\n",
       "      <td>2009</td>\n",
       "      <td>Catherine St &amp; Monroe St</td>\n",
       "      <td>40.711174</td>\n",
       "      <td>-73.996826</td>\n",
       "      <td>527</td>\n",
       "      <td>E 33 St &amp; 2 Ave</td>\n",
       "      <td>40.744023</td>\n",
       "      <td>-73.976056</td>\n",
       "      <td>27291</td>\n",
       "      <td>Subscriber</td>\n",
       "      <td>1973.0</td>\n",
       "      <td>2</td>\n",
       "    </tr>\n",
       "    <tr>\n",
       "      <th>1</th>\n",
       "      <td>223</td>\n",
       "      <td>2017-03-01 00:01:09</td>\n",
       "      <td>2017-03-01 00:04:53</td>\n",
       "      <td>127</td>\n",
       "      <td>Barrow St &amp; Hudson St</td>\n",
       "      <td>40.731724</td>\n",
       "      <td>-74.006744</td>\n",
       "      <td>284</td>\n",
       "      <td>Greenwich Ave &amp; 8 Ave</td>\n",
       "      <td>40.739017</td>\n",
       "      <td>-74.002638</td>\n",
       "      <td>19387</td>\n",
       "      <td>Subscriber</td>\n",
       "      <td>1985.0</td>\n",
       "      <td>2</td>\n",
       "    </tr>\n",
       "    <tr>\n",
       "      <th>2</th>\n",
       "      <td>1665</td>\n",
       "      <td>2017-03-01 00:01:27</td>\n",
       "      <td>2017-03-01 00:29:12</td>\n",
       "      <td>174</td>\n",
       "      <td>E 25 St &amp; 1 Ave</td>\n",
       "      <td>40.738177</td>\n",
       "      <td>-73.977387</td>\n",
       "      <td>307</td>\n",
       "      <td>Canal St &amp; Rutgers St</td>\n",
       "      <td>40.714275</td>\n",
       "      <td>-73.989900</td>\n",
       "      <td>15809</td>\n",
       "      <td>Subscriber</td>\n",
       "      <td>1988.0</td>\n",
       "      <td>1</td>\n",
       "    </tr>\n",
       "    <tr>\n",
       "      <th>3</th>\n",
       "      <td>100</td>\n",
       "      <td>2017-03-01 00:01:29</td>\n",
       "      <td>2017-03-01 00:03:10</td>\n",
       "      <td>316</td>\n",
       "      <td>Fulton St &amp; William St</td>\n",
       "      <td>40.709560</td>\n",
       "      <td>-74.006536</td>\n",
       "      <td>306</td>\n",
       "      <td>Cliff St &amp; Fulton St</td>\n",
       "      <td>40.708235</td>\n",
       "      <td>-74.005301</td>\n",
       "      <td>18956</td>\n",
       "      <td>Subscriber</td>\n",
       "      <td>1991.0</td>\n",
       "      <td>1</td>\n",
       "    </tr>\n",
       "    <tr>\n",
       "      <th>4</th>\n",
       "      <td>1229</td>\n",
       "      <td>2017-03-01 00:01:33</td>\n",
       "      <td>2017-03-01 00:22:02</td>\n",
       "      <td>536</td>\n",
       "      <td>1 Ave &amp; E 30 St</td>\n",
       "      <td>40.741444</td>\n",
       "      <td>-73.975361</td>\n",
       "      <td>259</td>\n",
       "      <td>South St &amp; Whitehall St</td>\n",
       "      <td>40.701221</td>\n",
       "      <td>-74.012342</td>\n",
       "      <td>25728</td>\n",
       "      <td>Subscriber</td>\n",
       "      <td>1963.0</td>\n",
       "      <td>1</td>\n",
       "    </tr>\n",
       "    <tr>\n",
       "      <th>5</th>\n",
       "      <td>613</td>\n",
       "      <td>2017-03-01 00:01:57</td>\n",
       "      <td>2017-03-01 00:12:11</td>\n",
       "      <td>259</td>\n",
       "      <td>South St &amp; Whitehall St</td>\n",
       "      <td>40.701221</td>\n",
       "      <td>-74.012342</td>\n",
       "      <td>276</td>\n",
       "      <td>Duane St &amp; Greenwich St</td>\n",
       "      <td>40.717488</td>\n",
       "      <td>-74.010455</td>\n",
       "      <td>16257</td>\n",
       "      <td>Subscriber</td>\n",
       "      <td>1984.0</td>\n",
       "      <td>1</td>\n",
       "    </tr>\n",
       "    <tr>\n",
       "      <th>6</th>\n",
       "      <td>157</td>\n",
       "      <td>2017-03-01 00:02:12</td>\n",
       "      <td>2017-03-01 00:04:49</td>\n",
       "      <td>3329</td>\n",
       "      <td>Degraw St &amp; Smith St</td>\n",
       "      <td>40.682915</td>\n",
       "      <td>-73.993182</td>\n",
       "      <td>3384</td>\n",
       "      <td>Smith St &amp; 3 St</td>\n",
       "      <td>40.678724</td>\n",
       "      <td>-73.995991</td>\n",
       "      <td>26868</td>\n",
       "      <td>Subscriber</td>\n",
       "      <td>1963.0</td>\n",
       "      <td>1</td>\n",
       "    </tr>\n",
       "    <tr>\n",
       "      <th>7</th>\n",
       "      <td>233</td>\n",
       "      <td>2017-03-01 00:02:15</td>\n",
       "      <td>2017-03-01 00:06:08</td>\n",
       "      <td>3107</td>\n",
       "      <td>Bedford Ave &amp; Nassau Ave</td>\n",
       "      <td>40.723117</td>\n",
       "      <td>-73.952123</td>\n",
       "      <td>3090</td>\n",
       "      <td>N 8 St &amp; Driggs Ave</td>\n",
       "      <td>40.717746</td>\n",
       "      <td>-73.956001</td>\n",
       "      <td>21657</td>\n",
       "      <td>Subscriber</td>\n",
       "      <td>1976.0</td>\n",
       "      <td>1</td>\n",
       "    </tr>\n",
       "    <tr>\n",
       "      <th>8</th>\n",
       "      <td>317</td>\n",
       "      <td>2017-03-01 00:02:38</td>\n",
       "      <td>2017-03-01 00:07:55</td>\n",
       "      <td>3328</td>\n",
       "      <td>W 100 St &amp; Manhattan Ave</td>\n",
       "      <td>40.795000</td>\n",
       "      <td>-73.964500</td>\n",
       "      <td>3285</td>\n",
       "      <td>W 87 St  &amp; Amsterdam Ave</td>\n",
       "      <td>40.788390</td>\n",
       "      <td>-73.974700</td>\n",
       "      <td>26933</td>\n",
       "      <td>Subscriber</td>\n",
       "      <td>1981.0</td>\n",
       "      <td>1</td>\n",
       "    </tr>\n",
       "    <tr>\n",
       "      <th>9</th>\n",
       "      <td>2042</td>\n",
       "      <td>2017-03-01 00:02:54</td>\n",
       "      <td>2017-03-01 00:36:57</td>\n",
       "      <td>128</td>\n",
       "      <td>MacDougal St &amp; Prince St</td>\n",
       "      <td>40.727103</td>\n",
       "      <td>-74.002971</td>\n",
       "      <td>3289</td>\n",
       "      <td>W 90 St &amp; Amsterdam Ave</td>\n",
       "      <td>40.790179</td>\n",
       "      <td>-73.972889</td>\n",
       "      <td>25371</td>\n",
       "      <td>Subscriber</td>\n",
       "      <td>1964.0</td>\n",
       "      <td>1</td>\n",
       "    </tr>\n",
       "  </tbody>\n",
       "</table>\n",
       "</div>"
      ],
      "text/plain": [
       "   Trip Duration           Start Time            Stop Time  Start Station ID  \\\n",
       "0           1893  2017-03-01 00:00:32  2017-03-01 00:32:06              2009   \n",
       "1            223  2017-03-01 00:01:09  2017-03-01 00:04:53               127   \n",
       "2           1665  2017-03-01 00:01:27  2017-03-01 00:29:12               174   \n",
       "3            100  2017-03-01 00:01:29  2017-03-01 00:03:10               316   \n",
       "4           1229  2017-03-01 00:01:33  2017-03-01 00:22:02               536   \n",
       "5            613  2017-03-01 00:01:57  2017-03-01 00:12:11               259   \n",
       "6            157  2017-03-01 00:02:12  2017-03-01 00:04:49              3329   \n",
       "7            233  2017-03-01 00:02:15  2017-03-01 00:06:08              3107   \n",
       "8            317  2017-03-01 00:02:38  2017-03-01 00:07:55              3328   \n",
       "9           2042  2017-03-01 00:02:54  2017-03-01 00:36:57               128   \n",
       "\n",
       "         Start Station Name  Start Station Latitude  Start Station Longitude  \\\n",
       "0  Catherine St & Monroe St               40.711174               -73.996826   \n",
       "1     Barrow St & Hudson St               40.731724               -74.006744   \n",
       "2           E 25 St & 1 Ave               40.738177               -73.977387   \n",
       "3    Fulton St & William St               40.709560               -74.006536   \n",
       "4           1 Ave & E 30 St               40.741444               -73.975361   \n",
       "5   South St & Whitehall St               40.701221               -74.012342   \n",
       "6      Degraw St & Smith St               40.682915               -73.993182   \n",
       "7  Bedford Ave & Nassau Ave               40.723117               -73.952123   \n",
       "8  W 100 St & Manhattan Ave               40.795000               -73.964500   \n",
       "9  MacDougal St & Prince St               40.727103               -74.002971   \n",
       "\n",
       "   End Station ID          End Station Name  End Station Latitude  \\\n",
       "0             527           E 33 St & 2 Ave             40.744023   \n",
       "1             284     Greenwich Ave & 8 Ave             40.739017   \n",
       "2             307     Canal St & Rutgers St             40.714275   \n",
       "3             306      Cliff St & Fulton St             40.708235   \n",
       "4             259   South St & Whitehall St             40.701221   \n",
       "5             276   Duane St & Greenwich St             40.717488   \n",
       "6            3384           Smith St & 3 St             40.678724   \n",
       "7            3090       N 8 St & Driggs Ave             40.717746   \n",
       "8            3285  W 87 St  & Amsterdam Ave             40.788390   \n",
       "9            3289   W 90 St & Amsterdam Ave             40.790179   \n",
       "\n",
       "   End Station Longitude  Bike ID   User Type  Birth Year  Gender  \n",
       "0             -73.976056    27291  Subscriber      1973.0       2  \n",
       "1             -74.002638    19387  Subscriber      1985.0       2  \n",
       "2             -73.989900    15809  Subscriber      1988.0       1  \n",
       "3             -74.005301    18956  Subscriber      1991.0       1  \n",
       "4             -74.012342    25728  Subscriber      1963.0       1  \n",
       "5             -74.010455    16257  Subscriber      1984.0       1  \n",
       "6             -73.995991    26868  Subscriber      1963.0       1  \n",
       "7             -73.956001    21657  Subscriber      1976.0       1  \n",
       "8             -73.974700    26933  Subscriber      1981.0       1  \n",
       "9             -73.972889    25371  Subscriber      1964.0       1  "
      ]
     },
     "execution_count": 360,
     "metadata": {},
     "output_type": "execute_result"
    }
   ],
   "source": [
    "df.head(10)"
   ]
  },
  {
   "cell_type": "markdown",
   "metadata": {
    "_uuid": "2f688b3ae5bd01728d5a8fcf5254c5c9f826ad22"
   },
   "source": [
    "## Clean data"
   ]
  },
  {
   "cell_type": "code",
   "execution_count": 361,
   "metadata": {
    "_uuid": "ff710d8ed24ca2550c25d7607d83d29842058520"
   },
   "outputs": [
    {
     "data": {
      "text/plain": [
       "Trip Duration                  0\n",
       "Start Time                     0\n",
       "Stop Time                      0\n",
       "Start Station ID               0\n",
       "Start Station Name             0\n",
       "Start Station Latitude         0\n",
       "Start Station Longitude        0\n",
       "End Station ID                 0\n",
       "End Station Name               0\n",
       "End Station Latitude           0\n",
       "End Station Longitude          0\n",
       "Bike ID                        0\n",
       "User Type                   5136\n",
       "Birth Year                 32846\n",
       "Gender                         0\n",
       "dtype: int64"
      ]
     },
     "execution_count": 361,
     "metadata": {},
     "output_type": "execute_result"
    }
   ],
   "source": [
    "df.isna().sum()"
   ]
  },
  {
   "cell_type": "code",
   "execution_count": 362,
   "metadata": {
    "_uuid": "5a3a4c04a1a90b4e681049195063b7f86de5d596"
   },
   "outputs": [],
   "source": [
    "df_wo_na = df.dropna()\n"
   ]
  },
  {
   "cell_type": "code",
   "execution_count": 363,
   "metadata": {
    "_uuid": "265e76baad8b22b6b2dc09dbf79b39efaa599ce4"
   },
   "outputs": [],
   "source": [
    "df['Birth Year'].apply(lambda y: y + 100 if y < 1918 else y)\n",
    "df = df.reset_index(drop=True)"
   ]
  },
  {
   "cell_type": "code",
   "execution_count": 364,
   "metadata": {
    "_uuid": "87902e9adac9c28aaa797e99b4695f748e20876e",
    "scrolled": true
   },
   "outputs": [
    {
     "data": {
      "text/plain": [
       "KNeighborsRegressor(algorithm='auto', leaf_size=30, metric='minkowski',\n",
       "                    metric_params=None, n_jobs=None, n_neighbors=10, p=2,\n",
       "                    weights='distance')"
      ]
     },
     "execution_count": 364,
     "metadata": {},
     "output_type": "execute_result"
    }
   ],
   "source": [
    "from sklearn import neighbors\n",
    "knn = neighbors.KNeighborsRegressor(10, weights='distance')\n",
    "for col in ['Start Time', 'Stop Time']:\n",
    "    df_wo_na[col] = df_wo_na[col].apply(lambda x: pd.Timestamp(x).value)\n",
    "for col in ['Start Station Name', 'End Station Name', 'User Type']:\n",
    "    df_wo_na[col] = pd.Categorical(df_wo_na[col]).codes\n",
    "knn.fit(df_wo_na.drop(['Birth Year'], axis=1).values, df_wo_na['Birth Year'].values)"
   ]
  },
  {
   "cell_type": "code",
   "execution_count": 365,
   "metadata": {
    "_uuid": "ac15556fe5300a0e999e12acfe0371a35f240897",
    "scrolled": false
   },
   "outputs": [
    {
     "name": "stderr",
     "output_type": "stream",
     "text": [
      "/opt/anaconda3/lib/python3.7/site-packages/ipykernel_launcher.py:3: SettingWithCopyWarning:\n",
      "\n",
      "\n",
      "A value is trying to be set on a copy of a slice from a DataFrame.\n",
      "Try using .loc[row_indexer,col_indexer] = value instead\n",
      "\n",
      "See the caveats in the documentation: https://pandas.pydata.org/pandas-docs/stable/user_guide/indexing.html#returning-a-view-versus-a-copy\n",
      "\n",
      "/opt/anaconda3/lib/python3.7/site-packages/ipykernel_launcher.py:5: SettingWithCopyWarning:\n",
      "\n",
      "\n",
      "A value is trying to be set on a copy of a slice from a DataFrame.\n",
      "Try using .loc[row_indexer,col_indexer] = value instead\n",
      "\n",
      "See the caveats in the documentation: https://pandas.pydata.org/pandas-docs/stable/user_guide/indexing.html#returning-a-view-versus-a-copy\n",
      "\n"
     ]
    }
   ],
   "source": [
    "nan_by = df[df['Birth Year'].isnull()]\n",
    "for col in ['Start Time', 'Stop Time']:\n",
    "    nan_by[col] = nan_by[col].apply(lambda x: pd.Timestamp(x).value)\n",
    "for col in ['Start Station Name', 'End Station Name', 'User Type']:\n",
    "    nan_by[col] = pd.Categorical(nan_by[col]).codes\n",
    "nan_by = nan_by.drop(['Birth Year'], axis=1)\n",
    "nan_by['Birth Year'] = knn.predict(nan_by)\n",
    "df.loc[df['Birth Year'].isnull(), 'Birth Year'] = nan_by['Birth Year'].astype(int)\n",
    "df['age'] = df['Birth Year'].apply(lambda y: 2017 - y)"
   ]
  },
  {
   "cell_type": "code",
   "execution_count": 366,
   "metadata": {
    "_uuid": "81a26aa77f26122e4171a72dc8fb02836d2da2b9"
   },
   "outputs": [
    {
     "data": {
      "text/plain": [
       "Trip Duration              0\n",
       "Start Time                 0\n",
       "Stop Time                  0\n",
       "Start Station ID           0\n",
       "Start Station Name         0\n",
       "Start Station Latitude     0\n",
       "Start Station Longitude    0\n",
       "End Station ID             0\n",
       "End Station Name           0\n",
       "End Station Latitude       0\n",
       "End Station Longitude      0\n",
       "Bike ID                    0\n",
       "User Type                  0\n",
       "Birth Year                 0\n",
       "Gender                     0\n",
       "age                        0\n",
       "dtype: int64"
      ]
     },
     "execution_count": 366,
     "metadata": {},
     "output_type": "execute_result"
    }
   ],
   "source": [
    "df.isna().sum()\n",
    "df = df.dropna()\n",
    "df.isna().sum()\n"
   ]
  },
  {
   "cell_type": "code",
   "execution_count": 367,
   "metadata": {
    "_uuid": "70238dffb22077ef61f85abe995aeff7be08b074"
   },
   "outputs": [],
   "source": [
    "\n",
    "customer_type_df = pd.DataFrame(data=df['User Type'].value_counts())\n",
    "customer_type_df = customer_type_df.reset_index()\n",
    "customer_type_df.rename(columns={'User Type':'count', 'index': 'type'}, inplace=True)"
   ]
  },
  {
   "cell_type": "code",
   "execution_count": 368,
   "metadata": {
    "_uuid": "3e4a0a54218870ee6bc25c5706f8481b103ea1cc"
   },
   "outputs": [
    {
     "data": {
      "application/vnd.plotly.v1+json": {
       "config": {
        "linkText": "Export to plot.ly",
        "plotlyServerURL": "https://plot.ly",
        "showLink": false
       },
       "data": [
        {
         "labels": [
          "Subscriber",
          "Customer"
         ],
         "type": "pie",
         "values": [
          695752,
          26777
         ]
        }
       ],
       "layout": {
        "template": {
         "data": {
          "bar": [
           {
            "error_x": {
             "color": "#2a3f5f"
            },
            "error_y": {
             "color": "#2a3f5f"
            },
            "marker": {
             "line": {
              "color": "#E5ECF6",
              "width": 0.5
             }
            },
            "type": "bar"
           }
          ],
          "barpolar": [
           {
            "marker": {
             "line": {
              "color": "#E5ECF6",
              "width": 0.5
             }
            },
            "type": "barpolar"
           }
          ],
          "carpet": [
           {
            "aaxis": {
             "endlinecolor": "#2a3f5f",
             "gridcolor": "white",
             "linecolor": "white",
             "minorgridcolor": "white",
             "startlinecolor": "#2a3f5f"
            },
            "baxis": {
             "endlinecolor": "#2a3f5f",
             "gridcolor": "white",
             "linecolor": "white",
             "minorgridcolor": "white",
             "startlinecolor": "#2a3f5f"
            },
            "type": "carpet"
           }
          ],
          "choropleth": [
           {
            "colorbar": {
             "outlinewidth": 0,
             "ticks": ""
            },
            "type": "choropleth"
           }
          ],
          "contour": [
           {
            "colorbar": {
             "outlinewidth": 0,
             "ticks": ""
            },
            "colorscale": [
             [
              0,
              "#0d0887"
             ],
             [
              0.1111111111111111,
              "#46039f"
             ],
             [
              0.2222222222222222,
              "#7201a8"
             ],
             [
              0.3333333333333333,
              "#9c179e"
             ],
             [
              0.4444444444444444,
              "#bd3786"
             ],
             [
              0.5555555555555556,
              "#d8576b"
             ],
             [
              0.6666666666666666,
              "#ed7953"
             ],
             [
              0.7777777777777778,
              "#fb9f3a"
             ],
             [
              0.8888888888888888,
              "#fdca26"
             ],
             [
              1,
              "#f0f921"
             ]
            ],
            "type": "contour"
           }
          ],
          "contourcarpet": [
           {
            "colorbar": {
             "outlinewidth": 0,
             "ticks": ""
            },
            "type": "contourcarpet"
           }
          ],
          "heatmap": [
           {
            "colorbar": {
             "outlinewidth": 0,
             "ticks": ""
            },
            "colorscale": [
             [
              0,
              "#0d0887"
             ],
             [
              0.1111111111111111,
              "#46039f"
             ],
             [
              0.2222222222222222,
              "#7201a8"
             ],
             [
              0.3333333333333333,
              "#9c179e"
             ],
             [
              0.4444444444444444,
              "#bd3786"
             ],
             [
              0.5555555555555556,
              "#d8576b"
             ],
             [
              0.6666666666666666,
              "#ed7953"
             ],
             [
              0.7777777777777778,
              "#fb9f3a"
             ],
             [
              0.8888888888888888,
              "#fdca26"
             ],
             [
              1,
              "#f0f921"
             ]
            ],
            "type": "heatmap"
           }
          ],
          "heatmapgl": [
           {
            "colorbar": {
             "outlinewidth": 0,
             "ticks": ""
            },
            "colorscale": [
             [
              0,
              "#0d0887"
             ],
             [
              0.1111111111111111,
              "#46039f"
             ],
             [
              0.2222222222222222,
              "#7201a8"
             ],
             [
              0.3333333333333333,
              "#9c179e"
             ],
             [
              0.4444444444444444,
              "#bd3786"
             ],
             [
              0.5555555555555556,
              "#d8576b"
             ],
             [
              0.6666666666666666,
              "#ed7953"
             ],
             [
              0.7777777777777778,
              "#fb9f3a"
             ],
             [
              0.8888888888888888,
              "#fdca26"
             ],
             [
              1,
              "#f0f921"
             ]
            ],
            "type": "heatmapgl"
           }
          ],
          "histogram": [
           {
            "marker": {
             "colorbar": {
              "outlinewidth": 0,
              "ticks": ""
             }
            },
            "type": "histogram"
           }
          ],
          "histogram2d": [
           {
            "colorbar": {
             "outlinewidth": 0,
             "ticks": ""
            },
            "colorscale": [
             [
              0,
              "#0d0887"
             ],
             [
              0.1111111111111111,
              "#46039f"
             ],
             [
              0.2222222222222222,
              "#7201a8"
             ],
             [
              0.3333333333333333,
              "#9c179e"
             ],
             [
              0.4444444444444444,
              "#bd3786"
             ],
             [
              0.5555555555555556,
              "#d8576b"
             ],
             [
              0.6666666666666666,
              "#ed7953"
             ],
             [
              0.7777777777777778,
              "#fb9f3a"
             ],
             [
              0.8888888888888888,
              "#fdca26"
             ],
             [
              1,
              "#f0f921"
             ]
            ],
            "type": "histogram2d"
           }
          ],
          "histogram2dcontour": [
           {
            "colorbar": {
             "outlinewidth": 0,
             "ticks": ""
            },
            "colorscale": [
             [
              0,
              "#0d0887"
             ],
             [
              0.1111111111111111,
              "#46039f"
             ],
             [
              0.2222222222222222,
              "#7201a8"
             ],
             [
              0.3333333333333333,
              "#9c179e"
             ],
             [
              0.4444444444444444,
              "#bd3786"
             ],
             [
              0.5555555555555556,
              "#d8576b"
             ],
             [
              0.6666666666666666,
              "#ed7953"
             ],
             [
              0.7777777777777778,
              "#fb9f3a"
             ],
             [
              0.8888888888888888,
              "#fdca26"
             ],
             [
              1,
              "#f0f921"
             ]
            ],
            "type": "histogram2dcontour"
           }
          ],
          "mesh3d": [
           {
            "colorbar": {
             "outlinewidth": 0,
             "ticks": ""
            },
            "type": "mesh3d"
           }
          ],
          "parcoords": [
           {
            "line": {
             "colorbar": {
              "outlinewidth": 0,
              "ticks": ""
             }
            },
            "type": "parcoords"
           }
          ],
          "pie": [
           {
            "automargin": true,
            "type": "pie"
           }
          ],
          "scatter": [
           {
            "marker": {
             "colorbar": {
              "outlinewidth": 0,
              "ticks": ""
             }
            },
            "type": "scatter"
           }
          ],
          "scatter3d": [
           {
            "line": {
             "colorbar": {
              "outlinewidth": 0,
              "ticks": ""
             }
            },
            "marker": {
             "colorbar": {
              "outlinewidth": 0,
              "ticks": ""
             }
            },
            "type": "scatter3d"
           }
          ],
          "scattercarpet": [
           {
            "marker": {
             "colorbar": {
              "outlinewidth": 0,
              "ticks": ""
             }
            },
            "type": "scattercarpet"
           }
          ],
          "scattergeo": [
           {
            "marker": {
             "colorbar": {
              "outlinewidth": 0,
              "ticks": ""
             }
            },
            "type": "scattergeo"
           }
          ],
          "scattergl": [
           {
            "marker": {
             "colorbar": {
              "outlinewidth": 0,
              "ticks": ""
             }
            },
            "type": "scattergl"
           }
          ],
          "scattermapbox": [
           {
            "marker": {
             "colorbar": {
              "outlinewidth": 0,
              "ticks": ""
             }
            },
            "type": "scattermapbox"
           }
          ],
          "scatterpolar": [
           {
            "marker": {
             "colorbar": {
              "outlinewidth": 0,
              "ticks": ""
             }
            },
            "type": "scatterpolar"
           }
          ],
          "scatterpolargl": [
           {
            "marker": {
             "colorbar": {
              "outlinewidth": 0,
              "ticks": ""
             }
            },
            "type": "scatterpolargl"
           }
          ],
          "scatterternary": [
           {
            "marker": {
             "colorbar": {
              "outlinewidth": 0,
              "ticks": ""
             }
            },
            "type": "scatterternary"
           }
          ],
          "surface": [
           {
            "colorbar": {
             "outlinewidth": 0,
             "ticks": ""
            },
            "colorscale": [
             [
              0,
              "#0d0887"
             ],
             [
              0.1111111111111111,
              "#46039f"
             ],
             [
              0.2222222222222222,
              "#7201a8"
             ],
             [
              0.3333333333333333,
              "#9c179e"
             ],
             [
              0.4444444444444444,
              "#bd3786"
             ],
             [
              0.5555555555555556,
              "#d8576b"
             ],
             [
              0.6666666666666666,
              "#ed7953"
             ],
             [
              0.7777777777777778,
              "#fb9f3a"
             ],
             [
              0.8888888888888888,
              "#fdca26"
             ],
             [
              1,
              "#f0f921"
             ]
            ],
            "type": "surface"
           }
          ],
          "table": [
           {
            "cells": {
             "fill": {
              "color": "#EBF0F8"
             },
             "line": {
              "color": "white"
             }
            },
            "header": {
             "fill": {
              "color": "#C8D4E3"
             },
             "line": {
              "color": "white"
             }
            },
            "type": "table"
           }
          ]
         },
         "layout": {
          "annotationdefaults": {
           "arrowcolor": "#2a3f5f",
           "arrowhead": 0,
           "arrowwidth": 1
          },
          "coloraxis": {
           "colorbar": {
            "outlinewidth": 0,
            "ticks": ""
           }
          },
          "colorscale": {
           "diverging": [
            [
             0,
             "#8e0152"
            ],
            [
             0.1,
             "#c51b7d"
            ],
            [
             0.2,
             "#de77ae"
            ],
            [
             0.3,
             "#f1b6da"
            ],
            [
             0.4,
             "#fde0ef"
            ],
            [
             0.5,
             "#f7f7f7"
            ],
            [
             0.6,
             "#e6f5d0"
            ],
            [
             0.7,
             "#b8e186"
            ],
            [
             0.8,
             "#7fbc41"
            ],
            [
             0.9,
             "#4d9221"
            ],
            [
             1,
             "#276419"
            ]
           ],
           "sequential": [
            [
             0,
             "#0d0887"
            ],
            [
             0.1111111111111111,
             "#46039f"
            ],
            [
             0.2222222222222222,
             "#7201a8"
            ],
            [
             0.3333333333333333,
             "#9c179e"
            ],
            [
             0.4444444444444444,
             "#bd3786"
            ],
            [
             0.5555555555555556,
             "#d8576b"
            ],
            [
             0.6666666666666666,
             "#ed7953"
            ],
            [
             0.7777777777777778,
             "#fb9f3a"
            ],
            [
             0.8888888888888888,
             "#fdca26"
            ],
            [
             1,
             "#f0f921"
            ]
           ],
           "sequentialminus": [
            [
             0,
             "#0d0887"
            ],
            [
             0.1111111111111111,
             "#46039f"
            ],
            [
             0.2222222222222222,
             "#7201a8"
            ],
            [
             0.3333333333333333,
             "#9c179e"
            ],
            [
             0.4444444444444444,
             "#bd3786"
            ],
            [
             0.5555555555555556,
             "#d8576b"
            ],
            [
             0.6666666666666666,
             "#ed7953"
            ],
            [
             0.7777777777777778,
             "#fb9f3a"
            ],
            [
             0.8888888888888888,
             "#fdca26"
            ],
            [
             1,
             "#f0f921"
            ]
           ]
          },
          "colorway": [
           "#636efa",
           "#EF553B",
           "#00cc96",
           "#ab63fa",
           "#FFA15A",
           "#19d3f3",
           "#FF6692",
           "#B6E880",
           "#FF97FF",
           "#FECB52"
          ],
          "font": {
           "color": "#2a3f5f"
          },
          "geo": {
           "bgcolor": "white",
           "lakecolor": "white",
           "landcolor": "#E5ECF6",
           "showlakes": true,
           "showland": true,
           "subunitcolor": "white"
          },
          "hoverlabel": {
           "align": "left"
          },
          "hovermode": "closest",
          "mapbox": {
           "style": "light"
          },
          "paper_bgcolor": "white",
          "plot_bgcolor": "#E5ECF6",
          "polar": {
           "angularaxis": {
            "gridcolor": "white",
            "linecolor": "white",
            "ticks": ""
           },
           "bgcolor": "#E5ECF6",
           "radialaxis": {
            "gridcolor": "white",
            "linecolor": "white",
            "ticks": ""
           }
          },
          "scene": {
           "xaxis": {
            "backgroundcolor": "#E5ECF6",
            "gridcolor": "white",
            "gridwidth": 2,
            "linecolor": "white",
            "showbackground": true,
            "ticks": "",
            "zerolinecolor": "white"
           },
           "yaxis": {
            "backgroundcolor": "#E5ECF6",
            "gridcolor": "white",
            "gridwidth": 2,
            "linecolor": "white",
            "showbackground": true,
            "ticks": "",
            "zerolinecolor": "white"
           },
           "zaxis": {
            "backgroundcolor": "#E5ECF6",
            "gridcolor": "white",
            "gridwidth": 2,
            "linecolor": "white",
            "showbackground": true,
            "ticks": "",
            "zerolinecolor": "white"
           }
          },
          "shapedefaults": {
           "line": {
            "color": "#2a3f5f"
           }
          },
          "ternary": {
           "aaxis": {
            "gridcolor": "white",
            "linecolor": "white",
            "ticks": ""
           },
           "baxis": {
            "gridcolor": "white",
            "linecolor": "white",
            "ticks": ""
           },
           "bgcolor": "#E5ECF6",
           "caxis": {
            "gridcolor": "white",
            "linecolor": "white",
            "ticks": ""
           }
          },
          "title": {
           "x": 0.05
          },
          "xaxis": {
           "automargin": true,
           "gridcolor": "white",
           "linecolor": "white",
           "ticks": "",
           "title": {
            "standoff": 15
           },
           "zerolinecolor": "white",
           "zerolinewidth": 2
          },
          "yaxis": {
           "automargin": true,
           "gridcolor": "white",
           "linecolor": "white",
           "ticks": "",
           "title": {
            "standoff": 15
           },
           "zerolinecolor": "white",
           "zerolinewidth": 2
          }
         }
        },
        "title": {
         "text": "User Type"
        }
       }
      },
      "text/html": [
       "<div>                            <div id=\"838fa113-c170-445b-9903-6f8ae6288405\" class=\"plotly-graph-div\" style=\"height:525px; width:100%;\"></div>            <script type=\"text/javascript\">                require([\"plotly\"], function(Plotly) {                    window.PLOTLYENV=window.PLOTLYENV || {};                                    if (document.getElementById(\"838fa113-c170-445b-9903-6f8ae6288405\")) {                    Plotly.newPlot(                        \"838fa113-c170-445b-9903-6f8ae6288405\",                        [{\"labels\": [\"Subscriber\", \"Customer\"], \"type\": \"pie\", \"values\": [695752, 26777]}],                        {\"template\": {\"data\": {\"bar\": [{\"error_x\": {\"color\": \"#2a3f5f\"}, \"error_y\": {\"color\": \"#2a3f5f\"}, \"marker\": {\"line\": {\"color\": \"#E5ECF6\", \"width\": 0.5}}, \"type\": \"bar\"}], \"barpolar\": [{\"marker\": {\"line\": {\"color\": \"#E5ECF6\", \"width\": 0.5}}, \"type\": \"barpolar\"}], \"carpet\": [{\"aaxis\": {\"endlinecolor\": \"#2a3f5f\", \"gridcolor\": \"white\", \"linecolor\": \"white\", \"minorgridcolor\": \"white\", \"startlinecolor\": \"#2a3f5f\"}, \"baxis\": {\"endlinecolor\": \"#2a3f5f\", \"gridcolor\": \"white\", \"linecolor\": \"white\", \"minorgridcolor\": \"white\", \"startlinecolor\": \"#2a3f5f\"}, \"type\": \"carpet\"}], \"choropleth\": [{\"colorbar\": {\"outlinewidth\": 0, \"ticks\": \"\"}, \"type\": \"choropleth\"}], \"contour\": [{\"colorbar\": {\"outlinewidth\": 0, \"ticks\": \"\"}, \"colorscale\": [[0.0, \"#0d0887\"], [0.1111111111111111, \"#46039f\"], [0.2222222222222222, \"#7201a8\"], [0.3333333333333333, \"#9c179e\"], [0.4444444444444444, \"#bd3786\"], [0.5555555555555556, \"#d8576b\"], [0.6666666666666666, \"#ed7953\"], [0.7777777777777778, \"#fb9f3a\"], [0.8888888888888888, \"#fdca26\"], [1.0, \"#f0f921\"]], \"type\": \"contour\"}], \"contourcarpet\": [{\"colorbar\": {\"outlinewidth\": 0, \"ticks\": \"\"}, \"type\": \"contourcarpet\"}], \"heatmap\": [{\"colorbar\": {\"outlinewidth\": 0, \"ticks\": \"\"}, \"colorscale\": [[0.0, \"#0d0887\"], [0.1111111111111111, \"#46039f\"], [0.2222222222222222, \"#7201a8\"], [0.3333333333333333, \"#9c179e\"], [0.4444444444444444, \"#bd3786\"], [0.5555555555555556, \"#d8576b\"], [0.6666666666666666, \"#ed7953\"], [0.7777777777777778, \"#fb9f3a\"], [0.8888888888888888, \"#fdca26\"], [1.0, \"#f0f921\"]], \"type\": \"heatmap\"}], \"heatmapgl\": [{\"colorbar\": {\"outlinewidth\": 0, \"ticks\": \"\"}, \"colorscale\": [[0.0, \"#0d0887\"], [0.1111111111111111, \"#46039f\"], [0.2222222222222222, \"#7201a8\"], [0.3333333333333333, \"#9c179e\"], [0.4444444444444444, \"#bd3786\"], [0.5555555555555556, \"#d8576b\"], [0.6666666666666666, \"#ed7953\"], [0.7777777777777778, \"#fb9f3a\"], [0.8888888888888888, \"#fdca26\"], [1.0, \"#f0f921\"]], \"type\": \"heatmapgl\"}], \"histogram\": [{\"marker\": {\"colorbar\": {\"outlinewidth\": 0, \"ticks\": \"\"}}, \"type\": \"histogram\"}], \"histogram2d\": [{\"colorbar\": {\"outlinewidth\": 0, \"ticks\": \"\"}, \"colorscale\": [[0.0, \"#0d0887\"], [0.1111111111111111, \"#46039f\"], [0.2222222222222222, \"#7201a8\"], [0.3333333333333333, \"#9c179e\"], [0.4444444444444444, \"#bd3786\"], [0.5555555555555556, \"#d8576b\"], [0.6666666666666666, \"#ed7953\"], [0.7777777777777778, \"#fb9f3a\"], [0.8888888888888888, \"#fdca26\"], [1.0, \"#f0f921\"]], \"type\": \"histogram2d\"}], \"histogram2dcontour\": [{\"colorbar\": {\"outlinewidth\": 0, \"ticks\": \"\"}, \"colorscale\": [[0.0, \"#0d0887\"], [0.1111111111111111, \"#46039f\"], [0.2222222222222222, \"#7201a8\"], [0.3333333333333333, \"#9c179e\"], [0.4444444444444444, \"#bd3786\"], [0.5555555555555556, \"#d8576b\"], [0.6666666666666666, \"#ed7953\"], [0.7777777777777778, \"#fb9f3a\"], [0.8888888888888888, \"#fdca26\"], [1.0, \"#f0f921\"]], \"type\": \"histogram2dcontour\"}], \"mesh3d\": [{\"colorbar\": {\"outlinewidth\": 0, \"ticks\": \"\"}, \"type\": \"mesh3d\"}], \"parcoords\": [{\"line\": {\"colorbar\": {\"outlinewidth\": 0, \"ticks\": \"\"}}, \"type\": \"parcoords\"}], \"pie\": [{\"automargin\": true, \"type\": \"pie\"}], \"scatter\": [{\"marker\": {\"colorbar\": {\"outlinewidth\": 0, \"ticks\": \"\"}}, \"type\": \"scatter\"}], \"scatter3d\": [{\"line\": {\"colorbar\": {\"outlinewidth\": 0, \"ticks\": \"\"}}, \"marker\": {\"colorbar\": {\"outlinewidth\": 0, \"ticks\": \"\"}}, \"type\": \"scatter3d\"}], \"scattercarpet\": [{\"marker\": {\"colorbar\": {\"outlinewidth\": 0, \"ticks\": \"\"}}, \"type\": \"scattercarpet\"}], \"scattergeo\": [{\"marker\": {\"colorbar\": {\"outlinewidth\": 0, \"ticks\": \"\"}}, \"type\": \"scattergeo\"}], \"scattergl\": [{\"marker\": {\"colorbar\": {\"outlinewidth\": 0, \"ticks\": \"\"}}, \"type\": \"scattergl\"}], \"scattermapbox\": [{\"marker\": {\"colorbar\": {\"outlinewidth\": 0, \"ticks\": \"\"}}, \"type\": \"scattermapbox\"}], \"scatterpolar\": [{\"marker\": {\"colorbar\": {\"outlinewidth\": 0, \"ticks\": \"\"}}, \"type\": \"scatterpolar\"}], \"scatterpolargl\": [{\"marker\": {\"colorbar\": {\"outlinewidth\": 0, \"ticks\": \"\"}}, \"type\": \"scatterpolargl\"}], \"scatterternary\": [{\"marker\": {\"colorbar\": {\"outlinewidth\": 0, \"ticks\": \"\"}}, \"type\": \"scatterternary\"}], \"surface\": [{\"colorbar\": {\"outlinewidth\": 0, \"ticks\": \"\"}, \"colorscale\": [[0.0, \"#0d0887\"], [0.1111111111111111, \"#46039f\"], [0.2222222222222222, \"#7201a8\"], [0.3333333333333333, \"#9c179e\"], [0.4444444444444444, \"#bd3786\"], [0.5555555555555556, \"#d8576b\"], [0.6666666666666666, \"#ed7953\"], [0.7777777777777778, \"#fb9f3a\"], [0.8888888888888888, \"#fdca26\"], [1.0, \"#f0f921\"]], \"type\": \"surface\"}], \"table\": [{\"cells\": {\"fill\": {\"color\": \"#EBF0F8\"}, \"line\": {\"color\": \"white\"}}, \"header\": {\"fill\": {\"color\": \"#C8D4E3\"}, \"line\": {\"color\": \"white\"}}, \"type\": \"table\"}]}, \"layout\": {\"annotationdefaults\": {\"arrowcolor\": \"#2a3f5f\", \"arrowhead\": 0, \"arrowwidth\": 1}, \"coloraxis\": {\"colorbar\": {\"outlinewidth\": 0, \"ticks\": \"\"}}, \"colorscale\": {\"diverging\": [[0, \"#8e0152\"], [0.1, \"#c51b7d\"], [0.2, \"#de77ae\"], [0.3, \"#f1b6da\"], [0.4, \"#fde0ef\"], [0.5, \"#f7f7f7\"], [0.6, \"#e6f5d0\"], [0.7, \"#b8e186\"], [0.8, \"#7fbc41\"], [0.9, \"#4d9221\"], [1, \"#276419\"]], \"sequential\": [[0.0, \"#0d0887\"], [0.1111111111111111, \"#46039f\"], [0.2222222222222222, \"#7201a8\"], [0.3333333333333333, \"#9c179e\"], [0.4444444444444444, \"#bd3786\"], [0.5555555555555556, \"#d8576b\"], [0.6666666666666666, \"#ed7953\"], [0.7777777777777778, \"#fb9f3a\"], [0.8888888888888888, \"#fdca26\"], [1.0, \"#f0f921\"]], \"sequentialminus\": [[0.0, \"#0d0887\"], [0.1111111111111111, \"#46039f\"], [0.2222222222222222, \"#7201a8\"], [0.3333333333333333, \"#9c179e\"], [0.4444444444444444, \"#bd3786\"], [0.5555555555555556, \"#d8576b\"], [0.6666666666666666, \"#ed7953\"], [0.7777777777777778, \"#fb9f3a\"], [0.8888888888888888, \"#fdca26\"], [1.0, \"#f0f921\"]]}, \"colorway\": [\"#636efa\", \"#EF553B\", \"#00cc96\", \"#ab63fa\", \"#FFA15A\", \"#19d3f3\", \"#FF6692\", \"#B6E880\", \"#FF97FF\", \"#FECB52\"], \"font\": {\"color\": \"#2a3f5f\"}, \"geo\": {\"bgcolor\": \"white\", \"lakecolor\": \"white\", \"landcolor\": \"#E5ECF6\", \"showlakes\": true, \"showland\": true, \"subunitcolor\": \"white\"}, \"hoverlabel\": {\"align\": \"left\"}, \"hovermode\": \"closest\", \"mapbox\": {\"style\": \"light\"}, \"paper_bgcolor\": \"white\", \"plot_bgcolor\": \"#E5ECF6\", \"polar\": {\"angularaxis\": {\"gridcolor\": \"white\", \"linecolor\": \"white\", \"ticks\": \"\"}, \"bgcolor\": \"#E5ECF6\", \"radialaxis\": {\"gridcolor\": \"white\", \"linecolor\": \"white\", \"ticks\": \"\"}}, \"scene\": {\"xaxis\": {\"backgroundcolor\": \"#E5ECF6\", \"gridcolor\": \"white\", \"gridwidth\": 2, \"linecolor\": \"white\", \"showbackground\": true, \"ticks\": \"\", \"zerolinecolor\": \"white\"}, \"yaxis\": {\"backgroundcolor\": \"#E5ECF6\", \"gridcolor\": \"white\", \"gridwidth\": 2, \"linecolor\": \"white\", \"showbackground\": true, \"ticks\": \"\", \"zerolinecolor\": \"white\"}, \"zaxis\": {\"backgroundcolor\": \"#E5ECF6\", \"gridcolor\": \"white\", \"gridwidth\": 2, \"linecolor\": \"white\", \"showbackground\": true, \"ticks\": \"\", \"zerolinecolor\": \"white\"}}, \"shapedefaults\": {\"line\": {\"color\": \"#2a3f5f\"}}, \"ternary\": {\"aaxis\": {\"gridcolor\": \"white\", \"linecolor\": \"white\", \"ticks\": \"\"}, \"baxis\": {\"gridcolor\": \"white\", \"linecolor\": \"white\", \"ticks\": \"\"}, \"bgcolor\": \"#E5ECF6\", \"caxis\": {\"gridcolor\": \"white\", \"linecolor\": \"white\", \"ticks\": \"\"}}, \"title\": {\"x\": 0.05}, \"xaxis\": {\"automargin\": true, \"gridcolor\": \"white\", \"linecolor\": \"white\", \"ticks\": \"\", \"title\": {\"standoff\": 15}, \"zerolinecolor\": \"white\", \"zerolinewidth\": 2}, \"yaxis\": {\"automargin\": true, \"gridcolor\": \"white\", \"linecolor\": \"white\", \"ticks\": \"\", \"title\": {\"standoff\": 15}, \"zerolinecolor\": \"white\", \"zerolinewidth\": 2}}}, \"title\": {\"text\": \"User Type\"}},                        {\"responsive\": true}                    ).then(function(){\n",
       "                            \n",
       "var gd = document.getElementById('838fa113-c170-445b-9903-6f8ae6288405');\n",
       "var x = new MutationObserver(function (mutations, observer) {{\n",
       "        var display = window.getComputedStyle(gd).display;\n",
       "        if (!display || display === 'none') {{\n",
       "            console.log([gd, 'removed!']);\n",
       "            Plotly.purge(gd);\n",
       "            observer.disconnect();\n",
       "        }}\n",
       "}});\n",
       "\n",
       "// Listen for the removal of the full notebook cells\n",
       "var notebookContainer = gd.closest('#notebook-container');\n",
       "if (notebookContainer) {{\n",
       "    x.observe(notebookContainer, {childList: true});\n",
       "}}\n",
       "\n",
       "// Listen for the clearing of the current output cell\n",
       "var outputEl = gd.closest('.output');\n",
       "if (outputEl) {{\n",
       "    x.observe(outputEl, {childList: true});\n",
       "}}\n",
       "\n",
       "                        })                };                });            </script>        </div>"
      ]
     },
     "metadata": {},
     "output_type": "display_data"
    }
   ],
   "source": [
    "layout = go.Layout(\n",
    "    title='User Type',\n",
    ")\n",
    "trace = go.Pie(labels=customer_type_df['type'].values, values=customer_type_df['count'].values)\n",
    "fig = go.Figure(data=[trace], layout=layout)\n",
    "iplot(fig)"
   ]
  },
  {
   "cell_type": "code",
   "execution_count": 369,
   "metadata": {
    "_uuid": "777733f7831834bf0921cae40e041504881be4cb"
   },
   "outputs": [
    {
     "data": {
      "application/vnd.plotly.v1+json": {
       "config": {
        "linkText": "Export to plot.ly",
        "plotlyServerURL": "https://plot.ly",
        "showLink": false
       },
       "data": [
        {
         "hoverinfo": "text",
         "marker": {
          "color": "purple"
         },
         "name": "Women",
         "orientation": "h",
         "text": [],
         "type": "bar",
         "x": [
          0,
          -922,
          -39624,
          -42583,
          -25633,
          -21102,
          -6313,
          -719,
          -34,
          -37
         ],
         "y": [
          0,
          10,
          20,
          30,
          40,
          50,
          60,
          70,
          80,
          90,
          100
         ]
        },
        {
         "hoverinfo": "x",
         "marker": {
          "color": "plum"
         },
         "name": "Men",
         "orientation": "h",
         "type": "bar",
         "x": [
          0,
          3571,
          116959,
          155625,
          107767,
          72546,
          25546,
          3422,
          87,
          21
         ],
         "y": [
          0,
          10,
          20,
          30,
          40,
          50,
          60,
          70,
          80,
          90,
          100
         ]
        }
       ],
       "layout": {
        "bargap": 0.1,
        "barmode": "overlay",
        "template": {
         "data": {
          "bar": [
           {
            "error_x": {
             "color": "#2a3f5f"
            },
            "error_y": {
             "color": "#2a3f5f"
            },
            "marker": {
             "line": {
              "color": "#E5ECF6",
              "width": 0.5
             }
            },
            "type": "bar"
           }
          ],
          "barpolar": [
           {
            "marker": {
             "line": {
              "color": "#E5ECF6",
              "width": 0.5
             }
            },
            "type": "barpolar"
           }
          ],
          "carpet": [
           {
            "aaxis": {
             "endlinecolor": "#2a3f5f",
             "gridcolor": "white",
             "linecolor": "white",
             "minorgridcolor": "white",
             "startlinecolor": "#2a3f5f"
            },
            "baxis": {
             "endlinecolor": "#2a3f5f",
             "gridcolor": "white",
             "linecolor": "white",
             "minorgridcolor": "white",
             "startlinecolor": "#2a3f5f"
            },
            "type": "carpet"
           }
          ],
          "choropleth": [
           {
            "colorbar": {
             "outlinewidth": 0,
             "ticks": ""
            },
            "type": "choropleth"
           }
          ],
          "contour": [
           {
            "colorbar": {
             "outlinewidth": 0,
             "ticks": ""
            },
            "colorscale": [
             [
              0,
              "#0d0887"
             ],
             [
              0.1111111111111111,
              "#46039f"
             ],
             [
              0.2222222222222222,
              "#7201a8"
             ],
             [
              0.3333333333333333,
              "#9c179e"
             ],
             [
              0.4444444444444444,
              "#bd3786"
             ],
             [
              0.5555555555555556,
              "#d8576b"
             ],
             [
              0.6666666666666666,
              "#ed7953"
             ],
             [
              0.7777777777777778,
              "#fb9f3a"
             ],
             [
              0.8888888888888888,
              "#fdca26"
             ],
             [
              1,
              "#f0f921"
             ]
            ],
            "type": "contour"
           }
          ],
          "contourcarpet": [
           {
            "colorbar": {
             "outlinewidth": 0,
             "ticks": ""
            },
            "type": "contourcarpet"
           }
          ],
          "heatmap": [
           {
            "colorbar": {
             "outlinewidth": 0,
             "ticks": ""
            },
            "colorscale": [
             [
              0,
              "#0d0887"
             ],
             [
              0.1111111111111111,
              "#46039f"
             ],
             [
              0.2222222222222222,
              "#7201a8"
             ],
             [
              0.3333333333333333,
              "#9c179e"
             ],
             [
              0.4444444444444444,
              "#bd3786"
             ],
             [
              0.5555555555555556,
              "#d8576b"
             ],
             [
              0.6666666666666666,
              "#ed7953"
             ],
             [
              0.7777777777777778,
              "#fb9f3a"
             ],
             [
              0.8888888888888888,
              "#fdca26"
             ],
             [
              1,
              "#f0f921"
             ]
            ],
            "type": "heatmap"
           }
          ],
          "heatmapgl": [
           {
            "colorbar": {
             "outlinewidth": 0,
             "ticks": ""
            },
            "colorscale": [
             [
              0,
              "#0d0887"
             ],
             [
              0.1111111111111111,
              "#46039f"
             ],
             [
              0.2222222222222222,
              "#7201a8"
             ],
             [
              0.3333333333333333,
              "#9c179e"
             ],
             [
              0.4444444444444444,
              "#bd3786"
             ],
             [
              0.5555555555555556,
              "#d8576b"
             ],
             [
              0.6666666666666666,
              "#ed7953"
             ],
             [
              0.7777777777777778,
              "#fb9f3a"
             ],
             [
              0.8888888888888888,
              "#fdca26"
             ],
             [
              1,
              "#f0f921"
             ]
            ],
            "type": "heatmapgl"
           }
          ],
          "histogram": [
           {
            "marker": {
             "colorbar": {
              "outlinewidth": 0,
              "ticks": ""
             }
            },
            "type": "histogram"
           }
          ],
          "histogram2d": [
           {
            "colorbar": {
             "outlinewidth": 0,
             "ticks": ""
            },
            "colorscale": [
             [
              0,
              "#0d0887"
             ],
             [
              0.1111111111111111,
              "#46039f"
             ],
             [
              0.2222222222222222,
              "#7201a8"
             ],
             [
              0.3333333333333333,
              "#9c179e"
             ],
             [
              0.4444444444444444,
              "#bd3786"
             ],
             [
              0.5555555555555556,
              "#d8576b"
             ],
             [
              0.6666666666666666,
              "#ed7953"
             ],
             [
              0.7777777777777778,
              "#fb9f3a"
             ],
             [
              0.8888888888888888,
              "#fdca26"
             ],
             [
              1,
              "#f0f921"
             ]
            ],
            "type": "histogram2d"
           }
          ],
          "histogram2dcontour": [
           {
            "colorbar": {
             "outlinewidth": 0,
             "ticks": ""
            },
            "colorscale": [
             [
              0,
              "#0d0887"
             ],
             [
              0.1111111111111111,
              "#46039f"
             ],
             [
              0.2222222222222222,
              "#7201a8"
             ],
             [
              0.3333333333333333,
              "#9c179e"
             ],
             [
              0.4444444444444444,
              "#bd3786"
             ],
             [
              0.5555555555555556,
              "#d8576b"
             ],
             [
              0.6666666666666666,
              "#ed7953"
             ],
             [
              0.7777777777777778,
              "#fb9f3a"
             ],
             [
              0.8888888888888888,
              "#fdca26"
             ],
             [
              1,
              "#f0f921"
             ]
            ],
            "type": "histogram2dcontour"
           }
          ],
          "mesh3d": [
           {
            "colorbar": {
             "outlinewidth": 0,
             "ticks": ""
            },
            "type": "mesh3d"
           }
          ],
          "parcoords": [
           {
            "line": {
             "colorbar": {
              "outlinewidth": 0,
              "ticks": ""
             }
            },
            "type": "parcoords"
           }
          ],
          "pie": [
           {
            "automargin": true,
            "type": "pie"
           }
          ],
          "scatter": [
           {
            "marker": {
             "colorbar": {
              "outlinewidth": 0,
              "ticks": ""
             }
            },
            "type": "scatter"
           }
          ],
          "scatter3d": [
           {
            "line": {
             "colorbar": {
              "outlinewidth": 0,
              "ticks": ""
             }
            },
            "marker": {
             "colorbar": {
              "outlinewidth": 0,
              "ticks": ""
             }
            },
            "type": "scatter3d"
           }
          ],
          "scattercarpet": [
           {
            "marker": {
             "colorbar": {
              "outlinewidth": 0,
              "ticks": ""
             }
            },
            "type": "scattercarpet"
           }
          ],
          "scattergeo": [
           {
            "marker": {
             "colorbar": {
              "outlinewidth": 0,
              "ticks": ""
             }
            },
            "type": "scattergeo"
           }
          ],
          "scattergl": [
           {
            "marker": {
             "colorbar": {
              "outlinewidth": 0,
              "ticks": ""
             }
            },
            "type": "scattergl"
           }
          ],
          "scattermapbox": [
           {
            "marker": {
             "colorbar": {
              "outlinewidth": 0,
              "ticks": ""
             }
            },
            "type": "scattermapbox"
           }
          ],
          "scatterpolar": [
           {
            "marker": {
             "colorbar": {
              "outlinewidth": 0,
              "ticks": ""
             }
            },
            "type": "scatterpolar"
           }
          ],
          "scatterpolargl": [
           {
            "marker": {
             "colorbar": {
              "outlinewidth": 0,
              "ticks": ""
             }
            },
            "type": "scatterpolargl"
           }
          ],
          "scatterternary": [
           {
            "marker": {
             "colorbar": {
              "outlinewidth": 0,
              "ticks": ""
             }
            },
            "type": "scatterternary"
           }
          ],
          "surface": [
           {
            "colorbar": {
             "outlinewidth": 0,
             "ticks": ""
            },
            "colorscale": [
             [
              0,
              "#0d0887"
             ],
             [
              0.1111111111111111,
              "#46039f"
             ],
             [
              0.2222222222222222,
              "#7201a8"
             ],
             [
              0.3333333333333333,
              "#9c179e"
             ],
             [
              0.4444444444444444,
              "#bd3786"
             ],
             [
              0.5555555555555556,
              "#d8576b"
             ],
             [
              0.6666666666666666,
              "#ed7953"
             ],
             [
              0.7777777777777778,
              "#fb9f3a"
             ],
             [
              0.8888888888888888,
              "#fdca26"
             ],
             [
              1,
              "#f0f921"
             ]
            ],
            "type": "surface"
           }
          ],
          "table": [
           {
            "cells": {
             "fill": {
              "color": "#EBF0F8"
             },
             "line": {
              "color": "white"
             }
            },
            "header": {
             "fill": {
              "color": "#C8D4E3"
             },
             "line": {
              "color": "white"
             }
            },
            "type": "table"
           }
          ]
         },
         "layout": {
          "annotationdefaults": {
           "arrowcolor": "#2a3f5f",
           "arrowhead": 0,
           "arrowwidth": 1
          },
          "coloraxis": {
           "colorbar": {
            "outlinewidth": 0,
            "ticks": ""
           }
          },
          "colorscale": {
           "diverging": [
            [
             0,
             "#8e0152"
            ],
            [
             0.1,
             "#c51b7d"
            ],
            [
             0.2,
             "#de77ae"
            ],
            [
             0.3,
             "#f1b6da"
            ],
            [
             0.4,
             "#fde0ef"
            ],
            [
             0.5,
             "#f7f7f7"
            ],
            [
             0.6,
             "#e6f5d0"
            ],
            [
             0.7,
             "#b8e186"
            ],
            [
             0.8,
             "#7fbc41"
            ],
            [
             0.9,
             "#4d9221"
            ],
            [
             1,
             "#276419"
            ]
           ],
           "sequential": [
            [
             0,
             "#0d0887"
            ],
            [
             0.1111111111111111,
             "#46039f"
            ],
            [
             0.2222222222222222,
             "#7201a8"
            ],
            [
             0.3333333333333333,
             "#9c179e"
            ],
            [
             0.4444444444444444,
             "#bd3786"
            ],
            [
             0.5555555555555556,
             "#d8576b"
            ],
            [
             0.6666666666666666,
             "#ed7953"
            ],
            [
             0.7777777777777778,
             "#fb9f3a"
            ],
            [
             0.8888888888888888,
             "#fdca26"
            ],
            [
             1,
             "#f0f921"
            ]
           ],
           "sequentialminus": [
            [
             0,
             "#0d0887"
            ],
            [
             0.1111111111111111,
             "#46039f"
            ],
            [
             0.2222222222222222,
             "#7201a8"
            ],
            [
             0.3333333333333333,
             "#9c179e"
            ],
            [
             0.4444444444444444,
             "#bd3786"
            ],
            [
             0.5555555555555556,
             "#d8576b"
            ],
            [
             0.6666666666666666,
             "#ed7953"
            ],
            [
             0.7777777777777778,
             "#fb9f3a"
            ],
            [
             0.8888888888888888,
             "#fdca26"
            ],
            [
             1,
             "#f0f921"
            ]
           ]
          },
          "colorway": [
           "#636efa",
           "#EF553B",
           "#00cc96",
           "#ab63fa",
           "#FFA15A",
           "#19d3f3",
           "#FF6692",
           "#B6E880",
           "#FF97FF",
           "#FECB52"
          ],
          "font": {
           "color": "#2a3f5f"
          },
          "geo": {
           "bgcolor": "white",
           "lakecolor": "white",
           "landcolor": "#E5ECF6",
           "showlakes": true,
           "showland": true,
           "subunitcolor": "white"
          },
          "hoverlabel": {
           "align": "left"
          },
          "hovermode": "closest",
          "mapbox": {
           "style": "light"
          },
          "paper_bgcolor": "white",
          "plot_bgcolor": "#E5ECF6",
          "polar": {
           "angularaxis": {
            "gridcolor": "white",
            "linecolor": "white",
            "ticks": ""
           },
           "bgcolor": "#E5ECF6",
           "radialaxis": {
            "gridcolor": "white",
            "linecolor": "white",
            "ticks": ""
           }
          },
          "scene": {
           "xaxis": {
            "backgroundcolor": "#E5ECF6",
            "gridcolor": "white",
            "gridwidth": 2,
            "linecolor": "white",
            "showbackground": true,
            "ticks": "",
            "zerolinecolor": "white"
           },
           "yaxis": {
            "backgroundcolor": "#E5ECF6",
            "gridcolor": "white",
            "gridwidth": 2,
            "linecolor": "white",
            "showbackground": true,
            "ticks": "",
            "zerolinecolor": "white"
           },
           "zaxis": {
            "backgroundcolor": "#E5ECF6",
            "gridcolor": "white",
            "gridwidth": 2,
            "linecolor": "white",
            "showbackground": true,
            "ticks": "",
            "zerolinecolor": "white"
           }
          },
          "shapedefaults": {
           "line": {
            "color": "#2a3f5f"
           }
          },
          "ternary": {
           "aaxis": {
            "gridcolor": "white",
            "linecolor": "white",
            "ticks": ""
           },
           "baxis": {
            "gridcolor": "white",
            "linecolor": "white",
            "ticks": ""
           },
           "bgcolor": "#E5ECF6",
           "caxis": {
            "gridcolor": "white",
            "linecolor": "white",
            "ticks": ""
           }
          },
          "title": {
           "x": 0.05
          },
          "xaxis": {
           "automargin": true,
           "gridcolor": "white",
           "linecolor": "white",
           "ticks": "",
           "title": {
            "standoff": 15
           },
           "zerolinecolor": "white",
           "zerolinewidth": 2
          },
          "yaxis": {
           "automargin": true,
           "gridcolor": "white",
           "linecolor": "white",
           "ticks": "",
           "title": {
            "standoff": 15
           },
           "zerolinecolor": "white",
           "zerolinewidth": 2
          }
         }
        },
        "title": {
         "text": "Gender"
        },
        "yaxis": {
         "title": {
          "text": "Age"
         }
        }
       }
      },
      "text/html": [
       "<div>                            <div id=\"322d4811-29db-4f33-9876-970ccdb6c00c\" class=\"plotly-graph-div\" style=\"height:525px; width:100%;\"></div>            <script type=\"text/javascript\">                require([\"plotly\"], function(Plotly) {                    window.PLOTLYENV=window.PLOTLYENV || {};                                    if (document.getElementById(\"322d4811-29db-4f33-9876-970ccdb6c00c\")) {                    Plotly.newPlot(                        \"322d4811-29db-4f33-9876-970ccdb6c00c\",                        [{\"hoverinfo\": \"text\", \"marker\": {\"color\": \"purple\"}, \"name\": \"Women\", \"orientation\": \"h\", \"text\": [], \"type\": \"bar\", \"x\": [0, -922, -39624, -42583, -25633, -21102, -6313, -719, -34, -37], \"y\": [0, 10, 20, 30, 40, 50, 60, 70, 80, 90, 100]}, {\"hoverinfo\": \"x\", \"marker\": {\"color\": \"plum\"}, \"name\": \"Men\", \"orientation\": \"h\", \"type\": \"bar\", \"x\": [0, 3571, 116959, 155625, 107767, 72546, 25546, 3422, 87, 21], \"y\": [0, 10, 20, 30, 40, 50, 60, 70, 80, 90, 100]}],                        {\"bargap\": 0.1, \"barmode\": \"overlay\", \"template\": {\"data\": {\"bar\": [{\"error_x\": {\"color\": \"#2a3f5f\"}, \"error_y\": {\"color\": \"#2a3f5f\"}, \"marker\": {\"line\": {\"color\": \"#E5ECF6\", \"width\": 0.5}}, \"type\": \"bar\"}], \"barpolar\": [{\"marker\": {\"line\": {\"color\": \"#E5ECF6\", \"width\": 0.5}}, \"type\": \"barpolar\"}], \"carpet\": [{\"aaxis\": {\"endlinecolor\": \"#2a3f5f\", \"gridcolor\": \"white\", \"linecolor\": \"white\", \"minorgridcolor\": \"white\", \"startlinecolor\": \"#2a3f5f\"}, \"baxis\": {\"endlinecolor\": \"#2a3f5f\", \"gridcolor\": \"white\", \"linecolor\": \"white\", \"minorgridcolor\": \"white\", \"startlinecolor\": \"#2a3f5f\"}, \"type\": \"carpet\"}], \"choropleth\": [{\"colorbar\": {\"outlinewidth\": 0, \"ticks\": \"\"}, \"type\": \"choropleth\"}], \"contour\": [{\"colorbar\": {\"outlinewidth\": 0, \"ticks\": \"\"}, \"colorscale\": [[0.0, \"#0d0887\"], [0.1111111111111111, \"#46039f\"], [0.2222222222222222, \"#7201a8\"], [0.3333333333333333, \"#9c179e\"], [0.4444444444444444, \"#bd3786\"], [0.5555555555555556, \"#d8576b\"], [0.6666666666666666, \"#ed7953\"], [0.7777777777777778, \"#fb9f3a\"], [0.8888888888888888, \"#fdca26\"], [1.0, \"#f0f921\"]], \"type\": \"contour\"}], \"contourcarpet\": [{\"colorbar\": {\"outlinewidth\": 0, \"ticks\": \"\"}, \"type\": \"contourcarpet\"}], \"heatmap\": [{\"colorbar\": {\"outlinewidth\": 0, \"ticks\": \"\"}, \"colorscale\": [[0.0, \"#0d0887\"], [0.1111111111111111, \"#46039f\"], [0.2222222222222222, \"#7201a8\"], [0.3333333333333333, \"#9c179e\"], [0.4444444444444444, \"#bd3786\"], [0.5555555555555556, \"#d8576b\"], [0.6666666666666666, \"#ed7953\"], [0.7777777777777778, \"#fb9f3a\"], [0.8888888888888888, \"#fdca26\"], [1.0, \"#f0f921\"]], \"type\": \"heatmap\"}], \"heatmapgl\": [{\"colorbar\": {\"outlinewidth\": 0, \"ticks\": \"\"}, \"colorscale\": [[0.0, \"#0d0887\"], [0.1111111111111111, \"#46039f\"], [0.2222222222222222, \"#7201a8\"], [0.3333333333333333, \"#9c179e\"], [0.4444444444444444, \"#bd3786\"], [0.5555555555555556, \"#d8576b\"], [0.6666666666666666, \"#ed7953\"], [0.7777777777777778, \"#fb9f3a\"], [0.8888888888888888, \"#fdca26\"], [1.0, \"#f0f921\"]], \"type\": \"heatmapgl\"}], \"histogram\": [{\"marker\": {\"colorbar\": {\"outlinewidth\": 0, \"ticks\": \"\"}}, \"type\": \"histogram\"}], \"histogram2d\": [{\"colorbar\": {\"outlinewidth\": 0, \"ticks\": \"\"}, \"colorscale\": [[0.0, \"#0d0887\"], [0.1111111111111111, \"#46039f\"], [0.2222222222222222, \"#7201a8\"], [0.3333333333333333, \"#9c179e\"], [0.4444444444444444, \"#bd3786\"], [0.5555555555555556, \"#d8576b\"], [0.6666666666666666, \"#ed7953\"], [0.7777777777777778, \"#fb9f3a\"], [0.8888888888888888, \"#fdca26\"], [1.0, \"#f0f921\"]], \"type\": \"histogram2d\"}], \"histogram2dcontour\": [{\"colorbar\": {\"outlinewidth\": 0, \"ticks\": \"\"}, \"colorscale\": [[0.0, \"#0d0887\"], [0.1111111111111111, \"#46039f\"], [0.2222222222222222, \"#7201a8\"], [0.3333333333333333, \"#9c179e\"], [0.4444444444444444, \"#bd3786\"], [0.5555555555555556, \"#d8576b\"], [0.6666666666666666, \"#ed7953\"], [0.7777777777777778, \"#fb9f3a\"], [0.8888888888888888, \"#fdca26\"], [1.0, \"#f0f921\"]], \"type\": \"histogram2dcontour\"}], \"mesh3d\": [{\"colorbar\": {\"outlinewidth\": 0, \"ticks\": \"\"}, \"type\": \"mesh3d\"}], \"parcoords\": [{\"line\": {\"colorbar\": {\"outlinewidth\": 0, \"ticks\": \"\"}}, \"type\": \"parcoords\"}], \"pie\": [{\"automargin\": true, \"type\": \"pie\"}], \"scatter\": [{\"marker\": {\"colorbar\": {\"outlinewidth\": 0, \"ticks\": \"\"}}, \"type\": \"scatter\"}], \"scatter3d\": [{\"line\": {\"colorbar\": {\"outlinewidth\": 0, \"ticks\": \"\"}}, \"marker\": {\"colorbar\": {\"outlinewidth\": 0, \"ticks\": \"\"}}, \"type\": \"scatter3d\"}], \"scattercarpet\": [{\"marker\": {\"colorbar\": {\"outlinewidth\": 0, \"ticks\": \"\"}}, \"type\": \"scattercarpet\"}], \"scattergeo\": [{\"marker\": {\"colorbar\": {\"outlinewidth\": 0, \"ticks\": \"\"}}, \"type\": \"scattergeo\"}], \"scattergl\": [{\"marker\": {\"colorbar\": {\"outlinewidth\": 0, \"ticks\": \"\"}}, \"type\": \"scattergl\"}], \"scattermapbox\": [{\"marker\": {\"colorbar\": {\"outlinewidth\": 0, \"ticks\": \"\"}}, \"type\": \"scattermapbox\"}], \"scatterpolar\": [{\"marker\": {\"colorbar\": {\"outlinewidth\": 0, \"ticks\": \"\"}}, \"type\": \"scatterpolar\"}], \"scatterpolargl\": [{\"marker\": {\"colorbar\": {\"outlinewidth\": 0, \"ticks\": \"\"}}, \"type\": \"scatterpolargl\"}], \"scatterternary\": [{\"marker\": {\"colorbar\": {\"outlinewidth\": 0, \"ticks\": \"\"}}, \"type\": \"scatterternary\"}], \"surface\": [{\"colorbar\": {\"outlinewidth\": 0, \"ticks\": \"\"}, \"colorscale\": [[0.0, \"#0d0887\"], [0.1111111111111111, \"#46039f\"], [0.2222222222222222, \"#7201a8\"], [0.3333333333333333, \"#9c179e\"], [0.4444444444444444, \"#bd3786\"], [0.5555555555555556, \"#d8576b\"], [0.6666666666666666, \"#ed7953\"], [0.7777777777777778, \"#fb9f3a\"], [0.8888888888888888, \"#fdca26\"], [1.0, \"#f0f921\"]], \"type\": \"surface\"}], \"table\": [{\"cells\": {\"fill\": {\"color\": \"#EBF0F8\"}, \"line\": {\"color\": \"white\"}}, \"header\": {\"fill\": {\"color\": \"#C8D4E3\"}, \"line\": {\"color\": \"white\"}}, \"type\": \"table\"}]}, \"layout\": {\"annotationdefaults\": {\"arrowcolor\": \"#2a3f5f\", \"arrowhead\": 0, \"arrowwidth\": 1}, \"coloraxis\": {\"colorbar\": {\"outlinewidth\": 0, \"ticks\": \"\"}}, \"colorscale\": {\"diverging\": [[0, \"#8e0152\"], [0.1, \"#c51b7d\"], [0.2, \"#de77ae\"], [0.3, \"#f1b6da\"], [0.4, \"#fde0ef\"], [0.5, \"#f7f7f7\"], [0.6, \"#e6f5d0\"], [0.7, \"#b8e186\"], [0.8, \"#7fbc41\"], [0.9, \"#4d9221\"], [1, \"#276419\"]], \"sequential\": [[0.0, \"#0d0887\"], [0.1111111111111111, \"#46039f\"], [0.2222222222222222, \"#7201a8\"], [0.3333333333333333, \"#9c179e\"], [0.4444444444444444, \"#bd3786\"], [0.5555555555555556, \"#d8576b\"], [0.6666666666666666, \"#ed7953\"], [0.7777777777777778, \"#fb9f3a\"], [0.8888888888888888, \"#fdca26\"], [1.0, \"#f0f921\"]], \"sequentialminus\": [[0.0, \"#0d0887\"], [0.1111111111111111, \"#46039f\"], [0.2222222222222222, \"#7201a8\"], [0.3333333333333333, \"#9c179e\"], [0.4444444444444444, \"#bd3786\"], [0.5555555555555556, \"#d8576b\"], [0.6666666666666666, \"#ed7953\"], [0.7777777777777778, \"#fb9f3a\"], [0.8888888888888888, \"#fdca26\"], [1.0, \"#f0f921\"]]}, \"colorway\": [\"#636efa\", \"#EF553B\", \"#00cc96\", \"#ab63fa\", \"#FFA15A\", \"#19d3f3\", \"#FF6692\", \"#B6E880\", \"#FF97FF\", \"#FECB52\"], \"font\": {\"color\": \"#2a3f5f\"}, \"geo\": {\"bgcolor\": \"white\", \"lakecolor\": \"white\", \"landcolor\": \"#E5ECF6\", \"showlakes\": true, \"showland\": true, \"subunitcolor\": \"white\"}, \"hoverlabel\": {\"align\": \"left\"}, \"hovermode\": \"closest\", \"mapbox\": {\"style\": \"light\"}, \"paper_bgcolor\": \"white\", \"plot_bgcolor\": \"#E5ECF6\", \"polar\": {\"angularaxis\": {\"gridcolor\": \"white\", \"linecolor\": \"white\", \"ticks\": \"\"}, \"bgcolor\": \"#E5ECF6\", \"radialaxis\": {\"gridcolor\": \"white\", \"linecolor\": \"white\", \"ticks\": \"\"}}, \"scene\": {\"xaxis\": {\"backgroundcolor\": \"#E5ECF6\", \"gridcolor\": \"white\", \"gridwidth\": 2, \"linecolor\": \"white\", \"showbackground\": true, \"ticks\": \"\", \"zerolinecolor\": \"white\"}, \"yaxis\": {\"backgroundcolor\": \"#E5ECF6\", \"gridcolor\": \"white\", \"gridwidth\": 2, \"linecolor\": \"white\", \"showbackground\": true, \"ticks\": \"\", \"zerolinecolor\": \"white\"}, \"zaxis\": {\"backgroundcolor\": \"#E5ECF6\", \"gridcolor\": \"white\", \"gridwidth\": 2, \"linecolor\": \"white\", \"showbackground\": true, \"ticks\": \"\", \"zerolinecolor\": \"white\"}}, \"shapedefaults\": {\"line\": {\"color\": \"#2a3f5f\"}}, \"ternary\": {\"aaxis\": {\"gridcolor\": \"white\", \"linecolor\": \"white\", \"ticks\": \"\"}, \"baxis\": {\"gridcolor\": \"white\", \"linecolor\": \"white\", \"ticks\": \"\"}, \"bgcolor\": \"#E5ECF6\", \"caxis\": {\"gridcolor\": \"white\", \"linecolor\": \"white\", \"ticks\": \"\"}}, \"title\": {\"x\": 0.05}, \"xaxis\": {\"automargin\": true, \"gridcolor\": \"white\", \"linecolor\": \"white\", \"ticks\": \"\", \"title\": {\"standoff\": 15}, \"zerolinecolor\": \"white\", \"zerolinewidth\": 2}, \"yaxis\": {\"automargin\": true, \"gridcolor\": \"white\", \"linecolor\": \"white\", \"ticks\": \"\", \"title\": {\"standoff\": 15}, \"zerolinecolor\": \"white\", \"zerolinewidth\": 2}}}, \"title\": {\"text\": \"Gender\"}, \"yaxis\": {\"title\": {\"text\": \"Age\"}}},                        {\"responsive\": true}                    ).then(function(){\n",
       "                            \n",
       "var gd = document.getElementById('322d4811-29db-4f33-9876-970ccdb6c00c');\n",
       "var x = new MutationObserver(function (mutations, observer) {{\n",
       "        var display = window.getComputedStyle(gd).display;\n",
       "        if (!display || display === 'none') {{\n",
       "            console.log([gd, 'removed!']);\n",
       "            Plotly.purge(gd);\n",
       "            observer.disconnect();\n",
       "        }}\n",
       "}});\n",
       "\n",
       "// Listen for the removal of the full notebook cells\n",
       "var notebookContainer = gd.closest('#notebook-container');\n",
       "if (notebookContainer) {{\n",
       "    x.observe(notebookContainer, {childList: true});\n",
       "}}\n",
       "\n",
       "// Listen for the clearing of the current output cell\n",
       "var outputEl = gd.closest('.output');\n",
       "if (outputEl) {{\n",
       "    x.observe(outputEl, {childList: true});\n",
       "}}\n",
       "\n",
       "                        })                };                });            </script>        </div>"
      ]
     },
     "metadata": {},
     "output_type": "display_data"
    }
   ],
   "source": [
    "y = list(range(0, 110, 10))\n",
    "men_bins = []\n",
    "women_bins = []\n",
    "for i in range(0, len(y) - 1):\n",
    "    df_gender = pd.DataFrame(data=df[( df['age'] >  y[i] ) & (df['age'] < y[i+1]) ]['Gender'].value_counts())\n",
    "    df_gender = df_gender.reset_index()\n",
    "    df_gender.rename(columns={'Gender':'count', 'index':'gender'}, inplace=True)\n",
    "    count = df_gender[df_gender['gender'] == 1]['count']\n",
    "    men_bins.append(0 if len(count) == 0 else count.values[0])\n",
    "    count2 = df_gender[df_gender['gender'] == 2]['count']\n",
    "    women_bins.append(0 if len(count2) == 0 else -count2.values[0])\n",
    "    \n",
    "layout = go.Layout(yaxis=go.layout.YAxis(title='Age'),\n",
    "                  title=\"Gender\",\n",
    "                   barmode='overlay',\n",
    "                   bargap=0.1)\n",
    "\n",
    "data = [\n",
    "        go.Bar(y=y,\n",
    "               x=women_bins,\n",
    "               orientation='h',\n",
    "               name='Women',\n",
    "               text=-1 * women_bins,\n",
    "               hoverinfo='text',\n",
    "               marker=dict(color='purple')\n",
    "               ),go.Bar(y=y,\n",
    "               x=men_bins,\n",
    "               orientation='h',\n",
    "               name='Men',\n",
    "               hoverinfo='x',\n",
    "               marker=dict(color='plum')\n",
    "               )]\n",
    "iplot(dict(data=data, layout=layout)) "
   ]
  },
  {
   "cell_type": "code",
   "execution_count": 370,
   "metadata": {
    "_uuid": "6a6fd0875e0c357a63fc00454601eee2398474c4"
   },
   "outputs": [],
   "source": [
    "df['Start Time'] = df['Start Time'].apply(pd.to_datetime)\n",
    "def extract_part_of_day(hour):\n",
    "    if hour < 4:\n",
    "        return 'early morning'\n",
    "    if hour < 10:\n",
    "        return 'morning'\n",
    "    if hour < 14:\n",
    "        return 'noon'\n",
    "    if hour < 18:\n",
    "        return 'afternoon'\n",
    "    return 'evening'\n",
    "df['part_of_day'] = df['Start Time'].apply(lambda t: extract_part_of_day(t.hour))"
   ]
  },
  {
   "cell_type": "code",
   "execution_count": 371,
   "metadata": {
    "_uuid": "7736ab1b35fb00a2dd7ec15e8037849513f5477b"
   },
   "outputs": [],
   "source": [
    "df_station_end = df.groupby(['End Station ID', 'End Station Name', 'End Station Latitude', 'End Station Longitude']).count().reset_index()[['End Station ID', 'End Station Name', 'End Station Latitude', 'End Station Longitude', 'age']]\n",
    "df_station_end.rename(columns={\n",
    "    'End Station ID': 'id',\n",
    "    'End Station Name': 'name',\n",
    "    'End Station Latitude':'lat',\n",
    "    'End Station Longitude': 'lon'\n",
    "}, inplace= True)\n",
    "df_station_start = df.groupby(['Start Station ID', 'Start Station Name', 'Start Station Latitude', 'Start Station Longitude']).count().reset_index()[['Start Station ID', 'Start Station Name', 'Start Station Latitude', 'Start Station Longitude', 'age']]\n",
    "df_station_start.rename(columns={\n",
    "    'Start Station ID': 'id',\n",
    "    'Start Station Name': 'name',\n",
    "    'Start Station Latitude':'lat',\n",
    "    'Start Station Longitude': 'lon'\n",
    "}, inplace= True)\n",
    "\n",
    "df_paths = df.groupby(['End Station ID', 'End Station Name', 'End Station Latitude', 'End Station Longitude','Start Station ID', 'Start Station Name', 'Start Station Latitude', 'Start Station Longitude']).count().reset_index()"
   ]
  },
  {
   "cell_type": "code",
   "execution_count": 372,
   "metadata": {
    "_uuid": "7f99925b54bb19a42bb21593d92324fd8f1c7fe4",
    "scrolled": true
   },
   "outputs": [
    {
     "data": {
      "application/vnd.plotly.v1+json": {
       "config": {
        "linkText": "Export to plot.ly",
        "plotlyServerURL": "https://plot.ly",
        "showLink": false
       },
       "data": [
        {
         "lat": [
          40.76727216,
          40.71911552,
          40.71117416,
          40.68382604,
          40.74177603,
          40.69608941,
          40.68676793,
          40.73172428,
          40.72710258,
          40.69239502,
          40.69839895,
          40.71625008,
          40.720873600000004,
          40.72210378668603,
          40.71473993,
          40.752062306999996,
          40.69089272,
          40.72917025,
          40.75323098,
          40.7489006,
          40.73971301,
          40.76068327096592,
          40.7381765,
          40.70905623,
          40.74334935,
          40.70037867,
          40.70277159,
          40.73781509,
          40.71146364,
          40.74195138,
          40.7546011026,
          40.72743423,
          40.69597683,
          40.7284186,
          40.73047309,
          40.7361967,
          40.69196566,
          40.68981035,
          40.697787,
          40.688226,
          40.69196035,
          40.69327018,
          40.73535398,
          40.72185379,
          40.71870987,
          40.72317958,
          40.73226398,
          40.73543934,
          40.73532427,
          40.646768,
          40.71939226,
          40.68940747,
          40.70122128,
          40.70365182,
          40.69474881,
          40.6917823,
          40.70706456,
          40.72229346,
          40.72368361,
          40.75097711,
          40.71910537,
          40.69308257,
          40.68691865,
          40.68650065,
          40.71748752,
          40.69766564,
          40.707873,
          40.73331967,
          40.764397100000004,
          40.7076449441757,
          40.7390169121,
          40.73454567,
          40.684568299999995,
          40.713126,
          40.73020660529954,
          40.71406667,
          40.71413089,
          40.734232,
          40.68683208,
          40.72217444,
          40.72082834,
          40.72362738,
          40.70463334,
          40.76095756,
          40.70823502,
          40.71427487,
          40.71307916,
          40.7149787,
          40.68926942,
          40.7172274,
          40.722055,
          40.69610226,
          40.69383,
          40.70355377,
          40.70955958,
          40.72453734,
          40.711065999999995,
          40.717571,
          40.69991755,
          40.696191999999996,
          40.69236178,
          40.689888,
          40.73624527,
          40.72953837,
          40.715337899999994,
          40.72405549,
          40.71450451,
          40.71173107,
          40.71219906,
          40.74238787,
          40.72903917,
          40.73047747,
          40.703799200000006,
          40.72580614,
          40.71269042,
          40.71782143,
          40.71739973,
          40.69794,
          40.6851443,
          40.73649403,
          40.73652889,
          40.728846000000004,
          40.72490985,
          40.71850211,
          40.71559509,
          40.70530954,
          40.68539567,
          40.69363137,
          40.71602118,
          40.71622644,
          40.73261787,
          40.73291553,
          40.75510267,
          40.70717936,
          40.71605866,
          40.75172632,
          40.70834698,
          40.68900443,
          40.68223166,
          40.693261,
          40.73038599,
          40.73224119,
          40.694528000000005,
          40.69331716,
          40.70862144,
          40.72243797,
          40.749156,
          40.73401143,
          40.73492695,
          40.735238,
          40.683048,
          40.75797322,
          40.71494807,
          40.71273266,
          40.749717753,
          40.71044554,
          40.69221589,
          40.69760127,
          40.695065,
          40.72299208,
          40.72521311,
          40.68807003,
          40.680342423,
          40.68415748,
          40.69165183,
          40.68851534,
          40.71926081,
          40.72019576,
          40.740343200000005,
          40.72502876,
          40.69512845,
          40.700469,
          40.71076228,
          40.6906495,
          40.72066442,
          40.72228087,
          40.715815500000005,
          40.70281858,
          40.7047177,
          40.68753406,
          40.71291224,
          40.70224,
          40.69580705,
          40.68764484,
          40.69573398,
          40.770513,
          40.76584941,
          40.71754834,
          40.701907,
          40.72467721,
          40.7014851,
          40.72621788,
          40.72955361,
          40.74317449,
          40.74173969,
          40.68216564,
          40.6809833854,
          40.72779126,
          40.726280700000004,
          40.75255434,
          40.756014,
          40.746646999999996,
          40.70853074,
          40.742354299999995,
          40.72740794,
          40.74487634,
          40.76370739,
          40.75660359,
          40.76461837,
          40.76227205,
          40.74475148,
          40.75455731,
          40.75001986,
          40.75971079999999,
          40.76695317,
          40.751396,
          40.746745000000004,
          40.71285887,
          40.73587678,
          40.74691959,
          40.75513557,
          40.74395411,
          40.68312489,
          40.7652654,
          40.76344058,
          40.74345335,
          40.71286844,
          40.745712100000006,
          40.72110063,
          40.7451677,
          40.74394314,
          40.75640548,
          40.76030096,
          40.76019252,
          40.76669671,
          40.71260486,
          40.73935542,
          40.73223272,
          40.75500254,
          40.75038009,
          40.7462009,
          40.73314259,
          40.75645824,
          40.751551,
          40.74096374,
          40.75019995,
          40.7568001,
          40.74734825,
          40.76269882,
          40.73726186,
          40.73704984,
          40.74854862,
          40.76915505,
          40.76228826,
          40.744219,
          40.714215,
          40.73827428,
          40.73221853,
          40.74901271,
          40.73912601,
          40.76341379,
          40.7454973,
          40.72938685,
          40.768254,
          40.76087502,
          40.76009437,
          40.75206862,
          40.751581,
          40.74780373,
          40.751872999999996,
          40.75992262,
          40.75714758,
          40.75466591,
          40.75527307,
          40.75594159,
          40.74765947,
          40.744023,
          40.74290902,
          40.75756989999999,
          40.771522,
          40.71893904,
          40.710451,
          40.75299641,
          40.70255065,
          40.74144387,
          40.74025878,
          40.71534825,
          40.74311555376486,
          40.736502,
          40.74444921,
          40.70255088,
          40.699773,
          40.716887,
          40.73381219196632,
          40.724399,
          40.70531194,
          40.76590936,
          40.70569254,
          40.71117444,
          40.72165481,
          40.739445,
          40.75929124,
          40.759107,
          40.75968085,
          40.711512,
          40.72036775298455,
          40.646678,
          40.67890679,
          40.6794268,
          40.6814598,
          40.6800105,
          40.682601,
          40.682368700000005,
          40.684020000000004,
          40.68488,
          40.6851532,
          40.686312,
          40.6900815,
          40.6894932,
          40.68833370000001,
          40.69072549,
          40.69128258,
          40.69237074,
          40.693398200000004,
          40.69425403,
          40.69622937,
          40.69539817,
          40.69527008,
          40.69681963,
          40.70029511,
          40.69957608,
          40.7016657,
          40.7031724,
          40.70411791,
          40.70510918,
          40.70538077,
          40.70583339,
          40.70691254,
          40.70767788,
          40.70708701,
          40.70870368,
          40.70877084,
          40.70925562,
          40.709340000000005,
          40.711863,
          40.71167351,
          40.71247661,
          40.714690000000004,
          40.715143,
          40.71413311,
          40.7160751,
          40.71774592,
          40.71764,
          40.7190095,
          40.71745169,
          40.7169811,
          40.71929301,
          40.71924,
          40.724812564400175,
          40.72079821,
          40.72179134,
          40.72153267,
          40.724055,
          40.72325,
          40.72311651,
          40.725570000000005,
          40.72606,
          40.72708584,
          40.725848299999996,
          40.72906,
          40.730259999999994,
          40.73165141,
          40.73232194,
          40.732659999999996,
          40.735640000000004,
          40.73555,
          40.74232744,
          40.741609999999994,
          40.74524768,
          40.74436328706688,
          40.74469738,
          40.74731,
          40.74708586,
          40.74718234,
          40.74966,
          40.75052534,
          40.75110165,
          40.75325964,
          40.76712840349542,
          40.76350532,
          40.76312584,
          40.77112927,
          40.766368,
          40.77282817,
          40.77118287540658,
          40.77140426,
          40.76500525,
          40.761227399999996,
          40.77682863439968,
          40.77677702,
          40.77862688,
          40.77573034,
          40.77801203,
          40.77565541,
          40.77536905,
          40.7728384,
          40.76873687,
          40.76440023,
          40.76663814,
          40.77518615,
          40.77163851,
          40.77492513,
          40.77896784,
          40.7801839724239,
          40.78339981,
          40.7734066,
          40.7770575,
          40.77579376683666,
          40.780577990103346,
          40.779668090073116,
          40.78472675,
          40.78720869,
          40.78499979,
          40.78524672,
          40.7785669,
          40.777507027547976,
          40.77748046,
          40.77452835,
          40.7867947,
          40.78414472,
          40.698617,
          40.69878,
          40.729193,
          40.743,
          40.758996559605116,
          40.73997354103409,
          40.78275,
          40.76780080148132,
          40.68962188790333,
          40.75724567911726,
          40.752165280621966,
          40.75898481399634,
          40.77391390238118,
          40.646538367096475,
          40.759030082196055,
          40.686203000000006,
          40.69102925677968,
          40.75892386377695,
          40.73143724085228,
          40.680356084043396,
          40.7505853470215,
          40.7277140777778,
          40.750181563256824,
          40.74937024193277,
          40.72706363348306,
          40.72923649910006,
          40.76421007169064,
          40.7245634290432,
          40.78307,
          40.7882213,
          40.781410700190015,
          40.78839,
          40.7806284,
          40.778301,
          40.79017948095081,
          40.7779453,
          40.785785100000005,
          40.7921,
          40.7835016,
          40.791270000000004,
          40.668662700000006,
          40.686371,
          40.66514681533792,
          40.7919557,
          40.7969347,
          40.6849894,
          40.668127,
          40.781122299341654,
          40.666207799999995,
          40.7941654,
          40.686175799999994,
          40.7859201,
          40.663779,
          40.68763155,
          40.78172120000001,
          40.666318100000005,
          40.7937704,
          40.684751399999996,
          40.798993700000004,
          40.6686273,
          40.7839636,
          40.666287,
          40.793393,
          40.683116399999996,
          40.668603000000004,
          40.798185600000004,
          40.6685455,
          40.7849032,
          40.67434,
          40.787721399999995,
          40.795,
          40.6829151,
          40.672505799999996,
          40.8013434,
          40.68199044270703,
          40.6747055,
          40.6772744,
          40.787801,
          40.67363551341504,
          40.786258600000004,
          40.6765304,
          40.6753274,
          40.795346,
          40.677774799999995,
          40.7997568,
          40.679043,
          40.78948541553215,
          40.675146838709786,
          40.6773429,
          40.677236,
          40.6729679,
          40.797372100000004,
          40.7869946,
          40.67267243410948,
          40.6747844,
          40.668132,
          40.768008893059466,
          40.7746671,
          40.80083629999999,
          40.671197799999995,
          40.7691572,
          40.7829391,
          40.6740886,
          40.7781314,
          40.7904828,
          40.6751622,
          40.67038370000001,
          40.8021174,
          40.792255299999994,
          40.672815500000006,
          40.7727966,
          40.674613422475815,
          40.7689738,
          40.675070500000004,
          40.799484,
          40.7699426,
          40.76471851944339,
          40.6786115,
          40.773763,
          40.790305100000005,
          40.6777287,
          40.680611,
          40.804213,
          40.678724200000005,
          40.6809591,
          40.79343370000001,
          40.6828003,
          40.6830456,
          40.79329668,
          40.7892529,
          40.681211700000006,
          40.67943270000001,
          40.6769993,
          40.6763744,
          40.6783563,
          40.6763947,
          40.67469570000001,
          40.67260298150126,
          40.796153499999996,
          40.6724811,
          40.6902375,
          40.6705135,
          40.670492200000005,
          40.670483600000004,
          40.67909799721684,
          40.6881529,
          40.686744299999994,
          40.686444200000004,
          40.6849668,
          40.6853761,
          40.6827549,
          40.680944723477296,
          40.6793307,
          40.67761470000001,
          40.6795766,
          40.675020700000005,
          40.67927879999999,
          40.6802133,
          40.6843549,
          40.6859296,
          40.6610633719006,
          40.791976,
          40.789210499999996,
          40.72430527250332,
          40.740983,
          40.68506807308177,
          40.71907891179564,
          40.746524,
          40.790254173304184,
          40.718821999999996,
          40.721319,
          40.772248537721744,
          40.692418292578466,
          40.752957,
          40.76132983124814,
          40.791811715010965,
          40.76703432309872,
          40.72146256229816,
          40.7512836,
          40.71915571696044,
          40.71335226222875,
          40.71036854235229,
          40.68680820503432,
          40.716380319735606
         ],
         "lon": [
          -73.99392888,
          -74.00666661,
          -74.00016545,
          -73.97632328,
          -74.00149746,
          -73.97803415,
          -73.95928168,
          -74.00674436,
          -74.00297088,
          -73.99337909,
          -73.98068914,
          -74.0091059,
          -73.98085795,
          -73.99724900722505,
          -74.00910627,
          -73.9816324043,
          -73.99612349,
          -73.99810231,
          -73.97032517,
          -73.97604882,
          -73.99456405,
          -73.98452728986742,
          -73.97738662,
          -74.01043382,
          -74.00681753,
          -73.99548059,
          -73.99383605,
          -73.99994661,
          -74.00552427,
          -74.00803013,
          -73.971878855,
          -73.99379025,
          -73.99014892,
          -73.98713956,
          -73.98672378,
          -74.00859207,
          -73.9813018,
          -73.97493121,
          -73.973736,
          -73.979382,
          -73.96536851,
          -73.97703874,
          -74.00483091,
          -74.00771779,
          -74.0090009,
          -73.99480012,
          -73.99852205,
          -73.99453948,
          -73.99800419,
          -74.01651,
          -74.00247214,
          -73.96885458,
          -74.01234218,
          -74.01167797,
          -73.98362464,
          -73.97372990000001,
          -74.00731853,
          -73.99147535,
          -73.97574813,
          -73.98765428,
          -73.99973337,
          -73.97178913,
          -73.976682,
          -73.96563307,
          -74.0104554,
          -73.98476437,
          -74.00166999999999,
          -73.99510132,
          -73.97371465,
          -73.96841526031494,
          -74.0026376103,
          -73.99074142,
          -73.95881081,
          -73.984844,
          -73.99102628231049,
          -73.99293911,
          -73.99704679999999,
          -73.986923,
          -73.9796772,
          -73.98368779,
          -73.97793172,
          -73.99949601,
          -74.01361706,
          -73.96724467,
          -74.00530063,
          -73.98990025,
          -73.99851193,
          -74.013012,
          -73.98912867,
          -73.98802084,
          -73.989111,
          -73.96751037,
          -73.990539,
          -74.00670227,
          -74.00653609,
          -73.98185424,
          -74.009447,
          -74.005549,
          -73.98971773,
          -73.991218,
          -73.98631746,
          -73.981013,
          -73.98473765,
          -73.98426726,
          -74.01658354,
          -74.00965965,
          -74.00562789,
          -73.99193043,
          -73.97948148,
          -73.99726235,
          -73.99404649,
          -73.99906065,
          -74.00838676,
          -73.97422494,
          -73.98776323,
          -73.97628939,
          -73.98016555,
          -73.96986848,
          -73.95380904,
          -73.99704374,
          -74.00618026,
          -74.00859100000001,
          -74.00154702,
          -73.98329859,
          -73.9870295,
          -74.00612572,
          -73.97431458,
          -73.96223558,
          -73.99974372,
          -73.98261206,
          -73.99158043,
          -74.00711384,
          -73.97498696,
          -74.00887308,
          -73.99190759,
          -73.98753523,
          -74.01713445,
          -73.96023854,
          -73.9614583,
          -73.968896,
          -74.00214988,
          -74.00026394,
          -73.958089,
          -73.95381995,
          -74.00722156,
          -74.00566443,
          -73.9916,
          -74.00293877,
          -73.99200509,
          -74.000271,
          -73.964915,
          -73.96603308,
          -74.00234482,
          -74.0046073,
          -74.002950346,
          -73.96525063,
          -73.9842844,
          -73.99344559,
          -73.987167,
          -73.97995466,
          -73.97768752,
          -73.98410637,
          -73.9557689392,
          -73.96922273,
          -73.99997859999999,
          -73.9647628,
          -73.98178024,
          -73.98997825,
          -73.98955109,
          -73.99069656,
          -73.99595065,
          -73.991454,
          -73.99400398,
          -73.95643107,
          -73.98517977,
          -73.97668709,
          -73.99422366,
          -73.98765762,
          -74.00926027,
          -73.97265183,
          -74.01020234,
          -73.982578,
          -73.97355569,
          -73.96968902,
          -73.97129668,
          -73.988038,
          -73.98690506,
          -74.01322069,
          -74.013942,
          -73.98783413,
          -73.98656928,
          -73.98379855,
          -73.98057249,
          -74.00366443,
          -73.99415556,
          -73.95399026,
          -73.9500479759,
          -73.98564945,
          -73.98978041,
          -73.97282625,
          -73.967416,
          -73.993915,
          -73.96408963,
          -73.98915076,
          -73.98142006,
          -73.99529885,
          -73.9851615,
          -73.9979009,
          -73.98789473,
          -73.98788205,
          -73.99915362,
          -73.96592976,
          -73.96905301,
          -73.97402311,
          -73.98169333,
          -74.00522600000001,
          -74.007756,
          -73.96590294,
          -73.98205027,
          -74.00451887,
          -73.98658032,
          -73.99144871,
          -73.97895137,
          -73.98192338,
          -73.98268129,
          -74.00004031,
          -73.95698119,
          -73.98194829,
          -73.99192540000001,
          -73.98683077,
          -73.97966069,
          -73.9900262,
          -73.99884222,
          -73.9912551,
          -73.99061728,
          -73.96264403,
          -73.99931783,
          -73.98889957,
          -73.98014437,
          -73.98338988,
          -73.98855723,
          -73.97573881,
          -73.99372222,
          -73.993934,
          -73.98602213,
          -73.99093085,
          -73.98291153,
          -73.99723551,
          -73.99301222,
          -73.99238967,
          -73.99009296,
          -73.98808416,
          -73.98191841,
          -73.98336183,
          -73.97121214,
          -73.981346,
          -73.98751968,
          -73.98165557,
          -73.98848395,
          -73.97973776,
          -73.99667444,
          -74.00197139,
          -73.97772429,
          -73.988639,
          -74.00277668,
          -73.99461843,
          -73.96784384,
          -73.97791,
          -73.97344190000001,
          -73.97770600000001,
          -73.97648516,
          -73.97207836,
          -73.99138152,
          -73.98316936,
          -74.0021163,
          -73.98490707,
          -73.976056,
          -73.97706058,
          -73.99098507,
          -73.99054100000001,
          -73.99266288,
          -73.960876,
          -73.98721619,
          -74.0127234,
          -73.97536082,
          -73.98409214,
          -73.96024116,
          -73.98215353488922,
          -73.97809472,
          -73.98303529,
          -73.98940236,
          -73.979927,
          -73.96319799999999,
          -73.9805442094803,
          -74.004704,
          -73.97100056,
          -73.97634151,
          -74.01677685,
          -73.99682619,
          -74.00234737,
          -73.97680600000001,
          -73.98859651,
          -73.959223,
          -73.97031366,
          -74.01575600000001,
          -73.96165072917937,
          -74.016263,
          -73.94142771,
          -73.92989109999999,
          -73.934903,
          -73.938475,
          -73.938037,
          -73.944118,
          -73.94977,
          -73.96304,
          -73.94111,
          -73.935775,
          -73.94791500000001,
          -73.942061,
          -73.950916,
          -73.95133465,
          -73.9452416,
          -73.93705428,
          -73.939877,
          -73.94626915,
          -73.94371094,
          -73.94954908,
          -73.95238108,
          -73.93756926,
          -73.95032283,
          -73.94708417,
          -73.9437303,
          -73.940636,
          -73.94818595,
          -73.94407279,
          -73.94976519,
          -73.94644578,
          -73.95441667,
          -73.94016171,
          -73.95796783,
          -73.9448625,
          -73.95095259,
          -73.95982218,
          -73.95608,
          -73.944024,
          -73.95141312,
          -73.94100005,
          -73.95739,
          -73.944507,
          -73.95234386,
          -73.95202900000001,
          -73.95600096,
          -73.94882,
          -73.95852515,
          -73.95850939,
          -73.94485918,
          -73.94500379,
          -73.95241999999999,
          -73.94752621650694,
          -73.95484712,
          -73.95041540000001,
          -73.95782357,
          -73.955736,
          -73.94308000000001,
          -73.95212324,
          -73.94434,
          -73.95621,
          -73.95299117,
          -73.95064893,
          -73.95779,
          -73.95394,
          -73.96161892,
          -73.9550858,
          -73.95826,
          -73.95866,
          -73.95284000000001,
          -73.95411749,
          -73.96044,
          -73.94733276,
          -73.95587325096129,
          -73.93540375,
          -73.95451,
          -73.94977234,
          -73.9432635,
          -73.9521,
          -73.94594845,
          -73.94073717,
          -73.94335788,
          -73.96224617958069,
          -73.97109243,
          -73.96526895,
          -73.95772297,
          -73.971518,
          -73.96685276,
          -73.96409422159195,
          -73.9535166,
          -73.95818491,
          -73.96094022,
          -73.96388769149779,
          -73.95900970000001,
          -73.95772073,
          -73.9567526,
          -73.95407149,
          -73.95068615,
          -73.94803392,
          -73.94989233,
          -73.96119945,
          -73.96648977,
          -73.95348296,
          -73.94446054,
          -73.98261428,
          -73.98266566,
          -73.97374737,
          -73.97728532552719,
          -73.98093133,
          -73.97782542,
          -73.97898475,
          -73.97620573639871,
          -73.98562431335448,
          -73.98093044757842,
          -73.96961715,
          -73.98128127,
          -73.97283406,
          -73.97667321,
          -73.97754961,
          -73.98888587951659,
          -73.98288594,
          -73.98753759,
          -73.977112,
          -73.98362492,
          -73.941342,
          -73.99712,
          -73.97665500000001,
          -73.93561,
          -73.96865397691727,
          -74.00513872504234,
          -73.97137,
          -73.96592080593109,
          -73.98304268717766,
          -73.97805914282799,
          -73.97992193698882,
          -73.99379968643187,
          -73.9543953537941,
          -74.0165877342224,
          -73.9938586950302,
          -73.944694,
          -73.99183362722397,
          -73.96226227283478,
          -73.99490341544151,
          -73.94767910242079,
          -73.9946848154068,
          -74.01129573583603,
          -74.00218427181244,
          -73.99923384189607,
          -73.99662137031554,
          -73.99086803197861,
          -73.96910458803177,
          -73.9894437789917,
          -73.95939,
          -73.97041561,
          -73.95595908164978,
          -73.9747,
          -73.9521667,
          -73.9488134,
          -73.97288918495178,
          -73.94604100000001,
          -73.957481,
          -73.9739,
          -73.955327,
          -73.964839,
          -73.97988067,
          -73.99383324,
          -73.97637605667114,
          -73.968087,
          -73.9643412291,
          -73.99440329,
          -73.98377641,
          -73.94965589046478,
          -73.98199886,
          -73.974124,
          -73.99645295,
          -73.94860294,
          -73.98396846,
          -74.0016256,
          -73.94594000000001,
          -73.9854617,
          -73.971888,
          -73.99917254,
          -73.96621737779999,
          -73.98700053,
          -73.94716729999999,
          -73.98895053,
          -73.96355559999999,
          -73.99785267,
          -73.99043940000001,
          -73.96059090060001,
          -73.99333264,
          -73.950503,
          -74.00194698,
          -73.94728331,
          -73.9645,
          -73.99318208,
          -74.00494695,
          -73.97114574390001,
          -73.99079024791719,
          -74.00755720000001,
          -73.98282002,
          -73.953559,
          -74.01195555925368,
          -73.94552579,
          -73.97846879,
          -74.0100698,
          -73.96186,
          -74.0094613,
          -73.9621128676,
          -74.011169,
          -73.9524292945862,
          -73.9752320945263,
          -74.01275056,
          -74.015665,
          -73.97087984,
          -73.97041192,
          -73.94164802,
          -74.00879524648191,
          -74.01612847,
          -73.97363831,
          -73.96845281124116,
          -73.98470567,
          -73.9664492472,
          -73.97484126,
          -73.96703464,
          -73.9786517,
          -73.9787282,
          -73.96069399,
          -73.95033068,
          -73.9814832,
          -73.97839676,
          -73.9681805305,
          -73.95249933,
          -73.98352355,
          -73.95577801,
          -73.98501142859459,
          -73.95482273,
          -73.98775226,
          -73.955613,
          -73.96060712,
          -73.96222069859505,
          -73.99037292,
          -73.96222088,
          -73.94755757,
          -73.99364123,
          -73.99475825,
          -73.96699104,
          -73.99599099,
          -73.99905709,
          -73.94945003,
          -73.99990419,
          -74.00348559,
          -73.9432083,
          -73.93956237,
          -74.00860912,
          -74.00785041,
          -74.00647134,
          -74.00324957,
          -74.00014502,
          -73.99869893,
          -73.99785768,
          -73.98983001708984,
          -73.94782145,
          -73.99331394,
          -73.99203074,
          -73.98876585,
          -73.98541675,
          -73.98208968,
          -73.98765474557877,
          -73.99520919,
          -73.99063168,
          -73.98759104,
          -73.98620772,
          -73.98302136,
          -73.98258555,
          -73.97567331790923,
          -73.97519523,
          -73.97324283,
          -73.97854971,
          -73.97111473,
          -73.98154004,
          -73.98432695,
          -73.98901629,
          -74.00242364,
          -73.97945255041121,
          -73.945993,
          -73.94370784,
          -73.99600982666016,
          -74.00170200000001,
          -73.97790759801863,
          -73.94223690032959,
          -73.977885,
          -73.97718340158461,
          -73.99596,
          -74.010065,
          -73.95842134952545,
          -73.98949474096298,
          -74.00264,
          -73.97982001304626,
          -73.9786022901535,
          -73.95622730255127,
          -73.94800901412964,
          -73.9969245,
          -73.94885390996933,
          -73.9491033554077,
          -73.94705951213838,
          -73.98036181926726,
          -73.94821286201476
         ],
         "marker": {
          "size": 9
         },
         "mode": "markers",
         "text": [
          "W 52 St & 11 Ave",
          "Franklin St & W Broadway",
          "St James Pl & Pearl St",
          "Atlantic Ave & Fort Greene Pl",
          "W 17 St & 8 Ave",
          "Park Ave & St Edwards St",
          "Lexington Ave & Classon Ave",
          "Barrow St & Hudson St",
          "MacDougal St & Prince St",
          "Clinton St & Joralemon St",
          "Nassau St & Navy St",
          "Hudson St & Reade St",
          "E 2 St & Avenue C",
          "Cleveland Pl & Spring St",
          "Warren St & Church St",
          "E 40 St & 5 Ave",
          "Henry St & Atlantic Ave",
          "LaGuardia Pl & W 3 St",
          "E 47 St & 2 Ave",
          "E 39 St & 3 Ave",
          "W 18 St & 6 Ave",
          "Broadway & W 49 St",
          "E 25 St & 1 Ave",
          "Liberty St & Broadway",
          "W 16 St & The High Line",
          "Columbia Heights & Cranberry St",
          "Old Fulton St",
          "W 13 St & 7 Ave",
          "Spruce St & Nassau St",
          "W 14 St & The High Line",
          "E 48 St & 3 Ave",
          "Great Jones St",
          "Cadman Plaza E & Tillary St",
          "St Marks Pl & 2 Ave",
          "E 11 St & 2 Ave",
          "Bank St & Washington St",
          "Willoughby St & Fleet St",
          "DeKalb Ave & S Portland Ave",
          "Carlton Ave & Flushing Ave",
          "Fulton St & Rockwell Pl",
          "Willoughby Ave & Hall St",
          "Myrtle Ave & St Edwards St",
          "Perry St & Bleecker St",
          "Laight St & Hudson St",
          "Harrison St & Hudson St",
          "Mott St & Prince St",
          "MacDougal St & Washington Sq",
          "W 13 St & 5 Ave",
          "W 11 St & 6 Ave",
          "NYCBS Depot - SSP",
          "Lispenard St & Broadway",
          "DeKalb Ave & Vanderbilt Ave",
          "South St & Whitehall St",
          "Broad St & Bridge St",
          "Johnson St & Gold St",
          "Washington Park",
          "Maiden Ln & Pearl St",
          "Stanton St & Chrystie St",
          "Avenue D & E 8 St",
          "Broadway & W 36 St",
          "Howard St & Centre St",
          "Adelphi St & Myrtle Ave",
          "Lafayette Ave & Fort Greene Pl",
          "Washington Ave & Greene Ave",
          "Duane St & Greenwich St",
          "Concord St & Bridge St",
          "Peck Slip & Front St",
          "E 10 St & 5 Ave",
          "Grand Army Plaza & Central Park S",
          "Kent Ave & S 11 St",
          "Greenwich Ave & 8 Ave",
          "Broadway & E 14 St",
          "Monroe St & Classon Ave",
          "Madison St & Montgomery St",
          "Lafayette St & E 8 St",
          "Pike St & E Broadway",
          "Division St & Bowery",
          "E 15 St & 3 Ave",
          "3 Ave & Schermerhorn St",
          "E 2 St & Avenue B",
          "Avenue D & E 3 St",
          "Mercer St & Spring St",
          "Broadway & Battery Pl",
          "E 58 St & 3 Ave",
          "Cliff St & Fulton St",
          "Canal St & Rutgers St",
          "St James Pl & Oliver St",
          "Murray St & West St",
          "State St & Smith St",
          "Norfolk St & Broome St",
          "Allen St & Stanton St",
          "Washington Ave & Park Ave",
          "Cadman Plaza West & Montague St",
          "South St & Gouverneur Ln",
          "Fulton St & William St",
          "E 6 St & Avenue B",
          "Fulton St & Broadway",
          "Leonard St & Church St",
          "Cadman Plaza E & Red Cross Pl",
          "Clinton St & Tillary St",
          "Lawrence St & Willoughby St",
          "DeKalb Ave & Hudson Ave",
          "E 19 St & 3 Ave",
          "E 11 St & 1 Ave",
          "Vesey Pl & River Terrace",
          "Watts St & Greenwich St",
          "Reade St & Broadway",
          "Pike St & Monroe St",
          "Cherry St",
          "W 20 St & 7 Ave",
          "Washington Pl & Broadway",
          "Sullivan St & Washington Sq",
          "Old Slip & Front St",
          "Avenue D & E 12 St",
          "Madison St & Clinton St",
          "Stanton St & Mangin St",
          "Columbia St & Rivington St",
          "Clinton Ave & Flushing Ave",
          "Monroe St & Bedford Ave",
          "W 13 St & 6 Ave",
          "Bank St & Hudson St",
          "Greenwich St & W Houston St",
          "W Broadway & Spring St",
          "Rivington St & Ridge St",
          "Clinton St & Grand St",
          "Front St & Maiden Ln",
          "S Portland Ave & Hanson Pl",
          "Emerson Pl & Myrtle Ave",
          "Bayard St & Baxter St",
          "Bialystoker Pl & Delancey St",
          "E 11 St & Broadway",
          "Christopher St & Greenwich St",
          "E 47 St & Park Ave",
          "William St & Pine St",
          "Allen St & Hester St",
          "Broadway & W 37 St",
          "West Thames St",
          "Lafayette Ave & Classon Ave",
          "Fulton St & Grand Ave",
          "Clinton Ave & Myrtle Ave",
          "Carmine St & 6 Ave",
          "Washington Pl & 6 Ave",
          "Franklin Ave & Myrtle Ave",
          "Willoughby Ave & Walworth St",
          "John St & William St",
          "6 Ave & Canal St",
          "W 31 St & 7 Ave",
          "W 4 St & 7 Ave S",
          "University Pl & E 14 St",
          "Greenwich Ave & Charles St",
          "Fulton St & Washington Ave",
          "E 55 St & 2 Ave",
          "Centre St & Worth St",
          "Centre St & Chambers St",
          "W 26 St & 10 Ave",
          "Broadway & Berry St",
          "Duffield St & Willoughby St",
          "Clark St & Henry St",
          "Jay St & Tech Pl",
          "E 5 St & Avenue C",
          "E 9 St & Avenue C",
          "Bond St & Schermerhorn St",
          "Lefferts Pl & Franklin Ave",
          "Fulton St & Clermont Ave",
          "Atlantic Ave & Furman St",
          "Lafayette Ave & St James Pl",
          "Pitt St & Stanton St",
          "Allen St & Rivington St",
          "Broadway & E 22 St",
          "E 2 St & 2 Ave",
          "Hicks St & Montague St",
          "Henry St & Poplar St",
          "Market St & Cherry St",
          "DeKalb Ave & Skillman St",
          "Suffolk St & Stanton St",
          "E 6 St & Avenue D",
          "Forsyth St & Canal St",
          "Pearl St & Anchorage Pl",
          "Pearl St & Hanover Square",
          "Cumberland St & Lafayette Ave",
          "Barclay St & Church St",
          "Front St & Gold St",
          "Carlton Ave & Park Ave",
          "Clermont Ave & Lafayette Ave",
          "Clermont Ave & Park Ave",
          "W 59 St & 10 Ave",
          "W 54 St & 9 Ave",
          "West St & Chambers St",
          "Bus Slip & State St",
          "E 3 St & 1 Ave",
          "York St & Jay St",
          "E 7 St & Avenue A",
          "E 13 St & Avenue A",
          "9 Ave & W 18 St",
          "W 21 St & 6 Ave",
          "Hancock St & Bedford Ave",
          "Macon St & Nostrand Ave",
          "St Marks Pl & 1 Ave",
          "E 4 St & 2 Ave",
          "E 45 St & 3 Ave",
          "E 52 St & 2 Ave",
          "W 27 St & 7 Ave",
          "Bedford Ave & S 9 St",
          "Broadway & W 24 St",
          "E 10 St & Avenue A",
          "W 24 St & 7 Ave",
          "8 Ave & W 52 St",
          "W 37 St & 10 Ave",
          "W 52 St & 9 Ave",
          "W 49 St & 8 Ave",
          "W 22 St & 8 Ave",
          "E 51 St & 1 Ave",
          "1 Ave & E 44 St",
          "E 53 St & Madison Ave",
          "Broadway & W 58 St",
          "11 Ave & W 27 St",
          "W 20 St & 11 Ave",
          "S 4 St & Wythe Ave",
          "E 20 St & 2 Ave",
          "W 22 St & 10 Ave",
          "Broadway & W 41 St",
          "W 25 St & 6 Ave",
          "Dean St & 4 Ave",
          "Broadway & W 55 St",
          "Broadway & W 53 St",
          "W 20 St & 8 Ave",
          "Grand St & Havemeyer St",
          "E 32 St & Park Ave",
          "Rivington St & Chrystie St",
          "5 Ave & E 29 St",
          "E 31 St & 3 Ave",
          "W 41 St & 8 Ave",
          "11 Ave & W 41 St",
          "9 Ave & W 45 St",
          "W 53 St & 10 Ave",
          "S 3 St & Bedford Ave",
          "W 15 St & 7 Ave",
          "E 12 St & 3 Ave",
          "W 44 St & 5 Ave",
          "W 37 St & 5 Ave",
          "Broadway & W 29 St",
          "E 20 St & FDR Drive",
          "W 39 St & 9 Ave",
          "8 Ave & W 33 St",
          "E 24 St & Park Ave S",
          "W 33 St & 7 Ave",
          "W 45 St & 6 Ave",
          "W 26 St & 8 Ave",
          "W 47 St & 10 Ave",
          "E 16 St & 5 Ave",
          "E 17 St & Broadway",
          "Broadway & W 32 St",
          "Broadway & W 60 St",
          "Broadway & W 51 St",
          "FDR Drive & E 35 St",
          "Henry St & Grand St",
          "E 20 St & Park Ave",
          "1 Ave & E 16 St",
          "6 Ave & W 33 St",
          "E 25 St & 2 Ave",
          "W 46 St & 11 Ave",
          "9 Ave & W 22 St",
          "E 14 St & Avenue B",
          "W 56 St & 10 Ave",
          "12 Ave & W 40 St",
          "W 43 St & 10 Ave",
          "E 47 St & 1 Ave",
          "Pershing Square South",
          "E 39 St & 2 Ave",
          "Pershing Square North",
          "W 52 St & 5 Ave",
          "E 51 St & Lexington Ave",
          "W 38 St & 8 Ave",
          "W 43 St & 6 Ave",
          "W 34 St & 11 Ave",
          "E 33 St & 5 Ave",
          "E 33 St & 2 Ave",
          "2 Ave & E 31 St",
          "W 42 St & 8 Ave",
          "11 Ave & W 59 St",
          "Forsyth St & Broome St",
          "S 5 Pl & S 4 St",
          "Broadway & W 39 St",
          "Water - Whitehall Plaza",
          "1 Ave & E 30 St",
          "Lexington Ave & E 24 St",
          "Metropolitan Ave & Bedford Ave",
          "Lexington Ave & E 29 St",
          "E 23 St & 1 Ave",
          "E 30 St & Park Ave S",
          "Front St & Washington St",
          "Sands St & Navy St",
          "Wythe Ave & Metropolitan Ave",
          "1 Ave & E 18 St",
          "6 Ave & Broome St",
          "Railroad Ave & Kay Ave",
          "Central Park S & 6 Ave",
          "Little West St & 1 Pl",
          "Catherine St & Monroe St",
          "Grand St & Greene St",
          "E 27 St & 1 Ave",
          "W 45 St & 8 Ave",
          "E 60 St & York Ave",
          "E 55 St & Lexington Ave",
          "South End Ave & Liberty St",
          "Kent Ave & N 7 St",
          "SSP Tech Workshop",
          "Kingston Ave & Herkimer St",
          "Fulton St & Utica Ave",
          "Lewis Ave & Decatur St",
          "Albany Ave & Fulton St",
          "Marcus Garvey Blvd & Macon St",
          "Halsey St & Tompkins Ave",
          "Putnam Ave & Nostrand Ave",
          "Cambridge Pl & Gates Ave",
          "Putnam Ave & Throop Ave",
          "Lewis Ave & Madison St",
          "Marcy Ave & Lafayette Ave",
          "Greene Ave & Throop Ave",
          "Greene Ave & Nostrand Ave",
          "Kosciuszko St & Nostrand Ave",
          "Kosciuszko St & Tompkins Ave",
          "Lewis Ave & Kosciuszko St",
          "Pulaski St & Marcus Garvey Blvd",
          "Willoughby Ave & Tompkins Ave",
          "Throop Ave & Myrtle Ave",
          "Myrtle Ave & Marcy Ave",
          "Nostrand Ave & Myrtle Ave",
          "Myrtle Ave & Lewis Ave",
          "Union Ave & Wallabout St",
          "Tompkins Ave & Hopkins St",
          "Broadway & Whipple St",
          "Humboldt St & Varet St",
          "Lorimer St & Broadway",
          "McKibbin St & Manhattan Ave",
          "Boerum St & Broadway",
          "Leonard St & Boerum St",
          "Division Ave & Hooper St",
          "Montrose Ave & Bushwick Ave",
          "Division Ave & Marcy Ave",
          "Scholes St & Manhattan Ave",
          "Stagg St & Union Ave",
          "Broadway & Roebling St",
          "S 4 St & Rodney St",
          "Graham Ave & Grand St",
          "Hope St & Union Ave",
          "Bushwick Ave & Powers St",
          "Roebling St & N 4 St",
          "Graham Ave & Conselyea St",
          "Metropolitan Ave & Meeker Ave",
          "Union Ave & Jackson St",
          "N 8 St & Driggs Ave",
          "Frost St & Meeker St",
          "Berry St & N 8 St",
          "N 6 St & Bedford Ave",
          "Graham Ave & Withers St",
          "Graham Ave & Herbert St",
          "Union Ave & N 12 St",
          "Nassau Ave & Newell St",
          "N 12 St & Bedford Ave",
          "Driggs Ave & Lorimer St",
          "N 11 St & Wythe Ave",
          "N 15 St & Wythe Ave",
          "Driggs Ave & N Henry St",
          "Bedford Ave & Nassau Ave",
          "Nassau Ave & Russell St",
          "Banker St & Meserole Ave",
          "Meserole Ave & Manhattan Ave",
          "Norman Ave & Leonard St",
          "Milton St & Franklin St",
          "Greenpoint Ave & Manhattan Ave",
          "India St & East River",
          "India St & Manhattan Ave",
          "Huron St & Franklin St",
          "Franklin St & Dupont St",
          "McGuinness Blvd & Eagle St",
          "Vernon Blvd & 50 Ave",
          "Center Blvd & Borden Ave",
          "Jackson Ave & 46 Rd",
          "48 Ave & 5 St",
          "31 St & Thomson Ave",
          "46 Ave & 5 St",
          "45 Rd & 11 St",
          "44 Dr & Jackson Ave",
          "9 St & 44 Rd",
          "21 St & 43 Ave",
          "Queens Plaza North & Crescent St",
          "21 St & Queens Plaza North",
          "E 68 St & 3 Ave",
          "E 59 St & Madison Ave",
          "3 Ave & E 62 St",
          "E 75 St & 3 Ave",
          "5 Ave & E 63 St",
          "5 Ave & E 73 St",
          "E 72 St & Park Ave",
          "1 Ave & E 78 St",
          "1 Ave & E 68 St",
          "1 Ave & E 62 St",
          "5 Ave & E 78 St",
          "E 81 St & Park Ave",
          "E 84 St & Park Ave",
          "E 81 St & 3 Ave",
          "E 85 St & 3 Ave",
          "E 84 St & 1 Ave",
          "E 85 St & York Ave",
          "E 81 St & York Ave",
          "3 Ave & E 71 St",
          "Lexington Ave & E 63 St",
          "E 72 St & York Ave",
          "East End Ave & E 86 St",
          "W 63 St & Broadway",
          "W 67 St & Broadway",
          "Central Park West & W 76 St",
          "W 76 St & Columbus Ave",
          "W 78 St & Broadway",
          "Central Park West & W 68 St",
          "Columbus Ave & W 72 St",
          "Central Park West & W 72 St",
          "Riverside Dr & W 72 St",
          "Amsterdam Ave & W 73 St",
          "Central Park West & W 85 St",
          "Riverside Dr & W 82 St",
          "W 84 St & Columbus Ave",
          "Amsterdam Ave & W 82 St",
          "W 74 St & Columbus Ave",
          "Riverside Blvd & W 67 St",
          "W 70 St & Amsterdam Ave",
          "W 64 St & West End Ave",
          "W 84 St & Broadway",
          "Riverside Dr & W 78 St",
          "Park Ave & Marcus Garvey Blvd",
          "Brooklyn Bridge Park - Pier 2",
          "NYCBS Depot - STY",
          "47 Ave & 31 St",
          "E 55 St & 3 Ave",
          "W 13 St & Hudson St",
          "W 82 St & Central Park West",
          "E 67 St & Park Ave",
          "Bond St & Fulton St",
          "E 48 St & 5 Ave",
          "E 41 St & Madison Ave",
          "W 42 St & Dyer Ave",
          "E 80 St & 2 Ave",
          "Bressler",
          "NYCBS Depot BAL - DYR",
          "Monroe St & Tompkins Ave",
          "Schermerhorn St & Court St",
          "E 58 St & 1 Ave",
          "University Pl & E 8 St",
          "Verona Pl & Fulton St",
          "8 Ave & W 31 St",
          "Pier 40 - Hudson River Park",
          "W 27 St & 10 Ave",
          "9 Ave & W 28 St",
          "Mercer St & Bleecker St",
          "Cooper Square & E 7 St",
          "E 61 St & Park Ave",
          "E 2 St & 2 Ave E",
          "5 Ave & E 88 St",
          "W 89 St & Columbus Ave",
          "E 88 St & Park Ave",
          "W 87 St  & Amsterdam Ave",
          "E 89 St & 3 Ave",
          "E 88 St & 1 Ave",
          "W 90 St & Amsterdam Ave",
          "E 89 St & York Ave",
          "5 Ave & E 93 St",
          "W 92 St & Broadway",
          "E 91 St & Park Ave",
          "Central Park W & W 96 St",
          "6 St & 7 Ave",
          "Warren St & Court St",
          "Prospect Park West & 8 St",
          "Columbus Ave & W 95 St",
          "Columbus Ave & W 103 St",
          "Butler St & Court St",
          "6 Ave & 9 St",
          "E 91 St & 2 Ave",
          "10 St & 7 Ave",
          "West End Ave & W 94 St",
          "Kane St & Clinton St",
          "E 97 St & 3 Ave",
          "14 St & 7 Ave",
          "Columbia St & Kane St",
          "1 Ave & E 94 St",
          "6 Ave & 12 St",
          "W 95 St & Broadway",
          "Henry St & Degraw St",
          "W 104 St & Amsterdam Ave",
          "10 St & 5 Ave",
          "2 Ave & E 96 St",
          "14 St & 5 Ave",
          "Central Park West & W 100 St",
          "Clinton St & Union St",
          "12 St & 4 Ave",
          "W 106 St & Central Park West",
          "3 Ave & 14 St",
          "E 95 St & 3 Ave",
          "Clinton St & Centre St",
          "3 Ave & E 100 St",
          "W 100 St & Manhattan Ave",
          "Degraw St & Smith St",
          "Henry St & Bay St",
          "Riverside Dr & W 104 St",
          "Degraw St & Hoyt St",
          "Columbia St & Lorraine St",
          "Union St & 4 Ave",
          "E 97 St & Madison Ave",
          "Dwight St & Van Dyke St",
          "2 Ave & E 99 St",
          "Berkeley Pl & 6 Ave",
          "Wolcott St & Dwight St",
          "Central Park West & W 102 St",
          "Pioneer St & Richards St",
          "W 107 St & Columbus Ave",
          "Pioneer St & Van Brunt St",
          "Madison Ave & E 99 St",
          "Berkeley Pl & 7 Ave",
          "Van Brunt St & Wolcott St",
          "Coffey St & Conover St",
          "Grand Army Plaza & Plaza St West",
          "W 100 St & Broadway",
          "E 102 St & 1 Ave",
          "Sigourney St & Columbia St",
          "Reed St & Van Brunt St",
          "3 St & Prospect Park West",
          "E 66 St & Madison Ave",
          "Amsterdam Ave & W 66 St",
          "W 106 St & Amsterdam Ave",
          "Garfield Pl & 8 Ave",
          "E 68 St & Madison Ave",
          "Amsterdam Ave & W 79 St",
          "Carroll St & 6 Ave",
          "Madison Ave & E 82 St",
          "E 102 St & Park Ave",
          "Carroll St & 5 Ave",
          "3 St & 7 Ave",
          "West End Ave & W 107 St",
          "5 Ave & E 103 St",
          "5 Ave & 3 St",
          "E 78 St & 2 Ave",
          "4 Ave & 2 St",
          "E 74 St & 1 Ave",
          "3 St & 3 Ave",
          "Central Park North & Adam Clayton Powell Blvd",
          "3 Ave & E 72 St",
          "E 65 St & 2 Ave",
          "Carroll St & Bond St",
          "E 76 St & Park Ave",
          "E 103 St & Lexington Ave",
          "3 St & Hoyt St",
          "Carroll St & Smith St",
          "Cathedral Pkwy & Broadway",
          "Smith St & 3 St",
          "1 Pl & Clinton St",
          "E 106 St & Madison Ave",
          "President St & Henry St",
          "Carroll St & Columbia St",
          "E 109 St & 3 Ave",
          "E 106 St & 1 Ave",
          "Commerce St & Van Brunt St",
          "Richards St & Delavan St",
          "Columbia St & W 9 St",
          "Henry St & W 9 St",
          "Clinton St & 4 Place",
          "Court St & Nelson St",
          "Smith St & 9 St",
          "7 St & 3 Ave",
          "E 110 St & Madison Ave",
          "2 Ave & 9 St",
          "Court St & State St",
          "4 Ave & 9 St",
          "7 St & 5 Ave",
          "5 St & 6 Ave",
          "Union St & Nevins St",
          "Congress St & Clinton St",
          "Bergen St & Smith St",
          "Dean St & Hoyt St",
          "Bond St & Bergen St",
          "Pacific St & Nevins St",
          "Wyckoff St & 3 Ave",
          "Bergen St & Flatbush Ave",
          "Prospect Pl & 6 Ave",
          "7 Ave & Park Pl",
          "Baltic St & 5 Ave",
          "Plaza St West & Flatbush Ave",
          "Douglass St & 4 Ave",
          "Douglass St & 3 Ave",
          "Hoyt St & Warren St",
          "Columbia St & Degraw St",
          "West Drive & Prospect Park West",
          "E 106 St & Lexington Ave",
          "2 Ave  & E 104 St",
          "Lafayette St & Jersey St",
          "8 Ave & W 16 St",
          "Hanson Pl & Ashland Pl",
          "Richardson St & N Henry St",
          "E 35 St & 3 Ave",
          "W 88 St & West End Ave",
          "Grand St & Elizabeth St",
          "Greenwich St & Hubert St",
          "E 76 St & 3 Ave",
          "Fulton St & Adams St",
          "10 Hudson Yards",
          "W 52 St & 6 Ave",
          "Riverside Dr & W 89 St",
          "E 71 St & 1 Ave",
          "Eckford St & Engert Ave",
          "Penn Station Valet - Valet Scan",
          "Bayard St & Leonard St",
          "Devoe St & Lorimer St",
          "Leonard St & Maujer St",
          "Schermerhorn St & 3 Ave",
          "Jackson St & Leonard St"
         ],
         "type": "scattermapbox"
        },
        {
         "lat": [
          40.78499979,
          40.74096374
         ],
         "line": {
          "color": "red",
          "width": 1
         },
         "lon": [
          -73.97283406,
          -73.98602213
         ],
         "mode": "lines",
         "type": "scattermapbox"
        },
        {
         "lat": [
          40.78472675,
          40.74096374
         ],
         "line": {
          "color": "red",
          "width": 1
         },
         "lon": [
          -73.96961715,
          -73.98602213
         ],
         "mode": "lines",
         "type": "scattermapbox"
        },
        {
         "lat": [
          40.7770575,
          40.74096374
         ],
         "line": {
          "color": "red",
          "width": 1
         },
         "lon": [
          -73.97898475,
          -73.98602213
         ],
         "mode": "lines",
         "type": "scattermapbox"
        },
        {
         "lat": [
          40.7801839724239,
          40.74096374
         ],
         "line": {
          "color": "red",
          "width": 1
         },
         "lon": [
          -73.97728532552719,
          -73.98602213
         ],
         "mode": "lines",
         "type": "scattermapbox"
        },
        {
         "lat": [
          40.77896784,
          40.74096374
         ],
         "line": {
          "color": "red",
          "width": 1
         },
         "lon": [
          -73.97374737,
          -73.98602213
         ],
         "mode": "lines",
         "type": "scattermapbox"
        },
        {
         "lat": [
          40.77163851,
          40.74096374
         ],
         "line": {
          "color": "red",
          "width": 1
         },
         "lon": [
          -73.98261428,
          -73.98602213
         ],
         "mode": "lines",
         "type": "scattermapbox"
        },
        {
         "lat": [
          40.7728384,
          40.74096374
         ],
         "line": {
          "color": "red",
          "width": 1
         },
         "lon": [
          -73.94989233,
          -73.98602213
         ],
         "mode": "lines",
         "type": "scattermapbox"
        },
        {
         "lat": [
          40.77536905,
          40.74096374
         ],
         "line": {
          "color": "red",
          "width": 1
         },
         "lon": [
          -73.94803392,
          -73.98602213
         ],
         "mode": "lines",
         "type": "scattermapbox"
        },
        {
         "lat": [
          40.77565541,
          40.74096374
         ],
         "line": {
          "color": "red",
          "width": 1
         },
         "lon": [
          -73.95068615,
          -73.98602213
         ],
         "mode": "lines",
         "type": "scattermapbox"
        },
        {
         "lat": [
          40.77801203,
          40.74096374
         ],
         "line": {
          "color": "red",
          "width": 1
         },
         "lon": [
          -73.95407149,
          -73.98602213
         ],
         "mode": "lines",
         "type": "scattermapbox"
        },
        {
         "lat": [
          40.77862688,
          40.74096374
         ],
         "line": {
          "color": "red",
          "width": 1
         },
         "lon": [
          -73.95772073,
          -73.98602213
         ],
         "mode": "lines",
         "type": "scattermapbox"
        },
        {
         "lat": [
          40.76500525,
          40.74096374
         ],
         "line": {
          "color": "red",
          "width": 1
         },
         "lon": [
          -73.95818491,
          -73.98602213
         ],
         "mode": "lines",
         "type": "scattermapbox"
        },
        {
         "lat": [
          40.77140426,
          40.74096374
         ],
         "line": {
          "color": "red",
          "width": 1
         },
         "lon": [
          -73.9535166,
          -73.98602213
         ],
         "mode": "lines",
         "type": "scattermapbox"
        },
        {
         "lat": [
          40.76350532,
          40.74096374
         ],
         "line": {
          "color": "red",
          "width": 1
         },
         "lon": [
          -73.97109243,
          -73.98602213
         ],
         "mode": "lines",
         "type": "scattermapbox"
        },
        {
         "lat": [
          40.72906,
          40.74096374
         ],
         "line": {
          "color": "red",
          "width": 1
         },
         "lon": [
          -73.95779,
          -73.98602213
         ],
         "mode": "lines",
         "type": "scattermapbox"
        },
        {
         "lat": [
          40.72606,
          40.74096374
         ],
         "line": {
          "color": "red",
          "width": 1
         },
         "lon": [
          -73.95621,
          -73.98602213
         ],
         "mode": "lines",
         "type": "scattermapbox"
        },
        {
         "lat": [
          40.71764,
          40.74096374
         ],
         "line": {
          "color": "red",
          "width": 1
         },
         "lon": [
          -73.94882,
          -73.98602213
         ],
         "mode": "lines",
         "type": "scattermapbox"
        },
        {
         "lat": [
          40.71167351,
          40.74096374
         ],
         "line": {
          "color": "red",
          "width": 1
         },
         "lon": [
          -73.95141312,
          -73.98602213
         ],
         "mode": "lines",
         "type": "scattermapbox"
        },
        {
         "lat": [
          40.711512,
          40.74096374
         ],
         "line": {
          "color": "red",
          "width": 1
         },
         "lon": [
          -74.01575600000001,
          -73.98602213
         ],
         "mode": "lines",
         "type": "scattermapbox"
        },
        {
         "lat": [
          40.75968085,
          40.74096374
         ],
         "line": {
          "color": "red",
          "width": 1
         },
         "lon": [
          -73.97031366,
          -73.98602213
         ],
         "mode": "lines",
         "type": "scattermapbox"
        },
        {
         "lat": [
          40.75929124,
          40.74096374
         ],
         "line": {
          "color": "red",
          "width": 1
         },
         "lon": [
          -73.98859651,
          -73.98602213
         ],
         "mode": "lines",
         "type": "scattermapbox"
        },
        {
         "lat": [
          40.739445,
          40.74096374
         ],
         "line": {
          "color": "red",
          "width": 1
         },
         "lon": [
          -73.97680600000001,
          -73.98602213
         ],
         "mode": "lines",
         "type": "scattermapbox"
        },
        {
         "lat": [
          40.72165481,
          40.74096374
         ],
         "line": {
          "color": "red",
          "width": 1
         },
         "lon": [
          -74.00234737,
          -73.98602213
         ],
         "mode": "lines",
         "type": "scattermapbox"
        },
        {
         "lat": [
          40.71117444,
          40.74096374
         ],
         "line": {
          "color": "red",
          "width": 1
         },
         "lon": [
          -73.99682619,
          -73.98602213
         ],
         "mode": "lines",
         "type": "scattermapbox"
        },
        {
         "lat": [
          40.70569254,
          40.74096374
         ],
         "line": {
          "color": "red",
          "width": 1
         },
         "lon": [
          -74.01677685,
          -73.98602213
         ],
         "mode": "lines",
         "type": "scattermapbox"
        },
        {
         "lat": [
          40.76590936,
          40.74096374
         ],
         "line": {
          "color": "red",
          "width": 1
         },
         "lon": [
          -73.97634151,
          -73.98602213
         ],
         "mode": "lines",
         "type": "scattermapbox"
        },
        {
         "lat": [
          40.73381219196632,
          40.74096374
         ],
         "line": {
          "color": "red",
          "width": 1
         },
         "lon": [
          -73.9805442094803,
          -73.98602213
         ],
         "mode": "lines",
         "type": "scattermapbox"
        },
        {
         "lat": [
          40.74444921,
          40.74096374
         ],
         "line": {
          "color": "red",
          "width": 1
         },
         "lon": [
          -73.98303529,
          -73.98602213
         ],
         "mode": "lines",
         "type": "scattermapbox"
        },
        {
         "lat": [
          40.736502,
          40.74096374
         ],
         "line": {
          "color": "red",
          "width": 1
         },
         "lon": [
          -73.97809472,
          -73.98602213
         ],
         "mode": "lines",
         "type": "scattermapbox"
        },
        {
         "lat": [
          40.74311555376486,
          40.74096374
         ],
         "line": {
          "color": "red",
          "width": 1
         },
         "lon": [
          -73.98215353488922,
          -73.98602213
         ],
         "mode": "lines",
         "type": "scattermapbox"
        },
        {
         "lat": [
          40.71534825,
          40.74096374
         ],
         "line": {
          "color": "red",
          "width": 1
         },
         "lon": [
          -73.96024116,
          -73.98602213
         ],
         "mode": "lines",
         "type": "scattermapbox"
        },
        {
         "lat": [
          40.74025878,
          40.74096374
         ],
         "line": {
          "color": "red",
          "width": 1
         },
         "lon": [
          -73.98409214,
          -73.98602213
         ],
         "mode": "lines",
         "type": "scattermapbox"
        },
        {
         "lat": [
          40.74144387,
          40.74096374
         ],
         "line": {
          "color": "red",
          "width": 1
         },
         "lon": [
          -73.97536082,
          -73.98602213
         ],
         "mode": "lines",
         "type": "scattermapbox"
        },
        {
         "lat": [
          40.75299641,
          40.74096374
         ],
         "line": {
          "color": "red",
          "width": 1
         },
         "lon": [
          -73.98721619,
          -73.98602213
         ],
         "mode": "lines",
         "type": "scattermapbox"
        },
        {
         "lat": [
          40.710451,
          40.74096374
         ],
         "line": {
          "color": "red",
          "width": 1
         },
         "lon": [
          -73.960876,
          -73.98602213
         ],
         "mode": "lines",
         "type": "scattermapbox"
        },
        {
         "lat": [
          40.71893904,
          40.74096374
         ],
         "line": {
          "color": "red",
          "width": 1
         },
         "lon": [
          -73.99266288,
          -73.98602213
         ],
         "mode": "lines",
         "type": "scattermapbox"
        },
        {
         "lat": [
          40.771522,
          40.74096374
         ],
         "line": {
          "color": "red",
          "width": 1
         },
         "lon": [
          -73.99054100000001,
          -73.98602213
         ],
         "mode": "lines",
         "type": "scattermapbox"
        },
        {
         "lat": [
          40.75756989999999,
          40.74096374
         ],
         "line": {
          "color": "red",
          "width": 1
         },
         "lon": [
          -73.99098507,
          -73.98602213
         ],
         "mode": "lines",
         "type": "scattermapbox"
        },
        {
         "lat": [
          40.74290902,
          40.74096374
         ],
         "line": {
          "color": "red",
          "width": 1
         },
         "lon": [
          -73.97706058,
          -73.98602213
         ],
         "mode": "lines",
         "type": "scattermapbox"
        },
        {
         "lat": [
          40.744023,
          40.74096374
         ],
         "line": {
          "color": "red",
          "width": 1
         },
         "lon": [
          -73.976056,
          -73.98602213
         ],
         "mode": "lines",
         "type": "scattermapbox"
        },
        {
         "lat": [
          40.74765947,
          40.74096374
         ],
         "line": {
          "color": "red",
          "width": 1
         },
         "lon": [
          -73.98490707,
          -73.98602213
         ],
         "mode": "lines",
         "type": "scattermapbox"
        },
        {
         "lat": [
          40.75594159,
          40.74096374
         ],
         "line": {
          "color": "red",
          "width": 1
         },
         "lon": [
          -74.0021163,
          -73.98602213
         ],
         "mode": "lines",
         "type": "scattermapbox"
        },
        {
         "lat": [
          40.75527307,
          40.74096374
         ],
         "line": {
          "color": "red",
          "width": 1
         },
         "lon": [
          -73.98316936,
          -73.98602213
         ],
         "mode": "lines",
         "type": "scattermapbox"
        },
        {
         "lat": [
          40.75466591,
          40.74096374
         ],
         "line": {
          "color": "red",
          "width": 1
         },
         "lon": [
          -73.99138152,
          -73.98602213
         ],
         "mode": "lines",
         "type": "scattermapbox"
        },
        {
         "lat": [
          40.75714758,
          40.74096374
         ],
         "line": {
          "color": "red",
          "width": 1
         },
         "lon": [
          -73.97207836,
          -73.98602213
         ],
         "mode": "lines",
         "type": "scattermapbox"
        },
        {
         "lat": [
          40.75992262,
          40.74096374
         ],
         "line": {
          "color": "red",
          "width": 1
         },
         "lon": [
          -73.97648516,
          -73.98602213
         ],
         "mode": "lines",
         "type": "scattermapbox"
        },
        {
         "lat": [
          40.751872999999996,
          40.74096374
         ],
         "line": {
          "color": "red",
          "width": 1
         },
         "lon": [
          -73.97770600000001,
          -73.98602213
         ],
         "mode": "lines",
         "type": "scattermapbox"
        },
        {
         "lat": [
          40.74780373,
          40.74096374
         ],
         "line": {
          "color": "red",
          "width": 1
         },
         "lon": [
          -73.97344190000001,
          -73.98602213
         ],
         "mode": "lines",
         "type": "scattermapbox"
        },
        {
         "lat": [
          40.751581,
          40.74096374
         ],
         "line": {
          "color": "red",
          "width": 1
         },
         "lon": [
          -73.97791,
          -73.98602213
         ],
         "mode": "lines",
         "type": "scattermapbox"
        },
        {
         "lat": [
          40.76009437,
          40.74096374
         ],
         "line": {
          "color": "red",
          "width": 1
         },
         "lon": [
          -73.99461843,
          -73.98602213
         ],
         "mode": "lines",
         "type": "scattermapbox"
        },
        {
         "lat": [
          40.72938685,
          40.74096374
         ],
         "line": {
          "color": "red",
          "width": 1
         },
         "lon": [
          -73.97772429,
          -73.98602213
         ],
         "mode": "lines",
         "type": "scattermapbox"
        },
        {
         "lat": [
          40.7454973,
          40.74096374
         ],
         "line": {
          "color": "red",
          "width": 1
         },
         "lon": [
          -74.00197139,
          -73.98602213
         ],
         "mode": "lines",
         "type": "scattermapbox"
        },
        {
         "lat": [
          40.76341379,
          40.74096374
         ],
         "line": {
          "color": "red",
          "width": 1
         },
         "lon": [
          -73.99667444,
          -73.98602213
         ],
         "mode": "lines",
         "type": "scattermapbox"
        },
        {
         "lat": [
          40.73912601,
          40.74096374
         ],
         "line": {
          "color": "red",
          "width": 1
         },
         "lon": [
          -73.97973776,
          -73.98602213
         ],
         "mode": "lines",
         "type": "scattermapbox"
        },
        {
         "lat": [
          40.74901271,
          40.74096374
         ],
         "line": {
          "color": "red",
          "width": 1
         },
         "lon": [
          -73.98848395,
          -73.98602213
         ],
         "mode": "lines",
         "type": "scattermapbox"
        },
        {
         "lat": [
          40.73221853,
          40.74096374
         ],
         "line": {
          "color": "red",
          "width": 1
         },
         "lon": [
          -73.98165557,
          -73.98602213
         ],
         "mode": "lines",
         "type": "scattermapbox"
        },
        {
         "lat": [
          40.73827428,
          40.74096374
         ],
         "line": {
          "color": "red",
          "width": 1
         },
         "lon": [
          -73.98751968,
          -73.98602213
         ],
         "mode": "lines",
         "type": "scattermapbox"
        },
        {
         "lat": [
          40.714215,
          40.74096374
         ],
         "line": {
          "color": "red",
          "width": 1
         },
         "lon": [
          -73.981346,
          -73.98602213
         ],
         "mode": "lines",
         "type": "scattermapbox"
        },
        {
         "lat": [
          40.744219,
          40.74096374
         ],
         "line": {
          "color": "red",
          "width": 1
         },
         "lon": [
          -73.97121214,
          -73.98602213
         ],
         "mode": "lines",
         "type": "scattermapbox"
        },
        {
         "lat": [
          40.76228826,
          40.74096374
         ],
         "line": {
          "color": "red",
          "width": 1
         },
         "lon": [
          -73.98336183,
          -73.98602213
         ],
         "mode": "lines",
         "type": "scattermapbox"
        },
        {
         "lat": [
          40.76915505,
          40.74096374
         ],
         "line": {
          "color": "red",
          "width": 1
         },
         "lon": [
          -73.98191841,
          -73.98602213
         ],
         "mode": "lines",
         "type": "scattermapbox"
        },
        {
         "lat": [
          40.74854862,
          40.74096374
         ],
         "line": {
          "color": "red",
          "width": 1
         },
         "lon": [
          -73.98808416,
          -73.98602213
         ],
         "mode": "lines",
         "type": "scattermapbox"
        },
        {
         "lat": [
          40.73704984,
          40.74096374
         ],
         "line": {
          "color": "red",
          "width": 1
         },
         "lon": [
          -73.99009296,
          -73.98602213
         ],
         "mode": "lines",
         "type": "scattermapbox"
        },
        {
         "lat": [
          40.73726186,
          40.74096374
         ],
         "line": {
          "color": "red",
          "width": 1
         },
         "lon": [
          -73.99238967,
          -73.98602213
         ],
         "mode": "lines",
         "type": "scattermapbox"
        },
        {
         "lat": [
          40.76269882,
          40.74096374
         ],
         "line": {
          "color": "red",
          "width": 1
         },
         "lon": [
          -73.99301222,
          -73.98602213
         ],
         "mode": "lines",
         "type": "scattermapbox"
        },
        {
         "lat": [
          40.74734825,
          40.74096374
         ],
         "line": {
          "color": "red",
          "width": 1
         },
         "lon": [
          -73.99723551,
          -73.98602213
         ],
         "mode": "lines",
         "type": "scattermapbox"
        },
        {
         "lat": [
          40.7568001,
          40.74096374
         ],
         "line": {
          "color": "red",
          "width": 1
         },
         "lon": [
          -73.98291153,
          -73.98602213
         ],
         "mode": "lines",
         "type": "scattermapbox"
        },
        {
         "lat": [
          40.75019995,
          40.74096374
         ],
         "line": {
          "color": "red",
          "width": 1
         },
         "lon": [
          -73.99093085,
          -73.98602213
         ],
         "mode": "lines",
         "type": "scattermapbox"
        },
        {
         "lat": [
          40.74096374,
          40.74096374
         ],
         "line": {
          "color": "red",
          "width": 1
         },
         "lon": [
          -73.98602213,
          -73.98602213
         ],
         "mode": "lines",
         "type": "scattermapbox"
        },
        {
         "lat": [
          40.751551,
          40.74096374
         ],
         "line": {
          "color": "red",
          "width": 1
         },
         "lon": [
          -73.993934,
          -73.98602213
         ],
         "mode": "lines",
         "type": "scattermapbox"
        },
        {
         "lat": [
          40.75645824,
          40.74096374
         ],
         "line": {
          "color": "red",
          "width": 1
         },
         "lon": [
          -73.99372222,
          -73.98602213
         ],
         "mode": "lines",
         "type": "scattermapbox"
        },
        {
         "lat": [
          40.73314259,
          40.74096374
         ],
         "line": {
          "color": "red",
          "width": 1
         },
         "lon": [
          -73.97573881,
          -73.98602213
         ],
         "mode": "lines",
         "type": "scattermapbox"
        },
        {
         "lat": [
          40.7462009,
          40.74096374
         ],
         "line": {
          "color": "red",
          "width": 1
         },
         "lon": [
          -73.98855723,
          -73.98602213
         ],
         "mode": "lines",
         "type": "scattermapbox"
        },
        {
         "lat": [
          40.75038009,
          40.74096374
         ],
         "line": {
          "color": "red",
          "width": 1
         },
         "lon": [
          -73.98338988,
          -73.98602213
         ],
         "mode": "lines",
         "type": "scattermapbox"
        },
        {
         "lat": [
          40.75500254,
          40.74096374
         ],
         "line": {
          "color": "red",
          "width": 1
         },
         "lon": [
          -73.98014437,
          -73.98602213
         ],
         "mode": "lines",
         "type": "scattermapbox"
        },
        {
         "lat": [
          40.73223272,
          40.74096374
         ],
         "line": {
          "color": "red",
          "width": 1
         },
         "lon": [
          -73.98889957,
          -73.98602213
         ],
         "mode": "lines",
         "type": "scattermapbox"
        },
        {
         "lat": [
          40.73935542,
          40.74096374
         ],
         "line": {
          "color": "red",
          "width": 1
         },
         "lon": [
          -73.99931783,
          -73.98602213
         ],
         "mode": "lines",
         "type": "scattermapbox"
        },
        {
         "lat": [
          40.76019252,
          40.74096374
         ],
         "line": {
          "color": "red",
          "width": 1
         },
         "lon": [
          -73.9912551,
          -73.98602213
         ],
         "mode": "lines",
         "type": "scattermapbox"
        },
        {
         "lat": [
          40.76030096,
          40.74096374
         ],
         "line": {
          "color": "red",
          "width": 1
         },
         "lon": [
          -73.99884222,
          -73.98602213
         ],
         "mode": "lines",
         "type": "scattermapbox"
        },
        {
         "lat": [
          40.75640548,
          40.74096374
         ],
         "line": {
          "color": "red",
          "width": 1
         },
         "lon": [
          -73.9900262,
          -73.98602213
         ],
         "mode": "lines",
         "type": "scattermapbox"
        },
        {
         "lat": [
          40.74394314,
          40.74096374
         ],
         "line": {
          "color": "red",
          "width": 1
         },
         "lon": [
          -73.97966069,
          -73.98602213
         ],
         "mode": "lines",
         "type": "scattermapbox"
        },
        {
         "lat": [
          40.7451677,
          40.74096374
         ],
         "line": {
          "color": "red",
          "width": 1
         },
         "lon": [
          -73.98683077,
          -73.98602213
         ],
         "mode": "lines",
         "type": "scattermapbox"
        },
        {
         "lat": [
          40.72110063,
          40.74096374
         ],
         "line": {
          "color": "red",
          "width": 1
         },
         "lon": [
          -73.99192540000001,
          -73.98602213
         ],
         "mode": "lines",
         "type": "scattermapbox"
        },
        {
         "lat": [
          40.745712100000006,
          40.74096374
         ],
         "line": {
          "color": "red",
          "width": 1
         },
         "lon": [
          -73.98194829,
          -73.98602213
         ],
         "mode": "lines",
         "type": "scattermapbox"
        },
        {
         "lat": [
          40.74345335,
          40.74096374
         ],
         "line": {
          "color": "red",
          "width": 1
         },
         "lon": [
          -74.00004031,
          -73.98602213
         ],
         "mode": "lines",
         "type": "scattermapbox"
        },
        {
         "lat": [
          40.76344058,
          40.74096374
         ],
         "line": {
          "color": "red",
          "width": 1
         },
         "lon": [
          -73.98268129,
          -73.98602213
         ],
         "mode": "lines",
         "type": "scattermapbox"
        },
        {
         "lat": [
          40.7652654,
          40.74096374
         ],
         "line": {
          "color": "red",
          "width": 1
         },
         "lon": [
          -73.98192338,
          -73.98602213
         ],
         "mode": "lines",
         "type": "scattermapbox"
        },
        {
         "lat": [
          40.74395411,
          40.74096374
         ],
         "line": {
          "color": "red",
          "width": 1
         },
         "lon": [
          -73.99144871,
          -73.98602213
         ],
         "mode": "lines",
         "type": "scattermapbox"
        },
        {
         "lat": [
          40.75513557,
          40.74096374
         ],
         "line": {
          "color": "red",
          "width": 1
         },
         "lon": [
          -73.98658032,
          -73.98602213
         ],
         "mode": "lines",
         "type": "scattermapbox"
        },
        {
         "lat": [
          40.74691959,
          40.74096374
         ],
         "line": {
          "color": "red",
          "width": 1
         },
         "lon": [
          -74.00451887,
          -73.98602213
         ],
         "mode": "lines",
         "type": "scattermapbox"
        },
        {
         "lat": [
          40.73587678,
          40.74096374
         ],
         "line": {
          "color": "red",
          "width": 1
         },
         "lon": [
          -73.98205027,
          -73.98602213
         ],
         "mode": "lines",
         "type": "scattermapbox"
        },
        {
         "lat": [
          40.746745000000004,
          40.74096374
         ],
         "line": {
          "color": "red",
          "width": 1
         },
         "lon": [
          -74.007756,
          -73.98602213
         ],
         "mode": "lines",
         "type": "scattermapbox"
        },
        {
         "lat": [
          40.751396,
          40.74096374
         ],
         "line": {
          "color": "red",
          "width": 1
         },
         "lon": [
          -74.00522600000001,
          -73.98602213
         ],
         "mode": "lines",
         "type": "scattermapbox"
        },
        {
         "lat": [
          40.76695317,
          40.74096374
         ],
         "line": {
          "color": "red",
          "width": 1
         },
         "lon": [
          -73.98169333,
          -73.98602213
         ],
         "mode": "lines",
         "type": "scattermapbox"
        },
        {
         "lat": [
          40.75001986,
          40.74096374
         ],
         "line": {
          "color": "red",
          "width": 1
         },
         "lon": [
          -73.96905301,
          -73.98602213
         ],
         "mode": "lines",
         "type": "scattermapbox"
        },
        {
         "lat": [
          40.75455731,
          40.74096374
         ],
         "line": {
          "color": "red",
          "width": 1
         },
         "lon": [
          -73.96592976,
          -73.98602213
         ],
         "mode": "lines",
         "type": "scattermapbox"
        },
        {
         "lat": [
          40.74475148,
          40.74096374
         ],
         "line": {
          "color": "red",
          "width": 1
         },
         "lon": [
          -73.99915362,
          -73.98602213
         ],
         "mode": "lines",
         "type": "scattermapbox"
        },
        {
         "lat": [
          40.76461837,
          40.74096374
         ],
         "line": {
          "color": "red",
          "width": 1
         },
         "lon": [
          -73.98789473,
          -73.98602213
         ],
         "mode": "lines",
         "type": "scattermapbox"
        },
        {
         "lat": [
          40.75660359,
          40.74096374
         ],
         "line": {
          "color": "red",
          "width": 1
         },
         "lon": [
          -73.9979009,
          -73.98602213
         ],
         "mode": "lines",
         "type": "scattermapbox"
        }
       ],
       "layout": {
        "autosize": true,
        "hovermode": "closest",
        "mapbox": {
         "accesstoken": "pk.eyJ1Ijoiam1ibG9vbSIsImEiOiJja2Y1cm1maHUwYjNnMnBxN3pqcGZqNjd4In0.7r3hp8Vj1efich43hkUaDQ",
         "bearing": 0,
         "center": {
          "lat": 40.76,
          "lon": -73.99
         },
         "pitch": 0,
         "zoom": 12
        },
        "showlegend": false,
        "template": {
         "data": {
          "bar": [
           {
            "error_x": {
             "color": "#2a3f5f"
            },
            "error_y": {
             "color": "#2a3f5f"
            },
            "marker": {
             "line": {
              "color": "#E5ECF6",
              "width": 0.5
             }
            },
            "type": "bar"
           }
          ],
          "barpolar": [
           {
            "marker": {
             "line": {
              "color": "#E5ECF6",
              "width": 0.5
             }
            },
            "type": "barpolar"
           }
          ],
          "carpet": [
           {
            "aaxis": {
             "endlinecolor": "#2a3f5f",
             "gridcolor": "white",
             "linecolor": "white",
             "minorgridcolor": "white",
             "startlinecolor": "#2a3f5f"
            },
            "baxis": {
             "endlinecolor": "#2a3f5f",
             "gridcolor": "white",
             "linecolor": "white",
             "minorgridcolor": "white",
             "startlinecolor": "#2a3f5f"
            },
            "type": "carpet"
           }
          ],
          "choropleth": [
           {
            "colorbar": {
             "outlinewidth": 0,
             "ticks": ""
            },
            "type": "choropleth"
           }
          ],
          "contour": [
           {
            "colorbar": {
             "outlinewidth": 0,
             "ticks": ""
            },
            "colorscale": [
             [
              0,
              "#0d0887"
             ],
             [
              0.1111111111111111,
              "#46039f"
             ],
             [
              0.2222222222222222,
              "#7201a8"
             ],
             [
              0.3333333333333333,
              "#9c179e"
             ],
             [
              0.4444444444444444,
              "#bd3786"
             ],
             [
              0.5555555555555556,
              "#d8576b"
             ],
             [
              0.6666666666666666,
              "#ed7953"
             ],
             [
              0.7777777777777778,
              "#fb9f3a"
             ],
             [
              0.8888888888888888,
              "#fdca26"
             ],
             [
              1,
              "#f0f921"
             ]
            ],
            "type": "contour"
           }
          ],
          "contourcarpet": [
           {
            "colorbar": {
             "outlinewidth": 0,
             "ticks": ""
            },
            "type": "contourcarpet"
           }
          ],
          "heatmap": [
           {
            "colorbar": {
             "outlinewidth": 0,
             "ticks": ""
            },
            "colorscale": [
             [
              0,
              "#0d0887"
             ],
             [
              0.1111111111111111,
              "#46039f"
             ],
             [
              0.2222222222222222,
              "#7201a8"
             ],
             [
              0.3333333333333333,
              "#9c179e"
             ],
             [
              0.4444444444444444,
              "#bd3786"
             ],
             [
              0.5555555555555556,
              "#d8576b"
             ],
             [
              0.6666666666666666,
              "#ed7953"
             ],
             [
              0.7777777777777778,
              "#fb9f3a"
             ],
             [
              0.8888888888888888,
              "#fdca26"
             ],
             [
              1,
              "#f0f921"
             ]
            ],
            "type": "heatmap"
           }
          ],
          "heatmapgl": [
           {
            "colorbar": {
             "outlinewidth": 0,
             "ticks": ""
            },
            "colorscale": [
             [
              0,
              "#0d0887"
             ],
             [
              0.1111111111111111,
              "#46039f"
             ],
             [
              0.2222222222222222,
              "#7201a8"
             ],
             [
              0.3333333333333333,
              "#9c179e"
             ],
             [
              0.4444444444444444,
              "#bd3786"
             ],
             [
              0.5555555555555556,
              "#d8576b"
             ],
             [
              0.6666666666666666,
              "#ed7953"
             ],
             [
              0.7777777777777778,
              "#fb9f3a"
             ],
             [
              0.8888888888888888,
              "#fdca26"
             ],
             [
              1,
              "#f0f921"
             ]
            ],
            "type": "heatmapgl"
           }
          ],
          "histogram": [
           {
            "marker": {
             "colorbar": {
              "outlinewidth": 0,
              "ticks": ""
             }
            },
            "type": "histogram"
           }
          ],
          "histogram2d": [
           {
            "colorbar": {
             "outlinewidth": 0,
             "ticks": ""
            },
            "colorscale": [
             [
              0,
              "#0d0887"
             ],
             [
              0.1111111111111111,
              "#46039f"
             ],
             [
              0.2222222222222222,
              "#7201a8"
             ],
             [
              0.3333333333333333,
              "#9c179e"
             ],
             [
              0.4444444444444444,
              "#bd3786"
             ],
             [
              0.5555555555555556,
              "#d8576b"
             ],
             [
              0.6666666666666666,
              "#ed7953"
             ],
             [
              0.7777777777777778,
              "#fb9f3a"
             ],
             [
              0.8888888888888888,
              "#fdca26"
             ],
             [
              1,
              "#f0f921"
             ]
            ],
            "type": "histogram2d"
           }
          ],
          "histogram2dcontour": [
           {
            "colorbar": {
             "outlinewidth": 0,
             "ticks": ""
            },
            "colorscale": [
             [
              0,
              "#0d0887"
             ],
             [
              0.1111111111111111,
              "#46039f"
             ],
             [
              0.2222222222222222,
              "#7201a8"
             ],
             [
              0.3333333333333333,
              "#9c179e"
             ],
             [
              0.4444444444444444,
              "#bd3786"
             ],
             [
              0.5555555555555556,
              "#d8576b"
             ],
             [
              0.6666666666666666,
              "#ed7953"
             ],
             [
              0.7777777777777778,
              "#fb9f3a"
             ],
             [
              0.8888888888888888,
              "#fdca26"
             ],
             [
              1,
              "#f0f921"
             ]
            ],
            "type": "histogram2dcontour"
           }
          ],
          "mesh3d": [
           {
            "colorbar": {
             "outlinewidth": 0,
             "ticks": ""
            },
            "type": "mesh3d"
           }
          ],
          "parcoords": [
           {
            "line": {
             "colorbar": {
              "outlinewidth": 0,
              "ticks": ""
             }
            },
            "type": "parcoords"
           }
          ],
          "pie": [
           {
            "automargin": true,
            "type": "pie"
           }
          ],
          "scatter": [
           {
            "marker": {
             "colorbar": {
              "outlinewidth": 0,
              "ticks": ""
             }
            },
            "type": "scatter"
           }
          ],
          "scatter3d": [
           {
            "line": {
             "colorbar": {
              "outlinewidth": 0,
              "ticks": ""
             }
            },
            "marker": {
             "colorbar": {
              "outlinewidth": 0,
              "ticks": ""
             }
            },
            "type": "scatter3d"
           }
          ],
          "scattercarpet": [
           {
            "marker": {
             "colorbar": {
              "outlinewidth": 0,
              "ticks": ""
             }
            },
            "type": "scattercarpet"
           }
          ],
          "scattergeo": [
           {
            "marker": {
             "colorbar": {
              "outlinewidth": 0,
              "ticks": ""
             }
            },
            "type": "scattergeo"
           }
          ],
          "scattergl": [
           {
            "marker": {
             "colorbar": {
              "outlinewidth": 0,
              "ticks": ""
             }
            },
            "type": "scattergl"
           }
          ],
          "scattermapbox": [
           {
            "marker": {
             "colorbar": {
              "outlinewidth": 0,
              "ticks": ""
             }
            },
            "type": "scattermapbox"
           }
          ],
          "scatterpolar": [
           {
            "marker": {
             "colorbar": {
              "outlinewidth": 0,
              "ticks": ""
             }
            },
            "type": "scatterpolar"
           }
          ],
          "scatterpolargl": [
           {
            "marker": {
             "colorbar": {
              "outlinewidth": 0,
              "ticks": ""
             }
            },
            "type": "scatterpolargl"
           }
          ],
          "scatterternary": [
           {
            "marker": {
             "colorbar": {
              "outlinewidth": 0,
              "ticks": ""
             }
            },
            "type": "scatterternary"
           }
          ],
          "surface": [
           {
            "colorbar": {
             "outlinewidth": 0,
             "ticks": ""
            },
            "colorscale": [
             [
              0,
              "#0d0887"
             ],
             [
              0.1111111111111111,
              "#46039f"
             ],
             [
              0.2222222222222222,
              "#7201a8"
             ],
             [
              0.3333333333333333,
              "#9c179e"
             ],
             [
              0.4444444444444444,
              "#bd3786"
             ],
             [
              0.5555555555555556,
              "#d8576b"
             ],
             [
              0.6666666666666666,
              "#ed7953"
             ],
             [
              0.7777777777777778,
              "#fb9f3a"
             ],
             [
              0.8888888888888888,
              "#fdca26"
             ],
             [
              1,
              "#f0f921"
             ]
            ],
            "type": "surface"
           }
          ],
          "table": [
           {
            "cells": {
             "fill": {
              "color": "#EBF0F8"
             },
             "line": {
              "color": "white"
             }
            },
            "header": {
             "fill": {
              "color": "#C8D4E3"
             },
             "line": {
              "color": "white"
             }
            },
            "type": "table"
           }
          ]
         },
         "layout": {
          "annotationdefaults": {
           "arrowcolor": "#2a3f5f",
           "arrowhead": 0,
           "arrowwidth": 1
          },
          "coloraxis": {
           "colorbar": {
            "outlinewidth": 0,
            "ticks": ""
           }
          },
          "colorscale": {
           "diverging": [
            [
             0,
             "#8e0152"
            ],
            [
             0.1,
             "#c51b7d"
            ],
            [
             0.2,
             "#de77ae"
            ],
            [
             0.3,
             "#f1b6da"
            ],
            [
             0.4,
             "#fde0ef"
            ],
            [
             0.5,
             "#f7f7f7"
            ],
            [
             0.6,
             "#e6f5d0"
            ],
            [
             0.7,
             "#b8e186"
            ],
            [
             0.8,
             "#7fbc41"
            ],
            [
             0.9,
             "#4d9221"
            ],
            [
             1,
             "#276419"
            ]
           ],
           "sequential": [
            [
             0,
             "#0d0887"
            ],
            [
             0.1111111111111111,
             "#46039f"
            ],
            [
             0.2222222222222222,
             "#7201a8"
            ],
            [
             0.3333333333333333,
             "#9c179e"
            ],
            [
             0.4444444444444444,
             "#bd3786"
            ],
            [
             0.5555555555555556,
             "#d8576b"
            ],
            [
             0.6666666666666666,
             "#ed7953"
            ],
            [
             0.7777777777777778,
             "#fb9f3a"
            ],
            [
             0.8888888888888888,
             "#fdca26"
            ],
            [
             1,
             "#f0f921"
            ]
           ],
           "sequentialminus": [
            [
             0,
             "#0d0887"
            ],
            [
             0.1111111111111111,
             "#46039f"
            ],
            [
             0.2222222222222222,
             "#7201a8"
            ],
            [
             0.3333333333333333,
             "#9c179e"
            ],
            [
             0.4444444444444444,
             "#bd3786"
            ],
            [
             0.5555555555555556,
             "#d8576b"
            ],
            [
             0.6666666666666666,
             "#ed7953"
            ],
            [
             0.7777777777777778,
             "#fb9f3a"
            ],
            [
             0.8888888888888888,
             "#fdca26"
            ],
            [
             1,
             "#f0f921"
            ]
           ]
          },
          "colorway": [
           "#636efa",
           "#EF553B",
           "#00cc96",
           "#ab63fa",
           "#FFA15A",
           "#19d3f3",
           "#FF6692",
           "#B6E880",
           "#FF97FF",
           "#FECB52"
          ],
          "font": {
           "color": "#2a3f5f"
          },
          "geo": {
           "bgcolor": "white",
           "lakecolor": "white",
           "landcolor": "#E5ECF6",
           "showlakes": true,
           "showland": true,
           "subunitcolor": "white"
          },
          "hoverlabel": {
           "align": "left"
          },
          "hovermode": "closest",
          "mapbox": {
           "style": "light"
          },
          "paper_bgcolor": "white",
          "plot_bgcolor": "#E5ECF6",
          "polar": {
           "angularaxis": {
            "gridcolor": "white",
            "linecolor": "white",
            "ticks": ""
           },
           "bgcolor": "#E5ECF6",
           "radialaxis": {
            "gridcolor": "white",
            "linecolor": "white",
            "ticks": ""
           }
          },
          "scene": {
           "xaxis": {
            "backgroundcolor": "#E5ECF6",
            "gridcolor": "white",
            "gridwidth": 2,
            "linecolor": "white",
            "showbackground": true,
            "ticks": "",
            "zerolinecolor": "white"
           },
           "yaxis": {
            "backgroundcolor": "#E5ECF6",
            "gridcolor": "white",
            "gridwidth": 2,
            "linecolor": "white",
            "showbackground": true,
            "ticks": "",
            "zerolinecolor": "white"
           },
           "zaxis": {
            "backgroundcolor": "#E5ECF6",
            "gridcolor": "white",
            "gridwidth": 2,
            "linecolor": "white",
            "showbackground": true,
            "ticks": "",
            "zerolinecolor": "white"
           }
          },
          "shapedefaults": {
           "line": {
            "color": "#2a3f5f"
           }
          },
          "ternary": {
           "aaxis": {
            "gridcolor": "white",
            "linecolor": "white",
            "ticks": ""
           },
           "baxis": {
            "gridcolor": "white",
            "linecolor": "white",
            "ticks": ""
           },
           "bgcolor": "#E5ECF6",
           "caxis": {
            "gridcolor": "white",
            "linecolor": "white",
            "ticks": ""
           }
          },
          "title": {
           "x": 0.05
          },
          "xaxis": {
           "automargin": true,
           "gridcolor": "white",
           "linecolor": "white",
           "ticks": "",
           "title": {
            "standoff": 15
           },
           "zerolinecolor": "white",
           "zerolinewidth": 2
          },
          "yaxis": {
           "automargin": true,
           "gridcolor": "white",
           "linecolor": "white",
           "ticks": "",
           "title": {
            "standoff": 15
           },
           "zerolinecolor": "white",
           "zerolinewidth": 2
          }
         }
        }
       }
      },
      "text/html": [
       "<div>                            <div id=\"f0698f35-0079-4d31-8019-93c5e063dc53\" class=\"plotly-graph-div\" style=\"height:525px; width:100%;\"></div>            <script type=\"text/javascript\">                require([\"plotly\"], function(Plotly) {                    window.PLOTLYENV=window.PLOTLYENV || {};                                    if (document.getElementById(\"f0698f35-0079-4d31-8019-93c5e063dc53\")) {                    Plotly.newPlot(                        \"f0698f35-0079-4d31-8019-93c5e063dc53\",                        [{\"lat\": [40.76727216, 40.71911552, 40.71117416, 40.68382604, 40.74177603, 40.69608941, 40.68676793, 40.73172428, 40.72710258, 40.69239502, 40.69839895, 40.71625008, 40.720873600000004, 40.72210378668603, 40.71473993, 40.752062306999996, 40.69089272, 40.72917025, 40.75323098, 40.7489006, 40.73971301, 40.76068327096592, 40.7381765, 40.70905623, 40.74334935, 40.70037867, 40.70277159, 40.73781509, 40.71146364, 40.74195138, 40.7546011026, 40.72743423, 40.69597683, 40.7284186, 40.73047309, 40.7361967, 40.69196566, 40.68981035, 40.697787, 40.688226, 40.69196035, 40.69327018, 40.73535398, 40.72185379, 40.71870987, 40.72317958, 40.73226398, 40.73543934, 40.73532427, 40.646768, 40.71939226, 40.68940747, 40.70122128, 40.70365182, 40.69474881, 40.6917823, 40.70706456, 40.72229346, 40.72368361, 40.75097711, 40.71910537, 40.69308257, 40.68691865, 40.68650065, 40.71748752, 40.69766564, 40.707873, 40.73331967, 40.764397100000004, 40.7076449441757, 40.7390169121, 40.73454567, 40.684568299999995, 40.713126, 40.73020660529954, 40.71406667, 40.71413089, 40.734232, 40.68683208, 40.72217444, 40.72082834, 40.72362738, 40.70463334, 40.76095756, 40.70823502, 40.71427487, 40.71307916, 40.7149787, 40.68926942, 40.7172274, 40.722055, 40.69610226, 40.69383, 40.70355377, 40.70955958, 40.72453734, 40.711065999999995, 40.717571, 40.69991755, 40.696191999999996, 40.69236178, 40.689888, 40.73624527, 40.72953837, 40.715337899999994, 40.72405549, 40.71450451, 40.71173107, 40.71219906, 40.74238787, 40.72903917, 40.73047747, 40.703799200000006, 40.72580614, 40.71269042, 40.71782143, 40.71739973, 40.69794, 40.6851443, 40.73649403, 40.73652889, 40.728846000000004, 40.72490985, 40.71850211, 40.71559509, 40.70530954, 40.68539567, 40.69363137, 40.71602118, 40.71622644, 40.73261787, 40.73291553, 40.75510267, 40.70717936, 40.71605866, 40.75172632, 40.70834698, 40.68900443, 40.68223166, 40.693261, 40.73038599, 40.73224119, 40.694528000000005, 40.69331716, 40.70862144, 40.72243797, 40.749156, 40.73401143, 40.73492695, 40.735238, 40.683048, 40.75797322, 40.71494807, 40.71273266, 40.749717753, 40.71044554, 40.69221589, 40.69760127, 40.695065, 40.72299208, 40.72521311, 40.68807003, 40.680342423, 40.68415748, 40.69165183, 40.68851534, 40.71926081, 40.72019576, 40.740343200000005, 40.72502876, 40.69512845, 40.700469, 40.71076228, 40.6906495, 40.72066442, 40.72228087, 40.715815500000005, 40.70281858, 40.7047177, 40.68753406, 40.71291224, 40.70224, 40.69580705, 40.68764484, 40.69573398, 40.770513, 40.76584941, 40.71754834, 40.701907, 40.72467721, 40.7014851, 40.72621788, 40.72955361, 40.74317449, 40.74173969, 40.68216564, 40.6809833854, 40.72779126, 40.726280700000004, 40.75255434, 40.756014, 40.746646999999996, 40.70853074, 40.742354299999995, 40.72740794, 40.74487634, 40.76370739, 40.75660359, 40.76461837, 40.76227205, 40.74475148, 40.75455731, 40.75001986, 40.75971079999999, 40.76695317, 40.751396, 40.746745000000004, 40.71285887, 40.73587678, 40.74691959, 40.75513557, 40.74395411, 40.68312489, 40.7652654, 40.76344058, 40.74345335, 40.71286844, 40.745712100000006, 40.72110063, 40.7451677, 40.74394314, 40.75640548, 40.76030096, 40.76019252, 40.76669671, 40.71260486, 40.73935542, 40.73223272, 40.75500254, 40.75038009, 40.7462009, 40.73314259, 40.75645824, 40.751551, 40.74096374, 40.75019995, 40.7568001, 40.74734825, 40.76269882, 40.73726186, 40.73704984, 40.74854862, 40.76915505, 40.76228826, 40.744219, 40.714215, 40.73827428, 40.73221853, 40.74901271, 40.73912601, 40.76341379, 40.7454973, 40.72938685, 40.768254, 40.76087502, 40.76009437, 40.75206862, 40.751581, 40.74780373, 40.751872999999996, 40.75992262, 40.75714758, 40.75466591, 40.75527307, 40.75594159, 40.74765947, 40.744023, 40.74290902, 40.75756989999999, 40.771522, 40.71893904, 40.710451, 40.75299641, 40.70255065, 40.74144387, 40.74025878, 40.71534825, 40.74311555376486, 40.736502, 40.74444921, 40.70255088, 40.699773, 40.716887, 40.73381219196632, 40.724399, 40.70531194, 40.76590936, 40.70569254, 40.71117444, 40.72165481, 40.739445, 40.75929124, 40.759107, 40.75968085, 40.711512, 40.72036775298455, 40.646678, 40.67890679, 40.6794268, 40.6814598, 40.6800105, 40.682601, 40.682368700000005, 40.684020000000004, 40.68488, 40.6851532, 40.686312, 40.6900815, 40.6894932, 40.68833370000001, 40.69072549, 40.69128258, 40.69237074, 40.693398200000004, 40.69425403, 40.69622937, 40.69539817, 40.69527008, 40.69681963, 40.70029511, 40.69957608, 40.7016657, 40.7031724, 40.70411791, 40.70510918, 40.70538077, 40.70583339, 40.70691254, 40.70767788, 40.70708701, 40.70870368, 40.70877084, 40.70925562, 40.709340000000005, 40.711863, 40.71167351, 40.71247661, 40.714690000000004, 40.715143, 40.71413311, 40.7160751, 40.71774592, 40.71764, 40.7190095, 40.71745169, 40.7169811, 40.71929301, 40.71924, 40.724812564400175, 40.72079821, 40.72179134, 40.72153267, 40.724055, 40.72325, 40.72311651, 40.725570000000005, 40.72606, 40.72708584, 40.725848299999996, 40.72906, 40.730259999999994, 40.73165141, 40.73232194, 40.732659999999996, 40.735640000000004, 40.73555, 40.74232744, 40.741609999999994, 40.74524768, 40.74436328706688, 40.74469738, 40.74731, 40.74708586, 40.74718234, 40.74966, 40.75052534, 40.75110165, 40.75325964, 40.76712840349542, 40.76350532, 40.76312584, 40.77112927, 40.766368, 40.77282817, 40.77118287540658, 40.77140426, 40.76500525, 40.761227399999996, 40.77682863439968, 40.77677702, 40.77862688, 40.77573034, 40.77801203, 40.77565541, 40.77536905, 40.7728384, 40.76873687, 40.76440023, 40.76663814, 40.77518615, 40.77163851, 40.77492513, 40.77896784, 40.7801839724239, 40.78339981, 40.7734066, 40.7770575, 40.77579376683666, 40.780577990103346, 40.779668090073116, 40.78472675, 40.78720869, 40.78499979, 40.78524672, 40.7785669, 40.777507027547976, 40.77748046, 40.77452835, 40.7867947, 40.78414472, 40.698617, 40.69878, 40.729193, 40.743, 40.758996559605116, 40.73997354103409, 40.78275, 40.76780080148132, 40.68962188790333, 40.75724567911726, 40.752165280621966, 40.75898481399634, 40.77391390238118, 40.646538367096475, 40.759030082196055, 40.686203000000006, 40.69102925677968, 40.75892386377695, 40.73143724085228, 40.680356084043396, 40.7505853470215, 40.7277140777778, 40.750181563256824, 40.74937024193277, 40.72706363348306, 40.72923649910006, 40.76421007169064, 40.7245634290432, 40.78307, 40.7882213, 40.781410700190015, 40.78839, 40.7806284, 40.778301, 40.79017948095081, 40.7779453, 40.785785100000005, 40.7921, 40.7835016, 40.791270000000004, 40.668662700000006, 40.686371, 40.66514681533792, 40.7919557, 40.7969347, 40.6849894, 40.668127, 40.781122299341654, 40.666207799999995, 40.7941654, 40.686175799999994, 40.7859201, 40.663779, 40.68763155, 40.78172120000001, 40.666318100000005, 40.7937704, 40.684751399999996, 40.798993700000004, 40.6686273, 40.7839636, 40.666287, 40.793393, 40.683116399999996, 40.668603000000004, 40.798185600000004, 40.6685455, 40.7849032, 40.67434, 40.787721399999995, 40.795, 40.6829151, 40.672505799999996, 40.8013434, 40.68199044270703, 40.6747055, 40.6772744, 40.787801, 40.67363551341504, 40.786258600000004, 40.6765304, 40.6753274, 40.795346, 40.677774799999995, 40.7997568, 40.679043, 40.78948541553215, 40.675146838709786, 40.6773429, 40.677236, 40.6729679, 40.797372100000004, 40.7869946, 40.67267243410948, 40.6747844, 40.668132, 40.768008893059466, 40.7746671, 40.80083629999999, 40.671197799999995, 40.7691572, 40.7829391, 40.6740886, 40.7781314, 40.7904828, 40.6751622, 40.67038370000001, 40.8021174, 40.792255299999994, 40.672815500000006, 40.7727966, 40.674613422475815, 40.7689738, 40.675070500000004, 40.799484, 40.7699426, 40.76471851944339, 40.6786115, 40.773763, 40.790305100000005, 40.6777287, 40.680611, 40.804213, 40.678724200000005, 40.6809591, 40.79343370000001, 40.6828003, 40.6830456, 40.79329668, 40.7892529, 40.681211700000006, 40.67943270000001, 40.6769993, 40.6763744, 40.6783563, 40.6763947, 40.67469570000001, 40.67260298150126, 40.796153499999996, 40.6724811, 40.6902375, 40.6705135, 40.670492200000005, 40.670483600000004, 40.67909799721684, 40.6881529, 40.686744299999994, 40.686444200000004, 40.6849668, 40.6853761, 40.6827549, 40.680944723477296, 40.6793307, 40.67761470000001, 40.6795766, 40.675020700000005, 40.67927879999999, 40.6802133, 40.6843549, 40.6859296, 40.6610633719006, 40.791976, 40.789210499999996, 40.72430527250332, 40.740983, 40.68506807308177, 40.71907891179564, 40.746524, 40.790254173304184, 40.718821999999996, 40.721319, 40.772248537721744, 40.692418292578466, 40.752957, 40.76132983124814, 40.791811715010965, 40.76703432309872, 40.72146256229816, 40.7512836, 40.71915571696044, 40.71335226222875, 40.71036854235229, 40.68680820503432, 40.716380319735606], \"lon\": [-73.99392888, -74.00666661, -74.00016545, -73.97632328, -74.00149746, -73.97803415, -73.95928168, -74.00674436, -74.00297088, -73.99337909, -73.98068914, -74.0091059, -73.98085795, -73.99724900722505, -74.00910627, -73.9816324043, -73.99612349, -73.99810231, -73.97032517, -73.97604882, -73.99456405, -73.98452728986742, -73.97738662, -74.01043382, -74.00681753, -73.99548059, -73.99383605, -73.99994661, -74.00552427, -74.00803013, -73.971878855, -73.99379025, -73.99014892, -73.98713956, -73.98672378, -74.00859207, -73.9813018, -73.97493121, -73.973736, -73.979382, -73.96536851, -73.97703874, -74.00483091, -74.00771779, -74.0090009, -73.99480012, -73.99852205, -73.99453948, -73.99800419, -74.01651, -74.00247214, -73.96885458, -74.01234218, -74.01167797, -73.98362464, -73.97372990000001, -74.00731853, -73.99147535, -73.97574813, -73.98765428, -73.99973337, -73.97178913, -73.976682, -73.96563307, -74.0104554, -73.98476437, -74.00166999999999, -73.99510132, -73.97371465, -73.96841526031494, -74.0026376103, -73.99074142, -73.95881081, -73.984844, -73.99102628231049, -73.99293911, -73.99704679999999, -73.986923, -73.9796772, -73.98368779, -73.97793172, -73.99949601, -74.01361706, -73.96724467, -74.00530063, -73.98990025, -73.99851193, -74.013012, -73.98912867, -73.98802084, -73.989111, -73.96751037, -73.990539, -74.00670227, -74.00653609, -73.98185424, -74.009447, -74.005549, -73.98971773, -73.991218, -73.98631746, -73.981013, -73.98473765, -73.98426726, -74.01658354, -74.00965965, -74.00562789, -73.99193043, -73.97948148, -73.99726235, -73.99404649, -73.99906065, -74.00838676, -73.97422494, -73.98776323, -73.97628939, -73.98016555, -73.96986848, -73.95380904, -73.99704374, -74.00618026, -74.00859100000001, -74.00154702, -73.98329859, -73.9870295, -74.00612572, -73.97431458, -73.96223558, -73.99974372, -73.98261206, -73.99158043, -74.00711384, -73.97498696, -74.00887308, -73.99190759, -73.98753523, -74.01713445, -73.96023854, -73.9614583, -73.968896, -74.00214988, -74.00026394, -73.958089, -73.95381995, -74.00722156, -74.00566443, -73.9916, -74.00293877, -73.99200509, -74.000271, -73.964915, -73.96603308, -74.00234482, -74.0046073, -74.002950346, -73.96525063, -73.9842844, -73.99344559, -73.987167, -73.97995466, -73.97768752, -73.98410637, -73.9557689392, -73.96922273, -73.99997859999999, -73.9647628, -73.98178024, -73.98997825, -73.98955109, -73.99069656, -73.99595065, -73.991454, -73.99400398, -73.95643107, -73.98517977, -73.97668709, -73.99422366, -73.98765762, -74.00926027, -73.97265183, -74.01020234, -73.982578, -73.97355569, -73.96968902, -73.97129668, -73.988038, -73.98690506, -74.01322069, -74.013942, -73.98783413, -73.98656928, -73.98379855, -73.98057249, -74.00366443, -73.99415556, -73.95399026, -73.9500479759, -73.98564945, -73.98978041, -73.97282625, -73.967416, -73.993915, -73.96408963, -73.98915076, -73.98142006, -73.99529885, -73.9851615, -73.9979009, -73.98789473, -73.98788205, -73.99915362, -73.96592976, -73.96905301, -73.97402311, -73.98169333, -74.00522600000001, -74.007756, -73.96590294, -73.98205027, -74.00451887, -73.98658032, -73.99144871, -73.97895137, -73.98192338, -73.98268129, -74.00004031, -73.95698119, -73.98194829, -73.99192540000001, -73.98683077, -73.97966069, -73.9900262, -73.99884222, -73.9912551, -73.99061728, -73.96264403, -73.99931783, -73.98889957, -73.98014437, -73.98338988, -73.98855723, -73.97573881, -73.99372222, -73.993934, -73.98602213, -73.99093085, -73.98291153, -73.99723551, -73.99301222, -73.99238967, -73.99009296, -73.98808416, -73.98191841, -73.98336183, -73.97121214, -73.981346, -73.98751968, -73.98165557, -73.98848395, -73.97973776, -73.99667444, -74.00197139, -73.97772429, -73.988639, -74.00277668, -73.99461843, -73.96784384, -73.97791, -73.97344190000001, -73.97770600000001, -73.97648516, -73.97207836, -73.99138152, -73.98316936, -74.0021163, -73.98490707, -73.976056, -73.97706058, -73.99098507, -73.99054100000001, -73.99266288, -73.960876, -73.98721619, -74.0127234, -73.97536082, -73.98409214, -73.96024116, -73.98215353488922, -73.97809472, -73.98303529, -73.98940236, -73.979927, -73.96319799999999, -73.9805442094803, -74.004704, -73.97100056, -73.97634151, -74.01677685, -73.99682619, -74.00234737, -73.97680600000001, -73.98859651, -73.959223, -73.97031366, -74.01575600000001, -73.96165072917937, -74.016263, -73.94142771, -73.92989109999999, -73.934903, -73.938475, -73.938037, -73.944118, -73.94977, -73.96304, -73.94111, -73.935775, -73.94791500000001, -73.942061, -73.950916, -73.95133465, -73.9452416, -73.93705428, -73.939877, -73.94626915, -73.94371094, -73.94954908, -73.95238108, -73.93756926, -73.95032283, -73.94708417, -73.9437303, -73.940636, -73.94818595, -73.94407279, -73.94976519, -73.94644578, -73.95441667, -73.94016171, -73.95796783, -73.9448625, -73.95095259, -73.95982218, -73.95608, -73.944024, -73.95141312, -73.94100005, -73.95739, -73.944507, -73.95234386, -73.95202900000001, -73.95600096, -73.94882, -73.95852515, -73.95850939, -73.94485918, -73.94500379, -73.95241999999999, -73.94752621650694, -73.95484712, -73.95041540000001, -73.95782357, -73.955736, -73.94308000000001, -73.95212324, -73.94434, -73.95621, -73.95299117, -73.95064893, -73.95779, -73.95394, -73.96161892, -73.9550858, -73.95826, -73.95866, -73.95284000000001, -73.95411749, -73.96044, -73.94733276, -73.95587325096129, -73.93540375, -73.95451, -73.94977234, -73.9432635, -73.9521, -73.94594845, -73.94073717, -73.94335788, -73.96224617958069, -73.97109243, -73.96526895, -73.95772297, -73.971518, -73.96685276, -73.96409422159195, -73.9535166, -73.95818491, -73.96094022, -73.96388769149779, -73.95900970000001, -73.95772073, -73.9567526, -73.95407149, -73.95068615, -73.94803392, -73.94989233, -73.96119945, -73.96648977, -73.95348296, -73.94446054, -73.98261428, -73.98266566, -73.97374737, -73.97728532552719, -73.98093133, -73.97782542, -73.97898475, -73.97620573639871, -73.98562431335448, -73.98093044757842, -73.96961715, -73.98128127, -73.97283406, -73.97667321, -73.97754961, -73.98888587951659, -73.98288594, -73.98753759, -73.977112, -73.98362492, -73.941342, -73.99712, -73.97665500000001, -73.93561, -73.96865397691727, -74.00513872504234, -73.97137, -73.96592080593109, -73.98304268717766, -73.97805914282799, -73.97992193698882, -73.99379968643187, -73.9543953537941, -74.0165877342224, -73.9938586950302, -73.944694, -73.99183362722397, -73.96226227283478, -73.99490341544151, -73.94767910242079, -73.9946848154068, -74.01129573583603, -74.00218427181244, -73.99923384189607, -73.99662137031554, -73.99086803197861, -73.96910458803177, -73.9894437789917, -73.95939, -73.97041561, -73.95595908164978, -73.9747, -73.9521667, -73.9488134, -73.97288918495178, -73.94604100000001, -73.957481, -73.9739, -73.955327, -73.964839, -73.97988067, -73.99383324, -73.97637605667114, -73.968087, -73.9643412291, -73.99440329, -73.98377641, -73.94965589046478, -73.98199886, -73.974124, -73.99645295, -73.94860294, -73.98396846, -74.0016256, -73.94594000000001, -73.9854617, -73.971888, -73.99917254, -73.96621737779999, -73.98700053, -73.94716729999999, -73.98895053, -73.96355559999999, -73.99785267, -73.99043940000001, -73.96059090060001, -73.99333264, -73.950503, -74.00194698, -73.94728331, -73.9645, -73.99318208, -74.00494695, -73.97114574390001, -73.99079024791719, -74.00755720000001, -73.98282002, -73.953559, -74.01195555925368, -73.94552579, -73.97846879, -74.0100698, -73.96186, -74.0094613, -73.9621128676, -74.011169, -73.9524292945862, -73.9752320945263, -74.01275056, -74.015665, -73.97087984, -73.97041192, -73.94164802, -74.00879524648191, -74.01612847, -73.97363831, -73.96845281124116, -73.98470567, -73.9664492472, -73.97484126, -73.96703464, -73.9786517, -73.9787282, -73.96069399, -73.95033068, -73.9814832, -73.97839676, -73.9681805305, -73.95249933, -73.98352355, -73.95577801, -73.98501142859459, -73.95482273, -73.98775226, -73.955613, -73.96060712, -73.96222069859505, -73.99037292, -73.96222088, -73.94755757, -73.99364123, -73.99475825, -73.96699104, -73.99599099, -73.99905709, -73.94945003, -73.99990419, -74.00348559, -73.9432083, -73.93956237, -74.00860912, -74.00785041, -74.00647134, -74.00324957, -74.00014502, -73.99869893, -73.99785768, -73.98983001708984, -73.94782145, -73.99331394, -73.99203074, -73.98876585, -73.98541675, -73.98208968, -73.98765474557877, -73.99520919, -73.99063168, -73.98759104, -73.98620772, -73.98302136, -73.98258555, -73.97567331790923, -73.97519523, -73.97324283, -73.97854971, -73.97111473, -73.98154004, -73.98432695, -73.98901629, -74.00242364, -73.97945255041121, -73.945993, -73.94370784, -73.99600982666016, -74.00170200000001, -73.97790759801863, -73.94223690032959, -73.977885, -73.97718340158461, -73.99596, -74.010065, -73.95842134952545, -73.98949474096298, -74.00264, -73.97982001304626, -73.9786022901535, -73.95622730255127, -73.94800901412964, -73.9969245, -73.94885390996933, -73.9491033554077, -73.94705951213838, -73.98036181926726, -73.94821286201476], \"marker\": {\"size\": 9}, \"mode\": \"markers\", \"text\": [\"W 52 St & 11 Ave\", \"Franklin St & W Broadway\", \"St James Pl & Pearl St\", \"Atlantic Ave & Fort Greene Pl\", \"W 17 St & 8 Ave\", \"Park Ave & St Edwards St\", \"Lexington Ave & Classon Ave\", \"Barrow St & Hudson St\", \"MacDougal St & Prince St\", \"Clinton St & Joralemon St\", \"Nassau St & Navy St\", \"Hudson St & Reade St\", \"E 2 St & Avenue C\", \"Cleveland Pl & Spring St\", \"Warren St & Church St\", \"E 40 St & 5 Ave\", \"Henry St & Atlantic Ave\", \"LaGuardia Pl & W 3 St\", \"E 47 St & 2 Ave\", \"E 39 St & 3 Ave\", \"W 18 St & 6 Ave\", \"Broadway & W 49 St\", \"E 25 St & 1 Ave\", \"Liberty St & Broadway\", \"W 16 St & The High Line\", \"Columbia Heights & Cranberry St\", \"Old Fulton St\", \"W 13 St & 7 Ave\", \"Spruce St & Nassau St\", \"W 14 St & The High Line\", \"E 48 St & 3 Ave\", \"Great Jones St\", \"Cadman Plaza E & Tillary St\", \"St Marks Pl & 2 Ave\", \"E 11 St & 2 Ave\", \"Bank St & Washington St\", \"Willoughby St & Fleet St\", \"DeKalb Ave & S Portland Ave\", \"Carlton Ave & Flushing Ave\", \"Fulton St & Rockwell Pl\", \"Willoughby Ave & Hall St\", \"Myrtle Ave & St Edwards St\", \"Perry St & Bleecker St\", \"Laight St & Hudson St\", \"Harrison St & Hudson St\", \"Mott St & Prince St\", \"MacDougal St & Washington Sq\", \"W 13 St & 5 Ave\", \"W 11 St & 6 Ave\", \"NYCBS Depot - SSP\", \"Lispenard St & Broadway\", \"DeKalb Ave & Vanderbilt Ave\", \"South St & Whitehall St\", \"Broad St & Bridge St\", \"Johnson St & Gold St\", \"Washington Park\", \"Maiden Ln & Pearl St\", \"Stanton St & Chrystie St\", \"Avenue D & E 8 St\", \"Broadway & W 36 St\", \"Howard St & Centre St\", \"Adelphi St & Myrtle Ave\", \"Lafayette Ave & Fort Greene Pl\", \"Washington Ave & Greene Ave\", \"Duane St & Greenwich St\", \"Concord St & Bridge St\", \"Peck Slip & Front St\", \"E 10 St & 5 Ave\", \"Grand Army Plaza & Central Park S\", \"Kent Ave & S 11 St\", \"Greenwich Ave & 8 Ave\", \"Broadway & E 14 St\", \"Monroe St & Classon Ave\", \"Madison St & Montgomery St\", \"Lafayette St & E 8 St\", \"Pike St & E Broadway\", \"Division St & Bowery\", \"E 15 St & 3 Ave\", \"3 Ave & Schermerhorn St\", \"E 2 St & Avenue B\", \"Avenue D & E 3 St\", \"Mercer St & Spring St\", \"Broadway & Battery Pl\", \"E 58 St & 3 Ave\", \"Cliff St & Fulton St\", \"Canal St & Rutgers St\", \"St James Pl & Oliver St\", \"Murray St & West St\", \"State St & Smith St\", \"Norfolk St & Broome St\", \"Allen St & Stanton St\", \"Washington Ave & Park Ave\", \"Cadman Plaza West & Montague St\", \"South St & Gouverneur Ln\", \"Fulton St & William St\", \"E 6 St & Avenue B\", \"Fulton St & Broadway\", \"Leonard St & Church St\", \"Cadman Plaza E & Red Cross Pl\", \"Clinton St & Tillary St\", \"Lawrence St & Willoughby St\", \"DeKalb Ave & Hudson Ave\", \"E 19 St & 3 Ave\", \"E 11 St & 1 Ave\", \"Vesey Pl & River Terrace\", \"Watts St & Greenwich St\", \"Reade St & Broadway\", \"Pike St & Monroe St\", \"Cherry St\", \"W 20 St & 7 Ave\", \"Washington Pl & Broadway\", \"Sullivan St & Washington Sq\", \"Old Slip & Front St\", \"Avenue D & E 12 St\", \"Madison St & Clinton St\", \"Stanton St & Mangin St\", \"Columbia St & Rivington St\", \"Clinton Ave & Flushing Ave\", \"Monroe St & Bedford Ave\", \"W 13 St & 6 Ave\", \"Bank St & Hudson St\", \"Greenwich St & W Houston St\", \"W Broadway & Spring St\", \"Rivington St & Ridge St\", \"Clinton St & Grand St\", \"Front St & Maiden Ln\", \"S Portland Ave & Hanson Pl\", \"Emerson Pl & Myrtle Ave\", \"Bayard St & Baxter St\", \"Bialystoker Pl & Delancey St\", \"E 11 St & Broadway\", \"Christopher St & Greenwich St\", \"E 47 St & Park Ave\", \"William St & Pine St\", \"Allen St & Hester St\", \"Broadway & W 37 St\", \"West Thames St\", \"Lafayette Ave & Classon Ave\", \"Fulton St & Grand Ave\", \"Clinton Ave & Myrtle Ave\", \"Carmine St & 6 Ave\", \"Washington Pl & 6 Ave\", \"Franklin Ave & Myrtle Ave\", \"Willoughby Ave & Walworth St\", \"John St & William St\", \"6 Ave & Canal St\", \"W 31 St & 7 Ave\", \"W 4 St & 7 Ave S\", \"University Pl & E 14 St\", \"Greenwich Ave & Charles St\", \"Fulton St & Washington Ave\", \"E 55 St & 2 Ave\", \"Centre St & Worth St\", \"Centre St & Chambers St\", \"W 26 St & 10 Ave\", \"Broadway & Berry St\", \"Duffield St & Willoughby St\", \"Clark St & Henry St\", \"Jay St & Tech Pl\", \"E 5 St & Avenue C\", \"E 9 St & Avenue C\", \"Bond St & Schermerhorn St\", \"Lefferts Pl & Franklin Ave\", \"Fulton St & Clermont Ave\", \"Atlantic Ave & Furman St\", \"Lafayette Ave & St James Pl\", \"Pitt St & Stanton St\", \"Allen St & Rivington St\", \"Broadway & E 22 St\", \"E 2 St & 2 Ave\", \"Hicks St & Montague St\", \"Henry St & Poplar St\", \"Market St & Cherry St\", \"DeKalb Ave & Skillman St\", \"Suffolk St & Stanton St\", \"E 6 St & Avenue D\", \"Forsyth St & Canal St\", \"Pearl St & Anchorage Pl\", \"Pearl St & Hanover Square\", \"Cumberland St & Lafayette Ave\", \"Barclay St & Church St\", \"Front St & Gold St\", \"Carlton Ave & Park Ave\", \"Clermont Ave & Lafayette Ave\", \"Clermont Ave & Park Ave\", \"W 59 St & 10 Ave\", \"W 54 St & 9 Ave\", \"West St & Chambers St\", \"Bus Slip & State St\", \"E 3 St & 1 Ave\", \"York St & Jay St\", \"E 7 St & Avenue A\", \"E 13 St & Avenue A\", \"9 Ave & W 18 St\", \"W 21 St & 6 Ave\", \"Hancock St & Bedford Ave\", \"Macon St & Nostrand Ave\", \"St Marks Pl & 1 Ave\", \"E 4 St & 2 Ave\", \"E 45 St & 3 Ave\", \"E 52 St & 2 Ave\", \"W 27 St & 7 Ave\", \"Bedford Ave & S 9 St\", \"Broadway & W 24 St\", \"E 10 St & Avenue A\", \"W 24 St & 7 Ave\", \"8 Ave & W 52 St\", \"W 37 St & 10 Ave\", \"W 52 St & 9 Ave\", \"W 49 St & 8 Ave\", \"W 22 St & 8 Ave\", \"E 51 St & 1 Ave\", \"1 Ave & E 44 St\", \"E 53 St & Madison Ave\", \"Broadway & W 58 St\", \"11 Ave & W 27 St\", \"W 20 St & 11 Ave\", \"S 4 St & Wythe Ave\", \"E 20 St & 2 Ave\", \"W 22 St & 10 Ave\", \"Broadway & W 41 St\", \"W 25 St & 6 Ave\", \"Dean St & 4 Ave\", \"Broadway & W 55 St\", \"Broadway & W 53 St\", \"W 20 St & 8 Ave\", \"Grand St & Havemeyer St\", \"E 32 St & Park Ave\", \"Rivington St & Chrystie St\", \"5 Ave & E 29 St\", \"E 31 St & 3 Ave\", \"W 41 St & 8 Ave\", \"11 Ave & W 41 St\", \"9 Ave & W 45 St\", \"W 53 St & 10 Ave\", \"S 3 St & Bedford Ave\", \"W 15 St & 7 Ave\", \"E 12 St & 3 Ave\", \"W 44 St & 5 Ave\", \"W 37 St & 5 Ave\", \"Broadway & W 29 St\", \"E 20 St & FDR Drive\", \"W 39 St & 9 Ave\", \"8 Ave & W 33 St\", \"E 24 St & Park Ave S\", \"W 33 St & 7 Ave\", \"W 45 St & 6 Ave\", \"W 26 St & 8 Ave\", \"W 47 St & 10 Ave\", \"E 16 St & 5 Ave\", \"E 17 St & Broadway\", \"Broadway & W 32 St\", \"Broadway & W 60 St\", \"Broadway & W 51 St\", \"FDR Drive & E 35 St\", \"Henry St & Grand St\", \"E 20 St & Park Ave\", \"1 Ave & E 16 St\", \"6 Ave & W 33 St\", \"E 25 St & 2 Ave\", \"W 46 St & 11 Ave\", \"9 Ave & W 22 St\", \"E 14 St & Avenue B\", \"W 56 St & 10 Ave\", \"12 Ave & W 40 St\", \"W 43 St & 10 Ave\", \"E 47 St & 1 Ave\", \"Pershing Square South\", \"E 39 St & 2 Ave\", \"Pershing Square North\", \"W 52 St & 5 Ave\", \"E 51 St & Lexington Ave\", \"W 38 St & 8 Ave\", \"W 43 St & 6 Ave\", \"W 34 St & 11 Ave\", \"E 33 St & 5 Ave\", \"E 33 St & 2 Ave\", \"2 Ave & E 31 St\", \"W 42 St & 8 Ave\", \"11 Ave & W 59 St\", \"Forsyth St & Broome St\", \"S 5 Pl & S 4 St\", \"Broadway & W 39 St\", \"Water - Whitehall Plaza\", \"1 Ave & E 30 St\", \"Lexington Ave & E 24 St\", \"Metropolitan Ave & Bedford Ave\", \"Lexington Ave & E 29 St\", \"E 23 St & 1 Ave\", \"E 30 St & Park Ave S\", \"Front St & Washington St\", \"Sands St & Navy St\", \"Wythe Ave & Metropolitan Ave\", \"1 Ave & E 18 St\", \"6 Ave & Broome St\", \"Railroad Ave & Kay Ave\", \"Central Park S & 6 Ave\", \"Little West St & 1 Pl\", \"Catherine St & Monroe St\", \"Grand St & Greene St\", \"E 27 St & 1 Ave\", \"W 45 St & 8 Ave\", \"E 60 St & York Ave\", \"E 55 St & Lexington Ave\", \"South End Ave & Liberty St\", \"Kent Ave & N 7 St\", \"SSP Tech Workshop\", \"Kingston Ave & Herkimer St\", \"Fulton St & Utica Ave\", \"Lewis Ave & Decatur St\", \"Albany Ave & Fulton St\", \"Marcus Garvey Blvd & Macon St\", \"Halsey St & Tompkins Ave\", \"Putnam Ave & Nostrand Ave\", \"Cambridge Pl & Gates Ave\", \"Putnam Ave & Throop Ave\", \"Lewis Ave & Madison St\", \"Marcy Ave & Lafayette Ave\", \"Greene Ave & Throop Ave\", \"Greene Ave & Nostrand Ave\", \"Kosciuszko St & Nostrand Ave\", \"Kosciuszko St & Tompkins Ave\", \"Lewis Ave & Kosciuszko St\", \"Pulaski St & Marcus Garvey Blvd\", \"Willoughby Ave & Tompkins Ave\", \"Throop Ave & Myrtle Ave\", \"Myrtle Ave & Marcy Ave\", \"Nostrand Ave & Myrtle Ave\", \"Myrtle Ave & Lewis Ave\", \"Union Ave & Wallabout St\", \"Tompkins Ave & Hopkins St\", \"Broadway & Whipple St\", \"Humboldt St & Varet St\", \"Lorimer St & Broadway\", \"McKibbin St & Manhattan Ave\", \"Boerum St & Broadway\", \"Leonard St & Boerum St\", \"Division Ave & Hooper St\", \"Montrose Ave & Bushwick Ave\", \"Division Ave & Marcy Ave\", \"Scholes St & Manhattan Ave\", \"Stagg St & Union Ave\", \"Broadway & Roebling St\", \"S 4 St & Rodney St\", \"Graham Ave & Grand St\", \"Hope St & Union Ave\", \"Bushwick Ave & Powers St\", \"Roebling St & N 4 St\", \"Graham Ave & Conselyea St\", \"Metropolitan Ave & Meeker Ave\", \"Union Ave & Jackson St\", \"N 8 St & Driggs Ave\", \"Frost St & Meeker St\", \"Berry St & N 8 St\", \"N 6 St & Bedford Ave\", \"Graham Ave & Withers St\", \"Graham Ave & Herbert St\", \"Union Ave & N 12 St\", \"Nassau Ave & Newell St\", \"N 12 St & Bedford Ave\", \"Driggs Ave & Lorimer St\", \"N 11 St & Wythe Ave\", \"N 15 St & Wythe Ave\", \"Driggs Ave & N Henry St\", \"Bedford Ave & Nassau Ave\", \"Nassau Ave & Russell St\", \"Banker St & Meserole Ave\", \"Meserole Ave & Manhattan Ave\", \"Norman Ave & Leonard St\", \"Milton St & Franklin St\", \"Greenpoint Ave & Manhattan Ave\", \"India St & East River\", \"India St & Manhattan Ave\", \"Huron St & Franklin St\", \"Franklin St & Dupont St\", \"McGuinness Blvd & Eagle St\", \"Vernon Blvd & 50 Ave\", \"Center Blvd & Borden Ave\", \"Jackson Ave & 46 Rd\", \"48 Ave & 5 St\", \"31 St & Thomson Ave\", \"46 Ave & 5 St\", \"45 Rd & 11 St\", \"44 Dr & Jackson Ave\", \"9 St & 44 Rd\", \"21 St & 43 Ave\", \"Queens Plaza North & Crescent St\", \"21 St & Queens Plaza North\", \"E 68 St & 3 Ave\", \"E 59 St & Madison Ave\", \"3 Ave & E 62 St\", \"E 75 St & 3 Ave\", \"5 Ave & E 63 St\", \"5 Ave & E 73 St\", \"E 72 St & Park Ave\", \"1 Ave & E 78 St\", \"1 Ave & E 68 St\", \"1 Ave & E 62 St\", \"5 Ave & E 78 St\", \"E 81 St & Park Ave\", \"E 84 St & Park Ave\", \"E 81 St & 3 Ave\", \"E 85 St & 3 Ave\", \"E 84 St & 1 Ave\", \"E 85 St & York Ave\", \"E 81 St & York Ave\", \"3 Ave & E 71 St\", \"Lexington Ave & E 63 St\", \"E 72 St & York Ave\", \"East End Ave & E 86 St\", \"W 63 St & Broadway\", \"W 67 St & Broadway\", \"Central Park West & W 76 St\", \"W 76 St & Columbus Ave\", \"W 78 St & Broadway\", \"Central Park West & W 68 St\", \"Columbus Ave & W 72 St\", \"Central Park West & W 72 St\", \"Riverside Dr & W 72 St\", \"Amsterdam Ave & W 73 St\", \"Central Park West & W 85 St\", \"Riverside Dr & W 82 St\", \"W 84 St & Columbus Ave\", \"Amsterdam Ave & W 82 St\", \"W 74 St & Columbus Ave\", \"Riverside Blvd & W 67 St\", \"W 70 St & Amsterdam Ave\", \"W 64 St & West End Ave\", \"W 84 St & Broadway\", \"Riverside Dr & W 78 St\", \"Park Ave & Marcus Garvey Blvd\", \"Brooklyn Bridge Park - Pier 2\", \"NYCBS Depot - STY\", \"47 Ave & 31 St\", \"E 55 St & 3 Ave\", \"W 13 St & Hudson St\", \"W 82 St & Central Park West\", \"E 67 St & Park Ave\", \"Bond St & Fulton St\", \"E 48 St & 5 Ave\", \"E 41 St & Madison Ave\", \"W 42 St & Dyer Ave\", \"E 80 St & 2 Ave\", \"Bressler\", \"NYCBS Depot BAL - DYR\", \"Monroe St & Tompkins Ave\", \"Schermerhorn St & Court St\", \"E 58 St & 1 Ave\", \"University Pl & E 8 St\", \"Verona Pl & Fulton St\", \"8 Ave & W 31 St\", \"Pier 40 - Hudson River Park\", \"W 27 St & 10 Ave\", \"9 Ave & W 28 St\", \"Mercer St & Bleecker St\", \"Cooper Square & E 7 St\", \"E 61 St & Park Ave\", \"E 2 St & 2 Ave E\", \"5 Ave & E 88 St\", \"W 89 St & Columbus Ave\", \"E 88 St & Park Ave\", \"W 87 St  & Amsterdam Ave\", \"E 89 St & 3 Ave\", \"E 88 St & 1 Ave\", \"W 90 St & Amsterdam Ave\", \"E 89 St & York Ave\", \"5 Ave & E 93 St\", \"W 92 St & Broadway\", \"E 91 St & Park Ave\", \"Central Park W & W 96 St\", \"6 St & 7 Ave\", \"Warren St & Court St\", \"Prospect Park West & 8 St\", \"Columbus Ave & W 95 St\", \"Columbus Ave & W 103 St\", \"Butler St & Court St\", \"6 Ave & 9 St\", \"E 91 St & 2 Ave\", \"10 St & 7 Ave\", \"West End Ave & W 94 St\", \"Kane St & Clinton St\", \"E 97 St & 3 Ave\", \"14 St & 7 Ave\", \"Columbia St & Kane St\", \"1 Ave & E 94 St\", \"6 Ave & 12 St\", \"W 95 St & Broadway\", \"Henry St & Degraw St\", \"W 104 St & Amsterdam Ave\", \"10 St & 5 Ave\", \"2 Ave & E 96 St\", \"14 St & 5 Ave\", \"Central Park West & W 100 St\", \"Clinton St & Union St\", \"12 St & 4 Ave\", \"W 106 St & Central Park West\", \"3 Ave & 14 St\", \"E 95 St & 3 Ave\", \"Clinton St & Centre St\", \"3 Ave & E 100 St\", \"W 100 St & Manhattan Ave\", \"Degraw St & Smith St\", \"Henry St & Bay St\", \"Riverside Dr & W 104 St\", \"Degraw St & Hoyt St\", \"Columbia St & Lorraine St\", \"Union St & 4 Ave\", \"E 97 St & Madison Ave\", \"Dwight St & Van Dyke St\", \"2 Ave & E 99 St\", \"Berkeley Pl & 6 Ave\", \"Wolcott St & Dwight St\", \"Central Park West & W 102 St\", \"Pioneer St & Richards St\", \"W 107 St & Columbus Ave\", \"Pioneer St & Van Brunt St\", \"Madison Ave & E 99 St\", \"Berkeley Pl & 7 Ave\", \"Van Brunt St & Wolcott St\", \"Coffey St & Conover St\", \"Grand Army Plaza & Plaza St West\", \"W 100 St & Broadway\", \"E 102 St & 1 Ave\", \"Sigourney St & Columbia St\", \"Reed St & Van Brunt St\", \"3 St & Prospect Park West\", \"E 66 St & Madison Ave\", \"Amsterdam Ave & W 66 St\", \"W 106 St & Amsterdam Ave\", \"Garfield Pl & 8 Ave\", \"E 68 St & Madison Ave\", \"Amsterdam Ave & W 79 St\", \"Carroll St & 6 Ave\", \"Madison Ave & E 82 St\", \"E 102 St & Park Ave\", \"Carroll St & 5 Ave\", \"3 St & 7 Ave\", \"West End Ave & W 107 St\", \"5 Ave & E 103 St\", \"5 Ave & 3 St\", \"E 78 St & 2 Ave\", \"4 Ave & 2 St\", \"E 74 St & 1 Ave\", \"3 St & 3 Ave\", \"Central Park North & Adam Clayton Powell Blvd\", \"3 Ave & E 72 St\", \"E 65 St & 2 Ave\", \"Carroll St & Bond St\", \"E 76 St & Park Ave\", \"E 103 St & Lexington Ave\", \"3 St & Hoyt St\", \"Carroll St & Smith St\", \"Cathedral Pkwy & Broadway\", \"Smith St & 3 St\", \"1 Pl & Clinton St\", \"E 106 St & Madison Ave\", \"President St & Henry St\", \"Carroll St & Columbia St\", \"E 109 St & 3 Ave\", \"E 106 St & 1 Ave\", \"Commerce St & Van Brunt St\", \"Richards St & Delavan St\", \"Columbia St & W 9 St\", \"Henry St & W 9 St\", \"Clinton St & 4 Place\", \"Court St & Nelson St\", \"Smith St & 9 St\", \"7 St & 3 Ave\", \"E 110 St & Madison Ave\", \"2 Ave & 9 St\", \"Court St & State St\", \"4 Ave & 9 St\", \"7 St & 5 Ave\", \"5 St & 6 Ave\", \"Union St & Nevins St\", \"Congress St & Clinton St\", \"Bergen St & Smith St\", \"Dean St & Hoyt St\", \"Bond St & Bergen St\", \"Pacific St & Nevins St\", \"Wyckoff St & 3 Ave\", \"Bergen St & Flatbush Ave\", \"Prospect Pl & 6 Ave\", \"7 Ave & Park Pl\", \"Baltic St & 5 Ave\", \"Plaza St West & Flatbush Ave\", \"Douglass St & 4 Ave\", \"Douglass St & 3 Ave\", \"Hoyt St & Warren St\", \"Columbia St & Degraw St\", \"West Drive & Prospect Park West\", \"E 106 St & Lexington Ave\", \"2 Ave  & E 104 St\", \"Lafayette St & Jersey St\", \"8 Ave & W 16 St\", \"Hanson Pl & Ashland Pl\", \"Richardson St & N Henry St\", \"E 35 St & 3 Ave\", \"W 88 St & West End Ave\", \"Grand St & Elizabeth St\", \"Greenwich St & Hubert St\", \"E 76 St & 3 Ave\", \"Fulton St & Adams St\", \"10 Hudson Yards\", \"W 52 St & 6 Ave\", \"Riverside Dr & W 89 St\", \"E 71 St & 1 Ave\", \"Eckford St & Engert Ave\", \"Penn Station Valet - Valet Scan\", \"Bayard St & Leonard St\", \"Devoe St & Lorimer St\", \"Leonard St & Maujer St\", \"Schermerhorn St & 3 Ave\", \"Jackson St & Leonard St\"], \"type\": \"scattermapbox\"}, {\"lat\": [40.78499979, 40.74096374], \"line\": {\"color\": \"red\", \"width\": 1}, \"lon\": [-73.97283406, -73.98602213], \"mode\": \"lines\", \"type\": \"scattermapbox\"}, {\"lat\": [40.78472675, 40.74096374], \"line\": {\"color\": \"red\", \"width\": 1}, \"lon\": [-73.96961715, -73.98602213], \"mode\": \"lines\", \"type\": \"scattermapbox\"}, {\"lat\": [40.7770575, 40.74096374], \"line\": {\"color\": \"red\", \"width\": 1}, \"lon\": [-73.97898475, -73.98602213], \"mode\": \"lines\", \"type\": \"scattermapbox\"}, {\"lat\": [40.7801839724239, 40.74096374], \"line\": {\"color\": \"red\", \"width\": 1}, \"lon\": [-73.97728532552719, -73.98602213], \"mode\": \"lines\", \"type\": \"scattermapbox\"}, {\"lat\": [40.77896784, 40.74096374], \"line\": {\"color\": \"red\", \"width\": 1}, \"lon\": [-73.97374737, -73.98602213], \"mode\": \"lines\", \"type\": \"scattermapbox\"}, {\"lat\": [40.77163851, 40.74096374], \"line\": {\"color\": \"red\", \"width\": 1}, \"lon\": [-73.98261428, -73.98602213], \"mode\": \"lines\", \"type\": \"scattermapbox\"}, {\"lat\": [40.7728384, 40.74096374], \"line\": {\"color\": \"red\", \"width\": 1}, \"lon\": [-73.94989233, -73.98602213], \"mode\": \"lines\", \"type\": \"scattermapbox\"}, {\"lat\": [40.77536905, 40.74096374], \"line\": {\"color\": \"red\", \"width\": 1}, \"lon\": [-73.94803392, -73.98602213], \"mode\": \"lines\", \"type\": \"scattermapbox\"}, {\"lat\": [40.77565541, 40.74096374], \"line\": {\"color\": \"red\", \"width\": 1}, \"lon\": [-73.95068615, -73.98602213], \"mode\": \"lines\", \"type\": \"scattermapbox\"}, {\"lat\": [40.77801203, 40.74096374], \"line\": {\"color\": \"red\", \"width\": 1}, \"lon\": [-73.95407149, -73.98602213], \"mode\": \"lines\", \"type\": \"scattermapbox\"}, {\"lat\": [40.77862688, 40.74096374], \"line\": {\"color\": \"red\", \"width\": 1}, \"lon\": [-73.95772073, -73.98602213], \"mode\": \"lines\", \"type\": \"scattermapbox\"}, {\"lat\": [40.76500525, 40.74096374], \"line\": {\"color\": \"red\", \"width\": 1}, \"lon\": [-73.95818491, -73.98602213], \"mode\": \"lines\", \"type\": \"scattermapbox\"}, {\"lat\": [40.77140426, 40.74096374], \"line\": {\"color\": \"red\", \"width\": 1}, \"lon\": [-73.9535166, -73.98602213], \"mode\": \"lines\", \"type\": \"scattermapbox\"}, {\"lat\": [40.76350532, 40.74096374], \"line\": {\"color\": \"red\", \"width\": 1}, \"lon\": [-73.97109243, -73.98602213], \"mode\": \"lines\", \"type\": \"scattermapbox\"}, {\"lat\": [40.72906, 40.74096374], \"line\": {\"color\": \"red\", \"width\": 1}, \"lon\": [-73.95779, -73.98602213], \"mode\": \"lines\", \"type\": \"scattermapbox\"}, {\"lat\": [40.72606, 40.74096374], \"line\": {\"color\": \"red\", \"width\": 1}, \"lon\": [-73.95621, -73.98602213], \"mode\": \"lines\", \"type\": \"scattermapbox\"}, {\"lat\": [40.71764, 40.74096374], \"line\": {\"color\": \"red\", \"width\": 1}, \"lon\": [-73.94882, -73.98602213], \"mode\": \"lines\", \"type\": \"scattermapbox\"}, {\"lat\": [40.71167351, 40.74096374], \"line\": {\"color\": \"red\", \"width\": 1}, \"lon\": [-73.95141312, -73.98602213], \"mode\": \"lines\", \"type\": \"scattermapbox\"}, {\"lat\": [40.711512, 40.74096374], \"line\": {\"color\": \"red\", \"width\": 1}, \"lon\": [-74.01575600000001, -73.98602213], \"mode\": \"lines\", \"type\": \"scattermapbox\"}, {\"lat\": [40.75968085, 40.74096374], \"line\": {\"color\": \"red\", \"width\": 1}, \"lon\": [-73.97031366, -73.98602213], \"mode\": \"lines\", \"type\": \"scattermapbox\"}, {\"lat\": [40.75929124, 40.74096374], \"line\": {\"color\": \"red\", \"width\": 1}, \"lon\": [-73.98859651, -73.98602213], \"mode\": \"lines\", \"type\": \"scattermapbox\"}, {\"lat\": [40.739445, 40.74096374], \"line\": {\"color\": \"red\", \"width\": 1}, \"lon\": [-73.97680600000001, -73.98602213], \"mode\": \"lines\", \"type\": \"scattermapbox\"}, {\"lat\": [40.72165481, 40.74096374], \"line\": {\"color\": \"red\", \"width\": 1}, \"lon\": [-74.00234737, -73.98602213], \"mode\": \"lines\", \"type\": \"scattermapbox\"}, {\"lat\": [40.71117444, 40.74096374], \"line\": {\"color\": \"red\", \"width\": 1}, \"lon\": [-73.99682619, -73.98602213], \"mode\": \"lines\", \"type\": \"scattermapbox\"}, {\"lat\": [40.70569254, 40.74096374], \"line\": {\"color\": \"red\", \"width\": 1}, \"lon\": [-74.01677685, -73.98602213], \"mode\": \"lines\", \"type\": \"scattermapbox\"}, {\"lat\": [40.76590936, 40.74096374], \"line\": {\"color\": \"red\", \"width\": 1}, \"lon\": [-73.97634151, -73.98602213], \"mode\": \"lines\", \"type\": \"scattermapbox\"}, {\"lat\": [40.73381219196632, 40.74096374], \"line\": {\"color\": \"red\", \"width\": 1}, \"lon\": [-73.9805442094803, -73.98602213], \"mode\": \"lines\", \"type\": \"scattermapbox\"}, {\"lat\": [40.74444921, 40.74096374], \"line\": {\"color\": \"red\", \"width\": 1}, \"lon\": [-73.98303529, -73.98602213], \"mode\": \"lines\", \"type\": \"scattermapbox\"}, {\"lat\": [40.736502, 40.74096374], \"line\": {\"color\": \"red\", \"width\": 1}, \"lon\": [-73.97809472, -73.98602213], \"mode\": \"lines\", \"type\": \"scattermapbox\"}, {\"lat\": [40.74311555376486, 40.74096374], \"line\": {\"color\": \"red\", \"width\": 1}, \"lon\": [-73.98215353488922, -73.98602213], \"mode\": \"lines\", \"type\": \"scattermapbox\"}, {\"lat\": [40.71534825, 40.74096374], \"line\": {\"color\": \"red\", \"width\": 1}, \"lon\": [-73.96024116, -73.98602213], \"mode\": \"lines\", \"type\": \"scattermapbox\"}, {\"lat\": [40.74025878, 40.74096374], \"line\": {\"color\": \"red\", \"width\": 1}, \"lon\": [-73.98409214, -73.98602213], \"mode\": \"lines\", \"type\": \"scattermapbox\"}, {\"lat\": [40.74144387, 40.74096374], \"line\": {\"color\": \"red\", \"width\": 1}, \"lon\": [-73.97536082, -73.98602213], \"mode\": \"lines\", \"type\": \"scattermapbox\"}, {\"lat\": [40.75299641, 40.74096374], \"line\": {\"color\": \"red\", \"width\": 1}, \"lon\": [-73.98721619, -73.98602213], \"mode\": \"lines\", \"type\": \"scattermapbox\"}, {\"lat\": [40.710451, 40.74096374], \"line\": {\"color\": \"red\", \"width\": 1}, \"lon\": [-73.960876, -73.98602213], \"mode\": \"lines\", \"type\": \"scattermapbox\"}, {\"lat\": [40.71893904, 40.74096374], \"line\": {\"color\": \"red\", \"width\": 1}, \"lon\": [-73.99266288, -73.98602213], \"mode\": \"lines\", \"type\": \"scattermapbox\"}, {\"lat\": [40.771522, 40.74096374], \"line\": {\"color\": \"red\", \"width\": 1}, \"lon\": [-73.99054100000001, -73.98602213], \"mode\": \"lines\", \"type\": \"scattermapbox\"}, {\"lat\": [40.75756989999999, 40.74096374], \"line\": {\"color\": \"red\", \"width\": 1}, \"lon\": [-73.99098507, -73.98602213], \"mode\": \"lines\", \"type\": \"scattermapbox\"}, {\"lat\": [40.74290902, 40.74096374], \"line\": {\"color\": \"red\", \"width\": 1}, \"lon\": [-73.97706058, -73.98602213], \"mode\": \"lines\", \"type\": \"scattermapbox\"}, {\"lat\": [40.744023, 40.74096374], \"line\": {\"color\": \"red\", \"width\": 1}, \"lon\": [-73.976056, -73.98602213], \"mode\": \"lines\", \"type\": \"scattermapbox\"}, {\"lat\": [40.74765947, 40.74096374], \"line\": {\"color\": \"red\", \"width\": 1}, \"lon\": [-73.98490707, -73.98602213], \"mode\": \"lines\", \"type\": \"scattermapbox\"}, {\"lat\": [40.75594159, 40.74096374], \"line\": {\"color\": \"red\", \"width\": 1}, \"lon\": [-74.0021163, -73.98602213], \"mode\": \"lines\", \"type\": \"scattermapbox\"}, {\"lat\": [40.75527307, 40.74096374], \"line\": {\"color\": \"red\", \"width\": 1}, \"lon\": [-73.98316936, -73.98602213], \"mode\": \"lines\", \"type\": \"scattermapbox\"}, {\"lat\": [40.75466591, 40.74096374], \"line\": {\"color\": \"red\", \"width\": 1}, \"lon\": [-73.99138152, -73.98602213], \"mode\": \"lines\", \"type\": \"scattermapbox\"}, {\"lat\": [40.75714758, 40.74096374], \"line\": {\"color\": \"red\", \"width\": 1}, \"lon\": [-73.97207836, -73.98602213], \"mode\": \"lines\", \"type\": \"scattermapbox\"}, {\"lat\": [40.75992262, 40.74096374], \"line\": {\"color\": \"red\", \"width\": 1}, \"lon\": [-73.97648516, -73.98602213], \"mode\": \"lines\", \"type\": \"scattermapbox\"}, {\"lat\": [40.751872999999996, 40.74096374], \"line\": {\"color\": \"red\", \"width\": 1}, \"lon\": [-73.97770600000001, -73.98602213], \"mode\": \"lines\", \"type\": \"scattermapbox\"}, {\"lat\": [40.74780373, 40.74096374], \"line\": {\"color\": \"red\", \"width\": 1}, \"lon\": [-73.97344190000001, -73.98602213], \"mode\": \"lines\", \"type\": \"scattermapbox\"}, {\"lat\": [40.751581, 40.74096374], \"line\": {\"color\": \"red\", \"width\": 1}, \"lon\": [-73.97791, -73.98602213], \"mode\": \"lines\", \"type\": \"scattermapbox\"}, {\"lat\": [40.76009437, 40.74096374], \"line\": {\"color\": \"red\", \"width\": 1}, \"lon\": [-73.99461843, -73.98602213], \"mode\": \"lines\", \"type\": \"scattermapbox\"}, {\"lat\": [40.72938685, 40.74096374], \"line\": {\"color\": \"red\", \"width\": 1}, \"lon\": [-73.97772429, -73.98602213], \"mode\": \"lines\", \"type\": \"scattermapbox\"}, {\"lat\": [40.7454973, 40.74096374], \"line\": {\"color\": \"red\", \"width\": 1}, \"lon\": [-74.00197139, -73.98602213], \"mode\": \"lines\", \"type\": \"scattermapbox\"}, {\"lat\": [40.76341379, 40.74096374], \"line\": {\"color\": \"red\", \"width\": 1}, \"lon\": [-73.99667444, -73.98602213], \"mode\": \"lines\", \"type\": \"scattermapbox\"}, {\"lat\": [40.73912601, 40.74096374], \"line\": {\"color\": \"red\", \"width\": 1}, \"lon\": [-73.97973776, -73.98602213], \"mode\": \"lines\", \"type\": \"scattermapbox\"}, {\"lat\": [40.74901271, 40.74096374], \"line\": {\"color\": \"red\", \"width\": 1}, \"lon\": [-73.98848395, -73.98602213], \"mode\": \"lines\", \"type\": \"scattermapbox\"}, {\"lat\": [40.73221853, 40.74096374], \"line\": {\"color\": \"red\", \"width\": 1}, \"lon\": [-73.98165557, -73.98602213], \"mode\": \"lines\", \"type\": \"scattermapbox\"}, {\"lat\": [40.73827428, 40.74096374], \"line\": {\"color\": \"red\", \"width\": 1}, \"lon\": [-73.98751968, -73.98602213], \"mode\": \"lines\", \"type\": \"scattermapbox\"}, {\"lat\": [40.714215, 40.74096374], \"line\": {\"color\": \"red\", \"width\": 1}, \"lon\": [-73.981346, -73.98602213], \"mode\": \"lines\", \"type\": \"scattermapbox\"}, {\"lat\": [40.744219, 40.74096374], \"line\": {\"color\": \"red\", \"width\": 1}, \"lon\": [-73.97121214, -73.98602213], \"mode\": \"lines\", \"type\": \"scattermapbox\"}, {\"lat\": [40.76228826, 40.74096374], \"line\": {\"color\": \"red\", \"width\": 1}, \"lon\": [-73.98336183, -73.98602213], \"mode\": \"lines\", \"type\": \"scattermapbox\"}, {\"lat\": [40.76915505, 40.74096374], \"line\": {\"color\": \"red\", \"width\": 1}, \"lon\": [-73.98191841, -73.98602213], \"mode\": \"lines\", \"type\": \"scattermapbox\"}, {\"lat\": [40.74854862, 40.74096374], \"line\": {\"color\": \"red\", \"width\": 1}, \"lon\": [-73.98808416, -73.98602213], \"mode\": \"lines\", \"type\": \"scattermapbox\"}, {\"lat\": [40.73704984, 40.74096374], \"line\": {\"color\": \"red\", \"width\": 1}, \"lon\": [-73.99009296, -73.98602213], \"mode\": \"lines\", \"type\": \"scattermapbox\"}, {\"lat\": [40.73726186, 40.74096374], \"line\": {\"color\": \"red\", \"width\": 1}, \"lon\": [-73.99238967, -73.98602213], \"mode\": \"lines\", \"type\": \"scattermapbox\"}, {\"lat\": [40.76269882, 40.74096374], \"line\": {\"color\": \"red\", \"width\": 1}, \"lon\": [-73.99301222, -73.98602213], \"mode\": \"lines\", \"type\": \"scattermapbox\"}, {\"lat\": [40.74734825, 40.74096374], \"line\": {\"color\": \"red\", \"width\": 1}, \"lon\": [-73.99723551, -73.98602213], \"mode\": \"lines\", \"type\": \"scattermapbox\"}, {\"lat\": [40.7568001, 40.74096374], \"line\": {\"color\": \"red\", \"width\": 1}, \"lon\": [-73.98291153, -73.98602213], \"mode\": \"lines\", \"type\": \"scattermapbox\"}, {\"lat\": [40.75019995, 40.74096374], \"line\": {\"color\": \"red\", \"width\": 1}, \"lon\": [-73.99093085, -73.98602213], \"mode\": \"lines\", \"type\": \"scattermapbox\"}, {\"lat\": [40.74096374, 40.74096374], \"line\": {\"color\": \"red\", \"width\": 1}, \"lon\": [-73.98602213, -73.98602213], \"mode\": \"lines\", \"type\": \"scattermapbox\"}, {\"lat\": [40.751551, 40.74096374], \"line\": {\"color\": \"red\", \"width\": 1}, \"lon\": [-73.993934, -73.98602213], \"mode\": \"lines\", \"type\": \"scattermapbox\"}, {\"lat\": [40.75645824, 40.74096374], \"line\": {\"color\": \"red\", \"width\": 1}, \"lon\": [-73.99372222, -73.98602213], \"mode\": \"lines\", \"type\": \"scattermapbox\"}, {\"lat\": [40.73314259, 40.74096374], \"line\": {\"color\": \"red\", \"width\": 1}, \"lon\": [-73.97573881, -73.98602213], \"mode\": \"lines\", \"type\": \"scattermapbox\"}, {\"lat\": [40.7462009, 40.74096374], \"line\": {\"color\": \"red\", \"width\": 1}, \"lon\": [-73.98855723, -73.98602213], \"mode\": \"lines\", \"type\": \"scattermapbox\"}, {\"lat\": [40.75038009, 40.74096374], \"line\": {\"color\": \"red\", \"width\": 1}, \"lon\": [-73.98338988, -73.98602213], \"mode\": \"lines\", \"type\": \"scattermapbox\"}, {\"lat\": [40.75500254, 40.74096374], \"line\": {\"color\": \"red\", \"width\": 1}, \"lon\": [-73.98014437, -73.98602213], \"mode\": \"lines\", \"type\": \"scattermapbox\"}, {\"lat\": [40.73223272, 40.74096374], \"line\": {\"color\": \"red\", \"width\": 1}, \"lon\": [-73.98889957, -73.98602213], \"mode\": \"lines\", \"type\": \"scattermapbox\"}, {\"lat\": [40.73935542, 40.74096374], \"line\": {\"color\": \"red\", \"width\": 1}, \"lon\": [-73.99931783, -73.98602213], \"mode\": \"lines\", \"type\": \"scattermapbox\"}, {\"lat\": [40.76019252, 40.74096374], \"line\": {\"color\": \"red\", \"width\": 1}, \"lon\": [-73.9912551, -73.98602213], \"mode\": \"lines\", \"type\": \"scattermapbox\"}, {\"lat\": [40.76030096, 40.74096374], \"line\": {\"color\": \"red\", \"width\": 1}, \"lon\": [-73.99884222, -73.98602213], \"mode\": \"lines\", \"type\": \"scattermapbox\"}, {\"lat\": [40.75640548, 40.74096374], \"line\": {\"color\": \"red\", \"width\": 1}, \"lon\": [-73.9900262, -73.98602213], \"mode\": \"lines\", \"type\": \"scattermapbox\"}, {\"lat\": [40.74394314, 40.74096374], \"line\": {\"color\": \"red\", \"width\": 1}, \"lon\": [-73.97966069, -73.98602213], \"mode\": \"lines\", \"type\": \"scattermapbox\"}, {\"lat\": [40.7451677, 40.74096374], \"line\": {\"color\": \"red\", \"width\": 1}, \"lon\": [-73.98683077, -73.98602213], \"mode\": \"lines\", \"type\": \"scattermapbox\"}, {\"lat\": [40.72110063, 40.74096374], \"line\": {\"color\": \"red\", \"width\": 1}, \"lon\": [-73.99192540000001, -73.98602213], \"mode\": \"lines\", \"type\": \"scattermapbox\"}, {\"lat\": [40.745712100000006, 40.74096374], \"line\": {\"color\": \"red\", \"width\": 1}, \"lon\": [-73.98194829, -73.98602213], \"mode\": \"lines\", \"type\": \"scattermapbox\"}, {\"lat\": [40.74345335, 40.74096374], \"line\": {\"color\": \"red\", \"width\": 1}, \"lon\": [-74.00004031, -73.98602213], \"mode\": \"lines\", \"type\": \"scattermapbox\"}, {\"lat\": [40.76344058, 40.74096374], \"line\": {\"color\": \"red\", \"width\": 1}, \"lon\": [-73.98268129, -73.98602213], \"mode\": \"lines\", \"type\": \"scattermapbox\"}, {\"lat\": [40.7652654, 40.74096374], \"line\": {\"color\": \"red\", \"width\": 1}, \"lon\": [-73.98192338, -73.98602213], \"mode\": \"lines\", \"type\": \"scattermapbox\"}, {\"lat\": [40.74395411, 40.74096374], \"line\": {\"color\": \"red\", \"width\": 1}, \"lon\": [-73.99144871, -73.98602213], \"mode\": \"lines\", \"type\": \"scattermapbox\"}, {\"lat\": [40.75513557, 40.74096374], \"line\": {\"color\": \"red\", \"width\": 1}, \"lon\": [-73.98658032, -73.98602213], \"mode\": \"lines\", \"type\": \"scattermapbox\"}, {\"lat\": [40.74691959, 40.74096374], \"line\": {\"color\": \"red\", \"width\": 1}, \"lon\": [-74.00451887, -73.98602213], \"mode\": \"lines\", \"type\": \"scattermapbox\"}, {\"lat\": [40.73587678, 40.74096374], \"line\": {\"color\": \"red\", \"width\": 1}, \"lon\": [-73.98205027, -73.98602213], \"mode\": \"lines\", \"type\": \"scattermapbox\"}, {\"lat\": [40.746745000000004, 40.74096374], \"line\": {\"color\": \"red\", \"width\": 1}, \"lon\": [-74.007756, -73.98602213], \"mode\": \"lines\", \"type\": \"scattermapbox\"}, {\"lat\": [40.751396, 40.74096374], \"line\": {\"color\": \"red\", \"width\": 1}, \"lon\": [-74.00522600000001, -73.98602213], \"mode\": \"lines\", \"type\": \"scattermapbox\"}, {\"lat\": [40.76695317, 40.74096374], \"line\": {\"color\": \"red\", \"width\": 1}, \"lon\": [-73.98169333, -73.98602213], \"mode\": \"lines\", \"type\": \"scattermapbox\"}, {\"lat\": [40.75001986, 40.74096374], \"line\": {\"color\": \"red\", \"width\": 1}, \"lon\": [-73.96905301, -73.98602213], \"mode\": \"lines\", \"type\": \"scattermapbox\"}, {\"lat\": [40.75455731, 40.74096374], \"line\": {\"color\": \"red\", \"width\": 1}, \"lon\": [-73.96592976, -73.98602213], \"mode\": \"lines\", \"type\": \"scattermapbox\"}, {\"lat\": [40.74475148, 40.74096374], \"line\": {\"color\": \"red\", \"width\": 1}, \"lon\": [-73.99915362, -73.98602213], \"mode\": \"lines\", \"type\": \"scattermapbox\"}, {\"lat\": [40.76461837, 40.74096374], \"line\": {\"color\": \"red\", \"width\": 1}, \"lon\": [-73.98789473, -73.98602213], \"mode\": \"lines\", \"type\": \"scattermapbox\"}, {\"lat\": [40.75660359, 40.74096374], \"line\": {\"color\": \"red\", \"width\": 1}, \"lon\": [-73.9979009, -73.98602213], \"mode\": \"lines\", \"type\": \"scattermapbox\"}],                        {\"autosize\": true, \"hovermode\": \"closest\", \"mapbox\": {\"accesstoken\": \"pk.eyJ1Ijoiam1ibG9vbSIsImEiOiJja2Y1cm1maHUwYjNnMnBxN3pqcGZqNjd4In0.7r3hp8Vj1efich43hkUaDQ\", \"bearing\": 0, \"center\": {\"lat\": 40.76, \"lon\": -73.99}, \"pitch\": 0, \"zoom\": 12}, \"showlegend\": false, \"template\": {\"data\": {\"bar\": [{\"error_x\": {\"color\": \"#2a3f5f\"}, \"error_y\": {\"color\": \"#2a3f5f\"}, \"marker\": {\"line\": {\"color\": \"#E5ECF6\", \"width\": 0.5}}, \"type\": \"bar\"}], \"barpolar\": [{\"marker\": {\"line\": {\"color\": \"#E5ECF6\", \"width\": 0.5}}, \"type\": \"barpolar\"}], \"carpet\": [{\"aaxis\": {\"endlinecolor\": \"#2a3f5f\", \"gridcolor\": \"white\", \"linecolor\": \"white\", \"minorgridcolor\": \"white\", \"startlinecolor\": \"#2a3f5f\"}, \"baxis\": {\"endlinecolor\": \"#2a3f5f\", \"gridcolor\": \"white\", \"linecolor\": \"white\", \"minorgridcolor\": \"white\", \"startlinecolor\": \"#2a3f5f\"}, \"type\": \"carpet\"}], \"choropleth\": [{\"colorbar\": {\"outlinewidth\": 0, \"ticks\": \"\"}, \"type\": \"choropleth\"}], \"contour\": [{\"colorbar\": {\"outlinewidth\": 0, \"ticks\": \"\"}, \"colorscale\": [[0.0, \"#0d0887\"], [0.1111111111111111, \"#46039f\"], [0.2222222222222222, \"#7201a8\"], [0.3333333333333333, \"#9c179e\"], [0.4444444444444444, \"#bd3786\"], [0.5555555555555556, \"#d8576b\"], [0.6666666666666666, \"#ed7953\"], [0.7777777777777778, \"#fb9f3a\"], [0.8888888888888888, \"#fdca26\"], [1.0, \"#f0f921\"]], \"type\": \"contour\"}], \"contourcarpet\": [{\"colorbar\": {\"outlinewidth\": 0, \"ticks\": \"\"}, \"type\": \"contourcarpet\"}], \"heatmap\": [{\"colorbar\": {\"outlinewidth\": 0, \"ticks\": \"\"}, \"colorscale\": [[0.0, \"#0d0887\"], [0.1111111111111111, \"#46039f\"], [0.2222222222222222, \"#7201a8\"], [0.3333333333333333, \"#9c179e\"], [0.4444444444444444, \"#bd3786\"], [0.5555555555555556, \"#d8576b\"], [0.6666666666666666, \"#ed7953\"], [0.7777777777777778, \"#fb9f3a\"], [0.8888888888888888, \"#fdca26\"], [1.0, \"#f0f921\"]], \"type\": \"heatmap\"}], \"heatmapgl\": [{\"colorbar\": {\"outlinewidth\": 0, \"ticks\": \"\"}, \"colorscale\": [[0.0, \"#0d0887\"], [0.1111111111111111, \"#46039f\"], [0.2222222222222222, \"#7201a8\"], [0.3333333333333333, \"#9c179e\"], [0.4444444444444444, \"#bd3786\"], [0.5555555555555556, \"#d8576b\"], [0.6666666666666666, \"#ed7953\"], [0.7777777777777778, \"#fb9f3a\"], [0.8888888888888888, \"#fdca26\"], [1.0, \"#f0f921\"]], \"type\": \"heatmapgl\"}], \"histogram\": [{\"marker\": {\"colorbar\": {\"outlinewidth\": 0, \"ticks\": \"\"}}, \"type\": \"histogram\"}], \"histogram2d\": [{\"colorbar\": {\"outlinewidth\": 0, \"ticks\": \"\"}, \"colorscale\": [[0.0, \"#0d0887\"], [0.1111111111111111, \"#46039f\"], [0.2222222222222222, \"#7201a8\"], [0.3333333333333333, \"#9c179e\"], [0.4444444444444444, \"#bd3786\"], [0.5555555555555556, \"#d8576b\"], [0.6666666666666666, \"#ed7953\"], [0.7777777777777778, \"#fb9f3a\"], [0.8888888888888888, \"#fdca26\"], [1.0, \"#f0f921\"]], \"type\": \"histogram2d\"}], \"histogram2dcontour\": [{\"colorbar\": {\"outlinewidth\": 0, \"ticks\": \"\"}, \"colorscale\": [[0.0, \"#0d0887\"], [0.1111111111111111, \"#46039f\"], [0.2222222222222222, \"#7201a8\"], [0.3333333333333333, \"#9c179e\"], [0.4444444444444444, \"#bd3786\"], [0.5555555555555556, \"#d8576b\"], [0.6666666666666666, \"#ed7953\"], [0.7777777777777778, \"#fb9f3a\"], [0.8888888888888888, \"#fdca26\"], [1.0, \"#f0f921\"]], \"type\": \"histogram2dcontour\"}], \"mesh3d\": [{\"colorbar\": {\"outlinewidth\": 0, \"ticks\": \"\"}, \"type\": \"mesh3d\"}], \"parcoords\": [{\"line\": {\"colorbar\": {\"outlinewidth\": 0, \"ticks\": \"\"}}, \"type\": \"parcoords\"}], \"pie\": [{\"automargin\": true, \"type\": \"pie\"}], \"scatter\": [{\"marker\": {\"colorbar\": {\"outlinewidth\": 0, \"ticks\": \"\"}}, \"type\": \"scatter\"}], \"scatter3d\": [{\"line\": {\"colorbar\": {\"outlinewidth\": 0, \"ticks\": \"\"}}, \"marker\": {\"colorbar\": {\"outlinewidth\": 0, \"ticks\": \"\"}}, \"type\": \"scatter3d\"}], \"scattercarpet\": [{\"marker\": {\"colorbar\": {\"outlinewidth\": 0, \"ticks\": \"\"}}, \"type\": \"scattercarpet\"}], \"scattergeo\": [{\"marker\": {\"colorbar\": {\"outlinewidth\": 0, \"ticks\": \"\"}}, \"type\": \"scattergeo\"}], \"scattergl\": [{\"marker\": {\"colorbar\": {\"outlinewidth\": 0, \"ticks\": \"\"}}, \"type\": \"scattergl\"}], \"scattermapbox\": [{\"marker\": {\"colorbar\": {\"outlinewidth\": 0, \"ticks\": \"\"}}, \"type\": \"scattermapbox\"}], \"scatterpolar\": [{\"marker\": {\"colorbar\": {\"outlinewidth\": 0, \"ticks\": \"\"}}, \"type\": \"scatterpolar\"}], \"scatterpolargl\": [{\"marker\": {\"colorbar\": {\"outlinewidth\": 0, \"ticks\": \"\"}}, \"type\": \"scatterpolargl\"}], \"scatterternary\": [{\"marker\": {\"colorbar\": {\"outlinewidth\": 0, \"ticks\": \"\"}}, \"type\": \"scatterternary\"}], \"surface\": [{\"colorbar\": {\"outlinewidth\": 0, \"ticks\": \"\"}, \"colorscale\": [[0.0, \"#0d0887\"], [0.1111111111111111, \"#46039f\"], [0.2222222222222222, \"#7201a8\"], [0.3333333333333333, \"#9c179e\"], [0.4444444444444444, \"#bd3786\"], [0.5555555555555556, \"#d8576b\"], [0.6666666666666666, \"#ed7953\"], [0.7777777777777778, \"#fb9f3a\"], [0.8888888888888888, \"#fdca26\"], [1.0, \"#f0f921\"]], \"type\": \"surface\"}], \"table\": [{\"cells\": {\"fill\": {\"color\": \"#EBF0F8\"}, \"line\": {\"color\": \"white\"}}, \"header\": {\"fill\": {\"color\": \"#C8D4E3\"}, \"line\": {\"color\": \"white\"}}, \"type\": \"table\"}]}, \"layout\": {\"annotationdefaults\": {\"arrowcolor\": \"#2a3f5f\", \"arrowhead\": 0, \"arrowwidth\": 1}, \"coloraxis\": {\"colorbar\": {\"outlinewidth\": 0, \"ticks\": \"\"}}, \"colorscale\": {\"diverging\": [[0, \"#8e0152\"], [0.1, \"#c51b7d\"], [0.2, \"#de77ae\"], [0.3, \"#f1b6da\"], [0.4, \"#fde0ef\"], [0.5, \"#f7f7f7\"], [0.6, \"#e6f5d0\"], [0.7, \"#b8e186\"], [0.8, \"#7fbc41\"], [0.9, \"#4d9221\"], [1, \"#276419\"]], \"sequential\": [[0.0, \"#0d0887\"], [0.1111111111111111, \"#46039f\"], [0.2222222222222222, \"#7201a8\"], [0.3333333333333333, \"#9c179e\"], [0.4444444444444444, \"#bd3786\"], [0.5555555555555556, \"#d8576b\"], [0.6666666666666666, \"#ed7953\"], [0.7777777777777778, \"#fb9f3a\"], [0.8888888888888888, \"#fdca26\"], [1.0, \"#f0f921\"]], \"sequentialminus\": [[0.0, \"#0d0887\"], [0.1111111111111111, \"#46039f\"], [0.2222222222222222, \"#7201a8\"], [0.3333333333333333, \"#9c179e\"], [0.4444444444444444, \"#bd3786\"], [0.5555555555555556, \"#d8576b\"], [0.6666666666666666, \"#ed7953\"], [0.7777777777777778, \"#fb9f3a\"], [0.8888888888888888, \"#fdca26\"], [1.0, \"#f0f921\"]]}, \"colorway\": [\"#636efa\", \"#EF553B\", \"#00cc96\", \"#ab63fa\", \"#FFA15A\", \"#19d3f3\", \"#FF6692\", \"#B6E880\", \"#FF97FF\", \"#FECB52\"], \"font\": {\"color\": \"#2a3f5f\"}, \"geo\": {\"bgcolor\": \"white\", \"lakecolor\": \"white\", \"landcolor\": \"#E5ECF6\", \"showlakes\": true, \"showland\": true, \"subunitcolor\": \"white\"}, \"hoverlabel\": {\"align\": \"left\"}, \"hovermode\": \"closest\", \"mapbox\": {\"style\": \"light\"}, \"paper_bgcolor\": \"white\", \"plot_bgcolor\": \"#E5ECF6\", \"polar\": {\"angularaxis\": {\"gridcolor\": \"white\", \"linecolor\": \"white\", \"ticks\": \"\"}, \"bgcolor\": \"#E5ECF6\", \"radialaxis\": {\"gridcolor\": \"white\", \"linecolor\": \"white\", \"ticks\": \"\"}}, \"scene\": {\"xaxis\": {\"backgroundcolor\": \"#E5ECF6\", \"gridcolor\": \"white\", \"gridwidth\": 2, \"linecolor\": \"white\", \"showbackground\": true, \"ticks\": \"\", \"zerolinecolor\": \"white\"}, \"yaxis\": {\"backgroundcolor\": \"#E5ECF6\", \"gridcolor\": \"white\", \"gridwidth\": 2, \"linecolor\": \"white\", \"showbackground\": true, \"ticks\": \"\", \"zerolinecolor\": \"white\"}, \"zaxis\": {\"backgroundcolor\": \"#E5ECF6\", \"gridcolor\": \"white\", \"gridwidth\": 2, \"linecolor\": \"white\", \"showbackground\": true, \"ticks\": \"\", \"zerolinecolor\": \"white\"}}, \"shapedefaults\": {\"line\": {\"color\": \"#2a3f5f\"}}, \"ternary\": {\"aaxis\": {\"gridcolor\": \"white\", \"linecolor\": \"white\", \"ticks\": \"\"}, \"baxis\": {\"gridcolor\": \"white\", \"linecolor\": \"white\", \"ticks\": \"\"}, \"bgcolor\": \"#E5ECF6\", \"caxis\": {\"gridcolor\": \"white\", \"linecolor\": \"white\", \"ticks\": \"\"}}, \"title\": {\"x\": 0.05}, \"xaxis\": {\"automargin\": true, \"gridcolor\": \"white\", \"linecolor\": \"white\", \"ticks\": \"\", \"title\": {\"standoff\": 15}, \"zerolinecolor\": \"white\", \"zerolinewidth\": 2}, \"yaxis\": {\"automargin\": true, \"gridcolor\": \"white\", \"linecolor\": \"white\", \"ticks\": \"\", \"title\": {\"standoff\": 15}, \"zerolinecolor\": \"white\", \"zerolinewidth\": 2}}}},                        {\"responsive\": true}                    ).then(function(){\n",
       "                            \n",
       "var gd = document.getElementById('f0698f35-0079-4d31-8019-93c5e063dc53');\n",
       "var x = new MutationObserver(function (mutations, observer) {{\n",
       "        var display = window.getComputedStyle(gd).display;\n",
       "        if (!display || display === 'none') {{\n",
       "            console.log([gd, 'removed!']);\n",
       "            Plotly.purge(gd);\n",
       "            observer.disconnect();\n",
       "        }}\n",
       "}});\n",
       "\n",
       "// Listen for the removal of the full notebook cells\n",
       "var notebookContainer = gd.closest('#notebook-container');\n",
       "if (notebookContainer) {{\n",
       "    x.observe(notebookContainer, {childList: true});\n",
       "}}\n",
       "\n",
       "// Listen for the clearing of the current output cell\n",
       "var outputEl = gd.closest('.output');\n",
       "if (outputEl) {{\n",
       "    x.observe(outputEl, {childList: true});\n",
       "}}\n",
       "\n",
       "                        })                };                });            </script>        </div>"
      ]
     },
     "metadata": {},
     "output_type": "display_data"
    }
   ],
   "source": [
    "mapbox_access_token = 'pk.eyJ1Ijoiam1ibG9vbSIsImEiOiJja2Y1cm1maHUwYjNnMnBxN3pqcGZqNjd4In0.7r3hp8Vj1efich43hkUaDQ'\n",
    "\n",
    "\n",
    "data = []\n",
    "data.append(go.Scattermapbox(\n",
    "        lat=df_station_start['lat'].values,\n",
    "        lon=df_station_start['lon'].values,\n",
    "        mode='markers',\n",
    "        marker=dict(\n",
    "                size=9\n",
    "        ),\n",
    "         text=df_station_start['name'].values\n",
    "    ))\n",
    "for i in range(len(df_paths)//2 - 1, len(df_paths)//2-100, -1):\n",
    "     data.append(go.Scattermapbox(\n",
    "        lat=[df_paths['Start Station Latitude'][i], df_paths['End Station Latitude'][i]],\n",
    "        lon=[ df_paths['Start Station Longitude'][i], df_paths['End Station Longitude'][i]],\n",
    "        mode='lines',\n",
    "        line = dict(\n",
    "                width = 1,\n",
    "                color = 'red',\n",
    "            ),\n",
    "    ))\n",
    "layout = go.Layout(\n",
    "    autosize=True,\n",
    "    hovermode='closest',\n",
    "    mapbox=dict(\n",
    "        accesstoken=mapbox_access_token,\n",
    "        bearing=0,\n",
    "        center=dict(\n",
    "            lat=40.76,\n",
    "            lon=-73.99\n",
    "        ),\n",
    "        pitch=0,\n",
    "        zoom=12\n",
    "    ),\n",
    "    showlegend = False\n",
    ")\n",
    "\n",
    "\n",
    "fig = dict(data=data, layout=layout)\n",
    "iplot(fig, filename='Multiple Mapbox')"
   ]
  },
  {
   "cell_type": "code",
   "execution_count": 373,
   "metadata": {
    "_uuid": "630dce0ddbfb92fd177bafd3beedc2acfe8a3abe"
   },
   "outputs": [
    {
     "data": {
      "text/plain": [
       "<seaborn.axisgrid.PairGrid at 0x7fcb10b8c690>"
      ]
     },
     "execution_count": 373,
     "metadata": {},
     "output_type": "execute_result"
    },
    {
     "data": {
      "image/png": "[encoded data removed]",
      "text/plain": [
       "<Figure size 900x900 with 30 Axes>"
      ]
     },
     "metadata": {
      "needs_background": "light"
     },
     "output_type": "display_data"
    }
   ],
   "source": [
    "sns.pairplot(df[['age','Trip Duration', 'Start Station ID', 'End Station ID','Gender']])"
   ]
  },
  {
   "cell_type": "code",
   "execution_count": 374,
   "metadata": {
    "_uuid": "28e4230385f4dc4c0a39731396ae0cf7a742d913",
    "scrolled": false
   },
   "outputs": [
    {
     "data": {
      "text/html": [
       "<div>\n",
       "<style scoped>\n",
       "    .dataframe tbody tr th:only-of-type {\n",
       "        vertical-align: middle;\n",
       "    }\n",
       "\n",
       "    .dataframe tbody tr th {\n",
       "        vertical-align: top;\n",
       "    }\n",
       "\n",
       "    .dataframe thead th {\n",
       "        text-align: right;\n",
       "    }\n",
       "</style>\n",
       "<table border=\"1\" class=\"dataframe\">\n",
       "  <thead>\n",
       "    <tr style=\"text-align: right;\">\n",
       "      <th></th>\n",
       "      <th>Trip Duration</th>\n",
       "      <th>Start Time</th>\n",
       "      <th>Stop Time</th>\n",
       "      <th>Start Station ID</th>\n",
       "      <th>Start Station Name</th>\n",
       "      <th>Start Station Latitude</th>\n",
       "      <th>Start Station Longitude</th>\n",
       "      <th>End Station ID</th>\n",
       "      <th>End Station Name</th>\n",
       "      <th>End Station Latitude</th>\n",
       "      <th>End Station Longitude</th>\n",
       "      <th>Bike ID</th>\n",
       "      <th>User Type</th>\n",
       "      <th>Birth Year</th>\n",
       "      <th>Gender</th>\n",
       "      <th>age</th>\n",
       "      <th>part_of_day</th>\n",
       "    </tr>\n",
       "  </thead>\n",
       "  <tbody>\n",
       "    <tr>\n",
       "      <th>0</th>\n",
       "      <td>1893</td>\n",
       "      <td>2017-03-01 00:00:32</td>\n",
       "      <td>2017-03-01 00:32:06</td>\n",
       "      <td>2009</td>\n",
       "      <td>Catherine St &amp; Monroe St</td>\n",
       "      <td>40.711174</td>\n",
       "      <td>-73.996826</td>\n",
       "      <td>527</td>\n",
       "      <td>E 33 St &amp; 2 Ave</td>\n",
       "      <td>40.744023</td>\n",
       "      <td>-73.976056</td>\n",
       "      <td>27291</td>\n",
       "      <td>Subscriber</td>\n",
       "      <td>1973.0</td>\n",
       "      <td>2</td>\n",
       "      <td>44.0</td>\n",
       "      <td>early morning</td>\n",
       "    </tr>\n",
       "    <tr>\n",
       "      <th>1</th>\n",
       "      <td>223</td>\n",
       "      <td>2017-03-01 00:01:09</td>\n",
       "      <td>2017-03-01 00:04:53</td>\n",
       "      <td>127</td>\n",
       "      <td>Barrow St &amp; Hudson St</td>\n",
       "      <td>40.731724</td>\n",
       "      <td>-74.006744</td>\n",
       "      <td>284</td>\n",
       "      <td>Greenwich Ave &amp; 8 Ave</td>\n",
       "      <td>40.739017</td>\n",
       "      <td>-74.002638</td>\n",
       "      <td>19387</td>\n",
       "      <td>Subscriber</td>\n",
       "      <td>1985.0</td>\n",
       "      <td>2</td>\n",
       "      <td>32.0</td>\n",
       "      <td>early morning</td>\n",
       "    </tr>\n",
       "    <tr>\n",
       "      <th>2</th>\n",
       "      <td>1665</td>\n",
       "      <td>2017-03-01 00:01:27</td>\n",
       "      <td>2017-03-01 00:29:12</td>\n",
       "      <td>174</td>\n",
       "      <td>E 25 St &amp; 1 Ave</td>\n",
       "      <td>40.738177</td>\n",
       "      <td>-73.977387</td>\n",
       "      <td>307</td>\n",
       "      <td>Canal St &amp; Rutgers St</td>\n",
       "      <td>40.714275</td>\n",
       "      <td>-73.989900</td>\n",
       "      <td>15809</td>\n",
       "      <td>Subscriber</td>\n",
       "      <td>1988.0</td>\n",
       "      <td>1</td>\n",
       "      <td>29.0</td>\n",
       "      <td>early morning</td>\n",
       "    </tr>\n",
       "    <tr>\n",
       "      <th>3</th>\n",
       "      <td>100</td>\n",
       "      <td>2017-03-01 00:01:29</td>\n",
       "      <td>2017-03-01 00:03:10</td>\n",
       "      <td>316</td>\n",
       "      <td>Fulton St &amp; William St</td>\n",
       "      <td>40.709560</td>\n",
       "      <td>-74.006536</td>\n",
       "      <td>306</td>\n",
       "      <td>Cliff St &amp; Fulton St</td>\n",
       "      <td>40.708235</td>\n",
       "      <td>-74.005301</td>\n",
       "      <td>18956</td>\n",
       "      <td>Subscriber</td>\n",
       "      <td>1991.0</td>\n",
       "      <td>1</td>\n",
       "      <td>26.0</td>\n",
       "      <td>early morning</td>\n",
       "    </tr>\n",
       "    <tr>\n",
       "      <th>4</th>\n",
       "      <td>1229</td>\n",
       "      <td>2017-03-01 00:01:33</td>\n",
       "      <td>2017-03-01 00:22:02</td>\n",
       "      <td>536</td>\n",
       "      <td>1 Ave &amp; E 30 St</td>\n",
       "      <td>40.741444</td>\n",
       "      <td>-73.975361</td>\n",
       "      <td>259</td>\n",
       "      <td>South St &amp; Whitehall St</td>\n",
       "      <td>40.701221</td>\n",
       "      <td>-74.012342</td>\n",
       "      <td>25728</td>\n",
       "      <td>Subscriber</td>\n",
       "      <td>1963.0</td>\n",
       "      <td>1</td>\n",
       "      <td>54.0</td>\n",
       "      <td>early morning</td>\n",
       "    </tr>\n",
       "  </tbody>\n",
       "</table>\n",
       "</div>"
      ],
      "text/plain": [
       "   Trip Duration          Start Time            Stop Time  Start Station ID  \\\n",
       "0           1893 2017-03-01 00:00:32  2017-03-01 00:32:06              2009   \n",
       "1            223 2017-03-01 00:01:09  2017-03-01 00:04:53               127   \n",
       "2           1665 2017-03-01 00:01:27  2017-03-01 00:29:12               174   \n",
       "3            100 2017-03-01 00:01:29  2017-03-01 00:03:10               316   \n",
       "4           1229 2017-03-01 00:01:33  2017-03-01 00:22:02               536   \n",
       "\n",
       "         Start Station Name  Start Station Latitude  Start Station Longitude  \\\n",
       "0  Catherine St & Monroe St               40.711174               -73.996826   \n",
       "1     Barrow St & Hudson St               40.731724               -74.006744   \n",
       "2           E 25 St & 1 Ave               40.738177               -73.977387   \n",
       "3    Fulton St & William St               40.709560               -74.006536   \n",
       "4           1 Ave & E 30 St               40.741444               -73.975361   \n",
       "\n",
       "   End Station ID         End Station Name  End Station Latitude  \\\n",
       "0             527          E 33 St & 2 Ave             40.744023   \n",
       "1             284    Greenwich Ave & 8 Ave             40.739017   \n",
       "2             307    Canal St & Rutgers St             40.714275   \n",
       "3             306     Cliff St & Fulton St             40.708235   \n",
       "4             259  South St & Whitehall St             40.701221   \n",
       "\n",
       "   End Station Longitude  Bike ID   User Type  Birth Year  Gender   age  \\\n",
       "0             -73.976056    27291  Subscriber      1973.0       2  44.0   \n",
       "1             -74.002638    19387  Subscriber      1985.0       2  32.0   \n",
       "2             -73.989900    15809  Subscriber      1988.0       1  29.0   \n",
       "3             -74.005301    18956  Subscriber      1991.0       1  26.0   \n",
       "4             -74.012342    25728  Subscriber      1963.0       1  54.0   \n",
       "\n",
       "     part_of_day  \n",
       "0  early morning  \n",
       "1  early morning  \n",
       "2  early morning  \n",
       "3  early morning  \n",
       "4  early morning  "
      ]
     },
     "execution_count": 374,
     "metadata": {},
     "output_type": "execute_result"
    }
   ],
   "source": [
    "\n",
    "df.head(5)"
   ]
  },
  {
   "cell_type": "code",
   "execution_count": 375,
   "metadata": {
    "_uuid": "da0f440909418d47c25893e96d4535033947df2d",
    "scrolled": true
   },
   "outputs": [
    {
     "name": "stderr",
     "output_type": "stream",
     "text": [
      "/opt/anaconda3/lib/python3.7/site-packages/plotly/tools.py:465: DeprecationWarning:\n",
      "\n",
      "plotly.tools.make_subplots is deprecated, please use plotly.subplots.make_subplots instead\n",
      "\n"
     ]
    },
    {
     "data": {
      "application/vnd.plotly.v1+json": {
       "config": {
        "linkText": "Export to plot.ly",
        "plotlyServerURL": "https://plot.ly",
        "showLink": false
       },
       "data": [
        {
         "type": "bar",
         "x": [
          "LaGuardia Pl & W 3 St",
          "Allen St & Stanton St",
          "Carmine St & 6 Ave",
          "W 4 St & 7 Ave S",
          "W 41 St & 8 Ave",
          "9 Ave & W 18 St",
          "Cooper Square & E 7 St",
          "1 Ave & E 16 St",
          "W 33 St & 7 Ave",
          "E 3 St & 1 Ave"
         ],
         "xaxis": "x",
         "y": [
          132,
          113,
          103,
          97,
          97,
          96,
          90,
          85,
          80,
          79
         ],
         "yaxis": "y"
        },
        {
         "type": "bar",
         "x": [
          "W 33 St & 7 Ave",
          "Pershing Square North",
          "8 Ave & W 31 St",
          "8 Ave & W 33 St",
          "W 41 St & 8 Ave",
          "W 42 St & Dyer Ave",
          "W 31 St & 7 Ave",
          "E 14 St & Avenue B",
          "W 38 St & 8 Ave",
          "E 10 St & Avenue A"
         ],
         "xaxis": "x2",
         "y": [
          2741,
          2542,
          1879,
          1856,
          1667,
          1644,
          1599,
          1559,
          1341,
          1267
         ],
         "yaxis": "y2"
        },
        {
         "type": "bar",
         "x": [
          "E 17 St & Broadway",
          "W 21 St & 6 Ave",
          "Broadway & E 22 St",
          "Broadway & E 14 St",
          "Greenwich Ave & 8 Ave",
          "Pershing Square North",
          "Cooper Square & E 7 St",
          "E 10 St & Avenue A",
          "Great Jones St",
          "Cleveland Pl & Spring St"
         ],
         "xaxis": "x3",
         "y": [
          1114,
          1098,
          913,
          875,
          836,
          834,
          782,
          777,
          744,
          740
         ],
         "yaxis": "y3"
        },
        {
         "type": "bar",
         "x": [
          "Pershing Square North",
          "W 52 St & 5 Ave",
          "E 17 St & Broadway",
          "E 47 St & Park Ave",
          "Broadway & E 22 St",
          "W 21 St & 6 Ave",
          "Broadway & W 24 St",
          "Broadway & E 14 St",
          "E 24 St & Park Ave S",
          "W 18 St & 6 Ave"
         ],
         "xaxis": "x4",
         "y": [
          2730,
          2301,
          1933,
          1825,
          1776,
          1736,
          1533,
          1308,
          1258,
          1256
         ],
         "yaxis": "y4"
        },
        {
         "type": "bar",
         "x": [
          "Pershing Square North",
          "Broadway & E 22 St",
          "W 20 St & 11 Ave",
          "E 17 St & Broadway",
          "W 21 St & 6 Ave",
          "W 41 St & 8 Ave",
          "Broadway & E 14 St",
          "W 31 St & 7 Ave",
          "Cooper Square & E 7 St",
          "W 38 St & 8 Ave"
         ],
         "xaxis": "x5",
         "y": [
          2874,
          1851,
          1724,
          1685,
          1620,
          1396,
          1338,
          1250,
          1245,
          1240
         ],
         "yaxis": "y5"
        }
       ],
       "layout": {
        "annotations": [
         {
          "font": {
           "size": 16
          },
          "showarrow": false,
          "text": "early morning",
          "x": 0.08399999999999999,
          "xanchor": "center",
          "xref": "paper",
          "y": 1,
          "yanchor": "bottom",
          "yref": "paper"
         },
         {
          "font": {
           "size": 16
          },
          "showarrow": false,
          "text": "morning",
          "x": 0.292,
          "xanchor": "center",
          "xref": "paper",
          "y": 1,
          "yanchor": "bottom",
          "yref": "paper"
         },
         {
          "font": {
           "size": 16
          },
          "showarrow": false,
          "text": "noon",
          "x": 0.5,
          "xanchor": "center",
          "xref": "paper",
          "y": 1,
          "yanchor": "bottom",
          "yref": "paper"
         },
         {
          "font": {
           "size": 16
          },
          "showarrow": false,
          "text": "afternoon",
          "x": 0.708,
          "xanchor": "center",
          "xref": "paper",
          "y": 1,
          "yanchor": "bottom",
          "yref": "paper"
         },
         {
          "font": {
           "size": 16
          },
          "showarrow": false,
          "text": "evening",
          "x": 0.9159999999999999,
          "xanchor": "center",
          "xref": "paper",
          "y": 1,
          "yanchor": "bottom",
          "yref": "paper"
         }
        ],
        "template": {
         "data": {
          "bar": [
           {
            "error_x": {
             "color": "#2a3f5f"
            },
            "error_y": {
             "color": "#2a3f5f"
            },
            "marker": {
             "line": {
              "color": "#E5ECF6",
              "width": 0.5
             }
            },
            "type": "bar"
           }
          ],
          "barpolar": [
           {
            "marker": {
             "line": {
              "color": "#E5ECF6",
              "width": 0.5
             }
            },
            "type": "barpolar"
           }
          ],
          "carpet": [
           {
            "aaxis": {
             "endlinecolor": "#2a3f5f",
             "gridcolor": "white",
             "linecolor": "white",
             "minorgridcolor": "white",
             "startlinecolor": "#2a3f5f"
            },
            "baxis": {
             "endlinecolor": "#2a3f5f",
             "gridcolor": "white",
             "linecolor": "white",
             "minorgridcolor": "white",
             "startlinecolor": "#2a3f5f"
            },
            "type": "carpet"
           }
          ],
          "choropleth": [
           {
            "colorbar": {
             "outlinewidth": 0,
             "ticks": ""
            },
            "type": "choropleth"
           }
          ],
          "contour": [
           {
            "colorbar": {
             "outlinewidth": 0,
             "ticks": ""
            },
            "colorscale": [
             [
              0,
              "#0d0887"
             ],
             [
              0.1111111111111111,
              "#46039f"
             ],
             [
              0.2222222222222222,
              "#7201a8"
             ],
             [
              0.3333333333333333,
              "#9c179e"
             ],
             [
              0.4444444444444444,
              "#bd3786"
             ],
             [
              0.5555555555555556,
              "#d8576b"
             ],
             [
              0.6666666666666666,
              "#ed7953"
             ],
             [
              0.7777777777777778,
              "#fb9f3a"
             ],
             [
              0.8888888888888888,
              "#fdca26"
             ],
             [
              1,
              "#f0f921"
             ]
            ],
            "type": "contour"
           }
          ],
          "contourcarpet": [
           {
            "colorbar": {
             "outlinewidth": 0,
             "ticks": ""
            },
            "type": "contourcarpet"
           }
          ],
          "heatmap": [
           {
            "colorbar": {
             "outlinewidth": 0,
             "ticks": ""
            },
            "colorscale": [
             [
              0,
              "#0d0887"
             ],
             [
              0.1111111111111111,
              "#46039f"
             ],
             [
              0.2222222222222222,
              "#7201a8"
             ],
             [
              0.3333333333333333,
              "#9c179e"
             ],
             [
              0.4444444444444444,
              "#bd3786"
             ],
             [
              0.5555555555555556,
              "#d8576b"
             ],
             [
              0.6666666666666666,
              "#ed7953"
             ],
             [
              0.7777777777777778,
              "#fb9f3a"
             ],
             [
              0.8888888888888888,
              "#fdca26"
             ],
             [
              1,
              "#f0f921"
             ]
            ],
            "type": "heatmap"
           }
          ],
          "heatmapgl": [
           {
            "colorbar": {
             "outlinewidth": 0,
             "ticks": ""
            },
            "colorscale": [
             [
              0,
              "#0d0887"
             ],
             [
              0.1111111111111111,
              "#46039f"
             ],
             [
              0.2222222222222222,
              "#7201a8"
             ],
             [
              0.3333333333333333,
              "#9c179e"
             ],
             [
              0.4444444444444444,
              "#bd3786"
             ],
             [
              0.5555555555555556,
              "#d8576b"
             ],
             [
              0.6666666666666666,
              "#ed7953"
             ],
             [
              0.7777777777777778,
              "#fb9f3a"
             ],
             [
              0.8888888888888888,
              "#fdca26"
             ],
             [
              1,
              "#f0f921"
             ]
            ],
            "type": "heatmapgl"
           }
          ],
          "histogram": [
           {
            "marker": {
             "colorbar": {
              "outlinewidth": 0,
              "ticks": ""
             }
            },
            "type": "histogram"
           }
          ],
          "histogram2d": [
           {
            "colorbar": {
             "outlinewidth": 0,
             "ticks": ""
            },
            "colorscale": [
             [
              0,
              "#0d0887"
             ],
             [
              0.1111111111111111,
              "#46039f"
             ],
             [
              0.2222222222222222,
              "#7201a8"
             ],
             [
              0.3333333333333333,
              "#9c179e"
             ],
             [
              0.4444444444444444,
              "#bd3786"
             ],
             [
              0.5555555555555556,
              "#d8576b"
             ],
             [
              0.6666666666666666,
              "#ed7953"
             ],
             [
              0.7777777777777778,
              "#fb9f3a"
             ],
             [
              0.8888888888888888,
              "#fdca26"
             ],
             [
              1,
              "#f0f921"
             ]
            ],
            "type": "histogram2d"
           }
          ],
          "histogram2dcontour": [
           {
            "colorbar": {
             "outlinewidth": 0,
             "ticks": ""
            },
            "colorscale": [
             [
              0,
              "#0d0887"
             ],
             [
              0.1111111111111111,
              "#46039f"
             ],
             [
              0.2222222222222222,
              "#7201a8"
             ],
             [
              0.3333333333333333,
              "#9c179e"
             ],
             [
              0.4444444444444444,
              "#bd3786"
             ],
             [
              0.5555555555555556,
              "#d8576b"
             ],
             [
              0.6666666666666666,
              "#ed7953"
             ],
             [
              0.7777777777777778,
              "#fb9f3a"
             ],
             [
              0.8888888888888888,
              "#fdca26"
             ],
             [
              1,
              "#f0f921"
             ]
            ],
            "type": "histogram2dcontour"
           }
          ],
          "mesh3d": [
           {
            "colorbar": {
             "outlinewidth": 0,
             "ticks": ""
            },
            "type": "mesh3d"
           }
          ],
          "parcoords": [
           {
            "line": {
             "colorbar": {
              "outlinewidth": 0,
              "ticks": ""
             }
            },
            "type": "parcoords"
           }
          ],
          "pie": [
           {
            "automargin": true,
            "type": "pie"
           }
          ],
          "scatter": [
           {
            "marker": {
             "colorbar": {
              "outlinewidth": 0,
              "ticks": ""
             }
            },
            "type": "scatter"
           }
          ],
          "scatter3d": [
           {
            "line": {
             "colorbar": {
              "outlinewidth": 0,
              "ticks": ""
             }
            },
            "marker": {
             "colorbar": {
              "outlinewidth": 0,
              "ticks": ""
             }
            },
            "type": "scatter3d"
           }
          ],
          "scattercarpet": [
           {
            "marker": {
             "colorbar": {
              "outlinewidth": 0,
              "ticks": ""
             }
            },
            "type": "scattercarpet"
           }
          ],
          "scattergeo": [
           {
            "marker": {
             "colorbar": {
              "outlinewidth": 0,
              "ticks": ""
             }
            },
            "type": "scattergeo"
           }
          ],
          "scattergl": [
           {
            "marker": {
             "colorbar": {
              "outlinewidth": 0,
              "ticks": ""
             }
            },
            "type": "scattergl"
           }
          ],
          "scattermapbox": [
           {
            "marker": {
             "colorbar": {
              "outlinewidth": 0,
              "ticks": ""
             }
            },
            "type": "scattermapbox"
           }
          ],
          "scatterpolar": [
           {
            "marker": {
             "colorbar": {
              "outlinewidth": 0,
              "ticks": ""
             }
            },
            "type": "scatterpolar"
           }
          ],
          "scatterpolargl": [
           {
            "marker": {
             "colorbar": {
              "outlinewidth": 0,
              "ticks": ""
             }
            },
            "type": "scatterpolargl"
           }
          ],
          "scatterternary": [
           {
            "marker": {
             "colorbar": {
              "outlinewidth": 0,
              "ticks": ""
             }
            },
            "type": "scatterternary"
           }
          ],
          "surface": [
           {
            "colorbar": {
             "outlinewidth": 0,
             "ticks": ""
            },
            "colorscale": [
             [
              0,
              "#0d0887"
             ],
             [
              0.1111111111111111,
              "#46039f"
             ],
             [
              0.2222222222222222,
              "#7201a8"
             ],
             [
              0.3333333333333333,
              "#9c179e"
             ],
             [
              0.4444444444444444,
              "#bd3786"
             ],
             [
              0.5555555555555556,
              "#d8576b"
             ],
             [
              0.6666666666666666,
              "#ed7953"
             ],
             [
              0.7777777777777778,
              "#fb9f3a"
             ],
             [
              0.8888888888888888,
              "#fdca26"
             ],
             [
              1,
              "#f0f921"
             ]
            ],
            "type": "surface"
           }
          ],
          "table": [
           {
            "cells": {
             "fill": {
              "color": "#EBF0F8"
             },
             "line": {
              "color": "white"
             }
            },
            "header": {
             "fill": {
              "color": "#C8D4E3"
             },
             "line": {
              "color": "white"
             }
            },
            "type": "table"
           }
          ]
         },
         "layout": {
          "annotationdefaults": {
           "arrowcolor": "#2a3f5f",
           "arrowhead": 0,
           "arrowwidth": 1
          },
          "coloraxis": {
           "colorbar": {
            "outlinewidth": 0,
            "ticks": ""
           }
          },
          "colorscale": {
           "diverging": [
            [
             0,
             "#8e0152"
            ],
            [
             0.1,
             "#c51b7d"
            ],
            [
             0.2,
             "#de77ae"
            ],
            [
             0.3,
             "#f1b6da"
            ],
            [
             0.4,
             "#fde0ef"
            ],
            [
             0.5,
             "#f7f7f7"
            ],
            [
             0.6,
             "#e6f5d0"
            ],
            [
             0.7,
             "#b8e186"
            ],
            [
             0.8,
             "#7fbc41"
            ],
            [
             0.9,
             "#4d9221"
            ],
            [
             1,
             "#276419"
            ]
           ],
           "sequential": [
            [
             0,
             "#0d0887"
            ],
            [
             0.1111111111111111,
             "#46039f"
            ],
            [
             0.2222222222222222,
             "#7201a8"
            ],
            [
             0.3333333333333333,
             "#9c179e"
            ],
            [
             0.4444444444444444,
             "#bd3786"
            ],
            [
             0.5555555555555556,
             "#d8576b"
            ],
            [
             0.6666666666666666,
             "#ed7953"
            ],
            [
             0.7777777777777778,
             "#fb9f3a"
            ],
            [
             0.8888888888888888,
             "#fdca26"
            ],
            [
             1,
             "#f0f921"
            ]
           ],
           "sequentialminus": [
            [
             0,
             "#0d0887"
            ],
            [
             0.1111111111111111,
             "#46039f"
            ],
            [
             0.2222222222222222,
             "#7201a8"
            ],
            [
             0.3333333333333333,
             "#9c179e"
            ],
            [
             0.4444444444444444,
             "#bd3786"
            ],
            [
             0.5555555555555556,
             "#d8576b"
            ],
            [
             0.6666666666666666,
             "#ed7953"
            ],
            [
             0.7777777777777778,
             "#fb9f3a"
            ],
            [
             0.8888888888888888,
             "#fdca26"
            ],
            [
             1,
             "#f0f921"
            ]
           ]
          },
          "colorway": [
           "#636efa",
           "#EF553B",
           "#00cc96",
           "#ab63fa",
           "#FFA15A",
           "#19d3f3",
           "#FF6692",
           "#B6E880",
           "#FF97FF",
           "#FECB52"
          ],
          "font": {
           "color": "#2a3f5f"
          },
          "geo": {
           "bgcolor": "white",
           "lakecolor": "white",
           "landcolor": "#E5ECF6",
           "showlakes": true,
           "showland": true,
           "subunitcolor": "white"
          },
          "hoverlabel": {
           "align": "left"
          },
          "hovermode": "closest",
          "mapbox": {
           "style": "light"
          },
          "paper_bgcolor": "white",
          "plot_bgcolor": "#E5ECF6",
          "polar": {
           "angularaxis": {
            "gridcolor": "white",
            "linecolor": "white",
            "ticks": ""
           },
           "bgcolor": "#E5ECF6",
           "radialaxis": {
            "gridcolor": "white",
            "linecolor": "white",
            "ticks": ""
           }
          },
          "scene": {
           "xaxis": {
            "backgroundcolor": "#E5ECF6",
            "gridcolor": "white",
            "gridwidth": 2,
            "linecolor": "white",
            "showbackground": true,
            "ticks": "",
            "zerolinecolor": "white"
           },
           "yaxis": {
            "backgroundcolor": "#E5ECF6",
            "gridcolor": "white",
            "gridwidth": 2,
            "linecolor": "white",
            "showbackground": true,
            "ticks": "",
            "zerolinecolor": "white"
           },
           "zaxis": {
            "backgroundcolor": "#E5ECF6",
            "gridcolor": "white",
            "gridwidth": 2,
            "linecolor": "white",
            "showbackground": true,
            "ticks": "",
            "zerolinecolor": "white"
           }
          },
          "shapedefaults": {
           "line": {
            "color": "#2a3f5f"
           }
          },
          "ternary": {
           "aaxis": {
            "gridcolor": "white",
            "linecolor": "white",
            "ticks": ""
           },
           "baxis": {
            "gridcolor": "white",
            "linecolor": "white",
            "ticks": ""
           },
           "bgcolor": "#E5ECF6",
           "caxis": {
            "gridcolor": "white",
            "linecolor": "white",
            "ticks": ""
           }
          },
          "title": {
           "x": 0.05
          },
          "xaxis": {
           "automargin": true,
           "gridcolor": "white",
           "linecolor": "white",
           "ticks": "",
           "title": {
            "standoff": 15
           },
           "zerolinecolor": "white",
           "zerolinewidth": 2
          },
          "yaxis": {
           "automargin": true,
           "gridcolor": "white",
           "linecolor": "white",
           "ticks": "",
           "title": {
            "standoff": 15
           },
           "zerolinecolor": "white",
           "zerolinewidth": 2
          }
         }
        },
        "title": {
         "text": "Top 10 start station"
        },
        "xaxis": {
         "anchor": "y",
         "domain": [
          0,
          0.16799999999999998
         ]
        },
        "xaxis2": {
         "anchor": "y2",
         "domain": [
          0.208,
          0.376
         ]
        },
        "xaxis3": {
         "anchor": "y3",
         "domain": [
          0.416,
          0.584
         ]
        },
        "xaxis4": {
         "anchor": "y4",
         "domain": [
          0.624,
          0.792
         ]
        },
        "xaxis5": {
         "anchor": "y5",
         "domain": [
          0.832,
          1
         ]
        },
        "yaxis": {
         "anchor": "x",
         "domain": [
          0,
          1
         ]
        },
        "yaxis2": {
         "anchor": "x2",
         "domain": [
          0,
          1
         ]
        },
        "yaxis3": {
         "anchor": "x3",
         "domain": [
          0,
          1
         ]
        },
        "yaxis4": {
         "anchor": "x4",
         "domain": [
          0,
          1
         ]
        },
        "yaxis5": {
         "anchor": "x5",
         "domain": [
          0,
          1
         ]
        }
       }
      },
      "text/html": [
       "<div>                            <div id=\"1975eccf-f2c9-40ec-acbe-da11ddc4383e\" class=\"plotly-graph-div\" style=\"height:525px; width:100%;\"></div>            <script type=\"text/javascript\">                require([\"plotly\"], function(Plotly) {                    window.PLOTLYENV=window.PLOTLYENV || {};                                    if (document.getElementById(\"1975eccf-f2c9-40ec-acbe-da11ddc4383e\")) {                    Plotly.newPlot(                        \"1975eccf-f2c9-40ec-acbe-da11ddc4383e\",                        [{\"type\": \"bar\", \"x\": [\"LaGuardia Pl & W 3 St\", \"Allen St & Stanton St\", \"Carmine St & 6 Ave\", \"W 4 St & 7 Ave S\", \"W 41 St & 8 Ave\", \"9 Ave & W 18 St\", \"Cooper Square & E 7 St\", \"1 Ave & E 16 St\", \"W 33 St & 7 Ave\", \"E 3 St & 1 Ave\"], \"xaxis\": \"x\", \"y\": [132, 113, 103, 97, 97, 96, 90, 85, 80, 79], \"yaxis\": \"y\"}, {\"type\": \"bar\", \"x\": [\"W 33 St & 7 Ave\", \"Pershing Square North\", \"8 Ave & W 31 St\", \"8 Ave & W 33 St\", \"W 41 St & 8 Ave\", \"W 42 St & Dyer Ave\", \"W 31 St & 7 Ave\", \"E 14 St & Avenue B\", \"W 38 St & 8 Ave\", \"E 10 St & Avenue A\"], \"xaxis\": \"x2\", \"y\": [2741, 2542, 1879, 1856, 1667, 1644, 1599, 1559, 1341, 1267], \"yaxis\": \"y2\"}, {\"type\": \"bar\", \"x\": [\"E 17 St & Broadway\", \"W 21 St & 6 Ave\", \"Broadway & E 22 St\", \"Broadway & E 14 St\", \"Greenwich Ave & 8 Ave\", \"Pershing Square North\", \"Cooper Square & E 7 St\", \"E 10 St & Avenue A\", \"Great Jones St\", \"Cleveland Pl & Spring St\"], \"xaxis\": \"x3\", \"y\": [1114, 1098, 913, 875, 836, 834, 782, 777, 744, 740], \"yaxis\": \"y3\"}, {\"type\": \"bar\", \"x\": [\"Pershing Square North\", \"W 52 St & 5 Ave\", \"E 17 St & Broadway\", \"E 47 St & Park Ave\", \"Broadway & E 22 St\", \"W 21 St & 6 Ave\", \"Broadway & W 24 St\", \"Broadway & E 14 St\", \"E 24 St & Park Ave S\", \"W 18 St & 6 Ave\"], \"xaxis\": \"x4\", \"y\": [2730, 2301, 1933, 1825, 1776, 1736, 1533, 1308, 1258, 1256], \"yaxis\": \"y4\"}, {\"type\": \"bar\", \"x\": [\"Pershing Square North\", \"Broadway & E 22 St\", \"W 20 St & 11 Ave\", \"E 17 St & Broadway\", \"W 21 St & 6 Ave\", \"W 41 St & 8 Ave\", \"Broadway & E 14 St\", \"W 31 St & 7 Ave\", \"Cooper Square & E 7 St\", \"W 38 St & 8 Ave\"], \"xaxis\": \"x5\", \"y\": [2874, 1851, 1724, 1685, 1620, 1396, 1338, 1250, 1245, 1240], \"yaxis\": \"y5\"}],                        {\"annotations\": [{\"font\": {\"size\": 16}, \"showarrow\": false, \"text\": \"early morning\", \"x\": 0.08399999999999999, \"xanchor\": \"center\", \"xref\": \"paper\", \"y\": 1.0, \"yanchor\": \"bottom\", \"yref\": \"paper\"}, {\"font\": {\"size\": 16}, \"showarrow\": false, \"text\": \"morning\", \"x\": 0.292, \"xanchor\": \"center\", \"xref\": \"paper\", \"y\": 1.0, \"yanchor\": \"bottom\", \"yref\": \"paper\"}, {\"font\": {\"size\": 16}, \"showarrow\": false, \"text\": \"noon\", \"x\": 0.5, \"xanchor\": \"center\", \"xref\": \"paper\", \"y\": 1.0, \"yanchor\": \"bottom\", \"yref\": \"paper\"}, {\"font\": {\"size\": 16}, \"showarrow\": false, \"text\": \"afternoon\", \"x\": 0.708, \"xanchor\": \"center\", \"xref\": \"paper\", \"y\": 1.0, \"yanchor\": \"bottom\", \"yref\": \"paper\"}, {\"font\": {\"size\": 16}, \"showarrow\": false, \"text\": \"evening\", \"x\": 0.9159999999999999, \"xanchor\": \"center\", \"xref\": \"paper\", \"y\": 1.0, \"yanchor\": \"bottom\", \"yref\": \"paper\"}], \"template\": {\"data\": {\"bar\": [{\"error_x\": {\"color\": \"#2a3f5f\"}, \"error_y\": {\"color\": \"#2a3f5f\"}, \"marker\": {\"line\": {\"color\": \"#E5ECF6\", \"width\": 0.5}}, \"type\": \"bar\"}], \"barpolar\": [{\"marker\": {\"line\": {\"color\": \"#E5ECF6\", \"width\": 0.5}}, \"type\": \"barpolar\"}], \"carpet\": [{\"aaxis\": {\"endlinecolor\": \"#2a3f5f\", \"gridcolor\": \"white\", \"linecolor\": \"white\", \"minorgridcolor\": \"white\", \"startlinecolor\": \"#2a3f5f\"}, \"baxis\": {\"endlinecolor\": \"#2a3f5f\", \"gridcolor\": \"white\", \"linecolor\": \"white\", \"minorgridcolor\": \"white\", \"startlinecolor\": \"#2a3f5f\"}, \"type\": \"carpet\"}], \"choropleth\": [{\"colorbar\": {\"outlinewidth\": 0, \"ticks\": \"\"}, \"type\": \"choropleth\"}], \"contour\": [{\"colorbar\": {\"outlinewidth\": 0, \"ticks\": \"\"}, \"colorscale\": [[0.0, \"#0d0887\"], [0.1111111111111111, \"#46039f\"], [0.2222222222222222, \"#7201a8\"], [0.3333333333333333, \"#9c179e\"], [0.4444444444444444, \"#bd3786\"], [0.5555555555555556, \"#d8576b\"], [0.6666666666666666, \"#ed7953\"], [0.7777777777777778, \"#fb9f3a\"], [0.8888888888888888, \"#fdca26\"], [1.0, \"#f0f921\"]], \"type\": \"contour\"}], \"contourcarpet\": [{\"colorbar\": {\"outlinewidth\": 0, \"ticks\": \"\"}, \"type\": \"contourcarpet\"}], \"heatmap\": [{\"colorbar\": {\"outlinewidth\": 0, \"ticks\": \"\"}, \"colorscale\": [[0.0, \"#0d0887\"], [0.1111111111111111, \"#46039f\"], [0.2222222222222222, \"#7201a8\"], [0.3333333333333333, \"#9c179e\"], [0.4444444444444444, \"#bd3786\"], [0.5555555555555556, \"#d8576b\"], [0.6666666666666666, \"#ed7953\"], [0.7777777777777778, \"#fb9f3a\"], [0.8888888888888888, \"#fdca26\"], [1.0, \"#f0f921\"]], \"type\": \"heatmap\"}], \"heatmapgl\": [{\"colorbar\": {\"outlinewidth\": 0, \"ticks\": \"\"}, \"colorscale\": [[0.0, \"#0d0887\"], [0.1111111111111111, \"#46039f\"], [0.2222222222222222, \"#7201a8\"], [0.3333333333333333, \"#9c179e\"], [0.4444444444444444, \"#bd3786\"], [0.5555555555555556, \"#d8576b\"], [0.6666666666666666, \"#ed7953\"], [0.7777777777777778, \"#fb9f3a\"], [0.8888888888888888, \"#fdca26\"], [1.0, \"#f0f921\"]], \"type\": \"heatmapgl\"}], \"histogram\": [{\"marker\": {\"colorbar\": {\"outlinewidth\": 0, \"ticks\": \"\"}}, \"type\": \"histogram\"}], \"histogram2d\": [{\"colorbar\": {\"outlinewidth\": 0, \"ticks\": \"\"}, \"colorscale\": [[0.0, \"#0d0887\"], [0.1111111111111111, \"#46039f\"], [0.2222222222222222, \"#7201a8\"], [0.3333333333333333, \"#9c179e\"], [0.4444444444444444, \"#bd3786\"], [0.5555555555555556, \"#d8576b\"], [0.6666666666666666, \"#ed7953\"], [0.7777777777777778, \"#fb9f3a\"], [0.8888888888888888, \"#fdca26\"], [1.0, \"#f0f921\"]], \"type\": \"histogram2d\"}], \"histogram2dcontour\": [{\"colorbar\": {\"outlinewidth\": 0, \"ticks\": \"\"}, \"colorscale\": [[0.0, \"#0d0887\"], [0.1111111111111111, \"#46039f\"], [0.2222222222222222, \"#7201a8\"], [0.3333333333333333, \"#9c179e\"], [0.4444444444444444, \"#bd3786\"], [0.5555555555555556, \"#d8576b\"], [0.6666666666666666, \"#ed7953\"], [0.7777777777777778, \"#fb9f3a\"], [0.8888888888888888, \"#fdca26\"], [1.0, \"#f0f921\"]], \"type\": \"histogram2dcontour\"}], \"mesh3d\": [{\"colorbar\": {\"outlinewidth\": 0, \"ticks\": \"\"}, \"type\": \"mesh3d\"}], \"parcoords\": [{\"line\": {\"colorbar\": {\"outlinewidth\": 0, \"ticks\": \"\"}}, \"type\": \"parcoords\"}], \"pie\": [{\"automargin\": true, \"type\": \"pie\"}], \"scatter\": [{\"marker\": {\"colorbar\": {\"outlinewidth\": 0, \"ticks\": \"\"}}, \"type\": \"scatter\"}], \"scatter3d\": [{\"line\": {\"colorbar\": {\"outlinewidth\": 0, \"ticks\": \"\"}}, \"marker\": {\"colorbar\": {\"outlinewidth\": 0, \"ticks\": \"\"}}, \"type\": \"scatter3d\"}], \"scattercarpet\": [{\"marker\": {\"colorbar\": {\"outlinewidth\": 0, \"ticks\": \"\"}}, \"type\": \"scattercarpet\"}], \"scattergeo\": [{\"marker\": {\"colorbar\": {\"outlinewidth\": 0, \"ticks\": \"\"}}, \"type\": \"scattergeo\"}], \"scattergl\": [{\"marker\": {\"colorbar\": {\"outlinewidth\": 0, \"ticks\": \"\"}}, \"type\": \"scattergl\"}], \"scattermapbox\": [{\"marker\": {\"colorbar\": {\"outlinewidth\": 0, \"ticks\": \"\"}}, \"type\": \"scattermapbox\"}], \"scatterpolar\": [{\"marker\": {\"colorbar\": {\"outlinewidth\": 0, \"ticks\": \"\"}}, \"type\": \"scatterpolar\"}], \"scatterpolargl\": [{\"marker\": {\"colorbar\": {\"outlinewidth\": 0, \"ticks\": \"\"}}, \"type\": \"scatterpolargl\"}], \"scatterternary\": [{\"marker\": {\"colorbar\": {\"outlinewidth\": 0, \"ticks\": \"\"}}, \"type\": \"scatterternary\"}], \"surface\": [{\"colorbar\": {\"outlinewidth\": 0, \"ticks\": \"\"}, \"colorscale\": [[0.0, \"#0d0887\"], [0.1111111111111111, \"#46039f\"], [0.2222222222222222, \"#7201a8\"], [0.3333333333333333, \"#9c179e\"], [0.4444444444444444, \"#bd3786\"], [0.5555555555555556, \"#d8576b\"], [0.6666666666666666, \"#ed7953\"], [0.7777777777777778, \"#fb9f3a\"], [0.8888888888888888, \"#fdca26\"], [1.0, \"#f0f921\"]], \"type\": \"surface\"}], \"table\": [{\"cells\": {\"fill\": {\"color\": \"#EBF0F8\"}, \"line\": {\"color\": \"white\"}}, \"header\": {\"fill\": {\"color\": \"#C8D4E3\"}, \"line\": {\"color\": \"white\"}}, \"type\": \"table\"}]}, \"layout\": {\"annotationdefaults\": {\"arrowcolor\": \"#2a3f5f\", \"arrowhead\": 0, \"arrowwidth\": 1}, \"coloraxis\": {\"colorbar\": {\"outlinewidth\": 0, \"ticks\": \"\"}}, \"colorscale\": {\"diverging\": [[0, \"#8e0152\"], [0.1, \"#c51b7d\"], [0.2, \"#de77ae\"], [0.3, \"#f1b6da\"], [0.4, \"#fde0ef\"], [0.5, \"#f7f7f7\"], [0.6, \"#e6f5d0\"], [0.7, \"#b8e186\"], [0.8, \"#7fbc41\"], [0.9, \"#4d9221\"], [1, \"#276419\"]], \"sequential\": [[0.0, \"#0d0887\"], [0.1111111111111111, \"#46039f\"], [0.2222222222222222, \"#7201a8\"], [0.3333333333333333, \"#9c179e\"], [0.4444444444444444, \"#bd3786\"], [0.5555555555555556, \"#d8576b\"], [0.6666666666666666, \"#ed7953\"], [0.7777777777777778, \"#fb9f3a\"], [0.8888888888888888, \"#fdca26\"], [1.0, \"#f0f921\"]], \"sequentialminus\": [[0.0, \"#0d0887\"], [0.1111111111111111, \"#46039f\"], [0.2222222222222222, \"#7201a8\"], [0.3333333333333333, \"#9c179e\"], [0.4444444444444444, \"#bd3786\"], [0.5555555555555556, \"#d8576b\"], [0.6666666666666666, \"#ed7953\"], [0.7777777777777778, \"#fb9f3a\"], [0.8888888888888888, \"#fdca26\"], [1.0, \"#f0f921\"]]}, \"colorway\": [\"#636efa\", \"#EF553B\", \"#00cc96\", \"#ab63fa\", \"#FFA15A\", \"#19d3f3\", \"#FF6692\", \"#B6E880\", \"#FF97FF\", \"#FECB52\"], \"font\": {\"color\": \"#2a3f5f\"}, \"geo\": {\"bgcolor\": \"white\", \"lakecolor\": \"white\", \"landcolor\": \"#E5ECF6\", \"showlakes\": true, \"showland\": true, \"subunitcolor\": \"white\"}, \"hoverlabel\": {\"align\": \"left\"}, \"hovermode\": \"closest\", \"mapbox\": {\"style\": \"light\"}, \"paper_bgcolor\": \"white\", \"plot_bgcolor\": \"#E5ECF6\", \"polar\": {\"angularaxis\": {\"gridcolor\": \"white\", \"linecolor\": \"white\", \"ticks\": \"\"}, \"bgcolor\": \"#E5ECF6\", \"radialaxis\": {\"gridcolor\": \"white\", \"linecolor\": \"white\", \"ticks\": \"\"}}, \"scene\": {\"xaxis\": {\"backgroundcolor\": \"#E5ECF6\", \"gridcolor\": \"white\", \"gridwidth\": 2, \"linecolor\": \"white\", \"showbackground\": true, \"ticks\": \"\", \"zerolinecolor\": \"white\"}, \"yaxis\": {\"backgroundcolor\": \"#E5ECF6\", \"gridcolor\": \"white\", \"gridwidth\": 2, \"linecolor\": \"white\", \"showbackground\": true, \"ticks\": \"\", \"zerolinecolor\": \"white\"}, \"zaxis\": {\"backgroundcolor\": \"#E5ECF6\", \"gridcolor\": \"white\", \"gridwidth\": 2, \"linecolor\": \"white\", \"showbackground\": true, \"ticks\": \"\", \"zerolinecolor\": \"white\"}}, \"shapedefaults\": {\"line\": {\"color\": \"#2a3f5f\"}}, \"ternary\": {\"aaxis\": {\"gridcolor\": \"white\", \"linecolor\": \"white\", \"ticks\": \"\"}, \"baxis\": {\"gridcolor\": \"white\", \"linecolor\": \"white\", \"ticks\": \"\"}, \"bgcolor\": \"#E5ECF6\", \"caxis\": {\"gridcolor\": \"white\", \"linecolor\": \"white\", \"ticks\": \"\"}}, \"title\": {\"x\": 0.05}, \"xaxis\": {\"automargin\": true, \"gridcolor\": \"white\", \"linecolor\": \"white\", \"ticks\": \"\", \"title\": {\"standoff\": 15}, \"zerolinecolor\": \"white\", \"zerolinewidth\": 2}, \"yaxis\": {\"automargin\": true, \"gridcolor\": \"white\", \"linecolor\": \"white\", \"ticks\": \"\", \"title\": {\"standoff\": 15}, \"zerolinecolor\": \"white\", \"zerolinewidth\": 2}}}, \"title\": {\"text\": \"Top 10 start station\"}, \"xaxis\": {\"anchor\": \"y\", \"domain\": [0.0, 0.16799999999999998]}, \"xaxis2\": {\"anchor\": \"y2\", \"domain\": [0.208, 0.376]}, \"xaxis3\": {\"anchor\": \"y3\", \"domain\": [0.416, 0.584]}, \"xaxis4\": {\"anchor\": \"y4\", \"domain\": [0.624, 0.792]}, \"xaxis5\": {\"anchor\": \"y5\", \"domain\": [0.832, 1.0]}, \"yaxis\": {\"anchor\": \"x\", \"domain\": [0.0, 1.0]}, \"yaxis2\": {\"anchor\": \"x2\", \"domain\": [0.0, 1.0]}, \"yaxis3\": {\"anchor\": \"x3\", \"domain\": [0.0, 1.0]}, \"yaxis4\": {\"anchor\": \"x4\", \"domain\": [0.0, 1.0]}, \"yaxis5\": {\"anchor\": \"x5\", \"domain\": [0.0, 1.0]}},                        {\"responsive\": true}                    ).then(function(){\n",
       "                            \n",
       "var gd = document.getElementById('1975eccf-f2c9-40ec-acbe-da11ddc4383e');\n",
       "var x = new MutationObserver(function (mutations, observer) {{\n",
       "        var display = window.getComputedStyle(gd).display;\n",
       "        if (!display || display === 'none') {{\n",
       "            console.log([gd, 'removed!']);\n",
       "            Plotly.purge(gd);\n",
       "            observer.disconnect();\n",
       "        }}\n",
       "}});\n",
       "\n",
       "// Listen for the removal of the full notebook cells\n",
       "var notebookContainer = gd.closest('#notebook-container');\n",
       "if (notebookContainer) {{\n",
       "    x.observe(notebookContainer, {childList: true});\n",
       "}}\n",
       "\n",
       "// Listen for the clearing of the current output cell\n",
       "var outputEl = gd.closest('.output');\n",
       "if (outputEl) {{\n",
       "    x.observe(outputEl, {childList: true});\n",
       "}}\n",
       "\n",
       "                        })                };                });            </script>        </div>"
      ]
     },
     "metadata": {},
     "output_type": "display_data"
    }
   ],
   "source": [
    "day_parts = ['early morning','morning', 'noon', 'afternoon','evening']\n",
    "fig = tools.make_subplots(rows=1, cols=5, subplot_titles=day_parts)\n",
    "\n",
    "df_station_end = df.groupby(['End Station ID', 'End Station Name', 'End Station Latitude', 'End Station Longitude','part_of_day']).count().reset_index()[['End Station ID', 'End Station Name', 'End Station Latitude', 'End Station Longitude', 'age','part_of_day']]\n",
    "df_station_end.rename(columns={\n",
    "    'End Station ID': 'id',\n",
    "    'End Station Name': 'name',\n",
    "    'End Station Latitude':'lat',\n",
    "    'End Station Longitude': 'lon'\n",
    "}, inplace= True)\n",
    "df_station_start = df.groupby(['Start Station ID', 'Start Station Name', 'Start Station Latitude', 'Start Station Longitude','part_of_day']).count().reset_index()[['Start Station ID', 'Start Station Name', 'Start Station Latitude', 'Start Station Longitude', 'age','part_of_day']]\n",
    "df_station_start.rename(columns={\n",
    "    'Start Station ID': 'id',\n",
    "    'Start Station Name': 'name',\n",
    "    'Start Station Latitude':'lat',\n",
    "    'Start Station Longitude': 'lon'\n",
    "}, inplace= True)\n",
    "\n",
    "\n",
    "for idx, daypart in enumerate(day_parts):\n",
    "    df_start_top10 = df_station_start[df_station_start['part_of_day'] == daypart].sort_values(['age'], ascending=False).head(10)\n",
    "    trace = go.Bar(\n",
    "            x=df_start_top10.name,\n",
    "            y=df_start_top10.age\n",
    "    )\n",
    "    fig.append_trace(trace, 1, idx + 1)\n",
    "\n",
    "fig['layout'].update(title='Top 10 start station')\n",
    "\n",
    "iplot(fig)\n",
    "\n",
    "\n"
   ]
  },
  {
   "cell_type": "code",
   "execution_count": 376,
   "metadata": {
    "_uuid": "c340e7dc5ffd36f1b8c7926e0a548634c7e3dd8c"
   },
   "outputs": [
    {
     "data": {
      "application/vnd.plotly.v1+json": {
       "config": {
        "linkText": "Export to plot.ly",
        "plotlyServerURL": "https://plot.ly",
        "showLink": false
       },
       "data": [
        {
         "type": "bar",
         "x": [
          "W 41 St & 8 Ave",
          "1 Ave & E 16 St",
          "E 14 St & Avenue B",
          "E 15 St & 3 Ave",
          "W 26 St & 8 Ave",
          "E 7 St & Avenue A",
          "Cooper Square & E 7 St",
          "E 25 St & 2 Ave",
          "Forsyth St & Broome St",
          "E 20 St & FDR Drive"
         ],
         "xaxis": "x",
         "y": [
          111,
          101,
          86,
          79,
          75,
          74,
          73,
          73,
          71,
          70
         ],
         "yaxis": "y"
        },
        {
         "type": "bar",
         "x": [
          "W 52 St & 5 Ave",
          "E 47 St & Park Ave",
          "Pershing Square North",
          "Broadway & E 22 St",
          "E 17 St & Broadway",
          "W 21 St & 6 Ave",
          "Broadway & W 49 St",
          "W 20 St & 11 Ave",
          "E 33 St & 2 Ave",
          "Pershing Square South"
         ],
         "xaxis": "x2",
         "y": [
          3184,
          2563,
          2498,
          2317,
          1655,
          1358,
          1321,
          1282,
          1269,
          1263
         ],
         "yaxis": "y2"
        },
        {
         "type": "bar",
         "x": [
          "E 17 St & Broadway",
          "Broadway & E 22 St",
          "W 21 St & 6 Ave",
          "Cleveland Pl & Spring St",
          "Carmine St & 6 Ave",
          "Pershing Square North",
          "Broadway & E 14 St",
          "Greenwich Ave & 8 Ave",
          "Cooper Square & E 7 St",
          "W 18 St & 6 Ave"
         ],
         "xaxis": "x3",
         "y": [
          1330,
          1248,
          1193,
          893,
          874,
          874,
          871,
          851,
          832,
          826
         ],
         "yaxis": "y3"
        },
        {
         "type": "bar",
         "x": [
          "W 33 St & 7 Ave",
          "Pershing Square North",
          "8 Ave & W 33 St",
          "8 Ave & W 31 St",
          "W 41 St & 8 Ave",
          "E 17 St & Broadway",
          "W 31 St & 7 Ave",
          "W 38 St & 8 Ave",
          "W 21 St & 6 Ave",
          "Broadway & E 22 St"
         ],
         "xaxis": "x4",
         "y": [
          3835,
          3434,
          1945,
          1871,
          1868,
          1673,
          1597,
          1576,
          1572,
          1223
         ],
         "yaxis": "y4"
        },
        {
         "type": "bar",
         "x": [
          "Pershing Square North",
          "E 7 St & Avenue A",
          "1 Ave & E 16 St",
          "E 14 St & Avenue B",
          "W 41 St & 8 Ave",
          "W 33 St & 7 Ave",
          "W 21 St & 6 Ave",
          "E 17 St & Broadway",
          "E 15 St & 3 Ave",
          "E 11 St & 2 Ave"
         ],
         "xaxis": "x5",
         "y": [
          2123,
          1693,
          1259,
          1240,
          1219,
          1211,
          1190,
          1179,
          1176,
          1155
         ],
         "yaxis": "y5"
        }
       ],
       "layout": {
        "annotations": [
         {
          "font": {
           "size": 16
          },
          "showarrow": false,
          "text": "early morning",
          "x": 0.08399999999999999,
          "xanchor": "center",
          "xref": "paper",
          "y": 1,
          "yanchor": "bottom",
          "yref": "paper"
         },
         {
          "font": {
           "size": 16
          },
          "showarrow": false,
          "text": "morning",
          "x": 0.292,
          "xanchor": "center",
          "xref": "paper",
          "y": 1,
          "yanchor": "bottom",
          "yref": "paper"
         },
         {
          "font": {
           "size": 16
          },
          "showarrow": false,
          "text": "noon",
          "x": 0.5,
          "xanchor": "center",
          "xref": "paper",
          "y": 1,
          "yanchor": "bottom",
          "yref": "paper"
         },
         {
          "font": {
           "size": 16
          },
          "showarrow": false,
          "text": "afternoon",
          "x": 0.708,
          "xanchor": "center",
          "xref": "paper",
          "y": 1,
          "yanchor": "bottom",
          "yref": "paper"
         },
         {
          "font": {
           "size": 16
          },
          "showarrow": false,
          "text": "evening",
          "x": 0.9159999999999999,
          "xanchor": "center",
          "xref": "paper",
          "y": 1,
          "yanchor": "bottom",
          "yref": "paper"
         }
        ],
        "template": {
         "data": {
          "bar": [
           {
            "error_x": {
             "color": "#2a3f5f"
            },
            "error_y": {
             "color": "#2a3f5f"
            },
            "marker": {
             "line": {
              "color": "#E5ECF6",
              "width": 0.5
             }
            },
            "type": "bar"
           }
          ],
          "barpolar": [
           {
            "marker": {
             "line": {
              "color": "#E5ECF6",
              "width": 0.5
             }
            },
            "type": "barpolar"
           }
          ],
          "carpet": [
           {
            "aaxis": {
             "endlinecolor": "#2a3f5f",
             "gridcolor": "white",
             "linecolor": "white",
             "minorgridcolor": "white",
             "startlinecolor": "#2a3f5f"
            },
            "baxis": {
             "endlinecolor": "#2a3f5f",
             "gridcolor": "white",
             "linecolor": "white",
             "minorgridcolor": "white",
             "startlinecolor": "#2a3f5f"
            },
            "type": "carpet"
           }
          ],
          "choropleth": [
           {
            "colorbar": {
             "outlinewidth": 0,
             "ticks": ""
            },
            "type": "choropleth"
           }
          ],
          "contour": [
           {
            "colorbar": {
             "outlinewidth": 0,
             "ticks": ""
            },
            "colorscale": [
             [
              0,
              "#0d0887"
             ],
             [
              0.1111111111111111,
              "#46039f"
             ],
             [
              0.2222222222222222,
              "#7201a8"
             ],
             [
              0.3333333333333333,
              "#9c179e"
             ],
             [
              0.4444444444444444,
              "#bd3786"
             ],
             [
              0.5555555555555556,
              "#d8576b"
             ],
             [
              0.6666666666666666,
              "#ed7953"
             ],
             [
              0.7777777777777778,
              "#fb9f3a"
             ],
             [
              0.8888888888888888,
              "#fdca26"
             ],
             [
              1,
              "#f0f921"
             ]
            ],
            "type": "contour"
           }
          ],
          "contourcarpet": [
           {
            "colorbar": {
             "outlinewidth": 0,
             "ticks": ""
            },
            "type": "contourcarpet"
           }
          ],
          "heatmap": [
           {
            "colorbar": {
             "outlinewidth": 0,
             "ticks": ""
            },
            "colorscale": [
             [
              0,
              "#0d0887"
             ],
             [
              0.1111111111111111,
              "#46039f"
             ],
             [
              0.2222222222222222,
              "#7201a8"
             ],
             [
              0.3333333333333333,
              "#9c179e"
             ],
             [
              0.4444444444444444,
              "#bd3786"
             ],
             [
              0.5555555555555556,
              "#d8576b"
             ],
             [
              0.6666666666666666,
              "#ed7953"
             ],
             [
              0.7777777777777778,
              "#fb9f3a"
             ],
             [
              0.8888888888888888,
              "#fdca26"
             ],
             [
              1,
              "#f0f921"
             ]
            ],
            "type": "heatmap"
           }
          ],
          "heatmapgl": [
           {
            "colorbar": {
             "outlinewidth": 0,
             "ticks": ""
            },
            "colorscale": [
             [
              0,
              "#0d0887"
             ],
             [
              0.1111111111111111,
              "#46039f"
             ],
             [
              0.2222222222222222,
              "#7201a8"
             ],
             [
              0.3333333333333333,
              "#9c179e"
             ],
             [
              0.4444444444444444,
              "#bd3786"
             ],
             [
              0.5555555555555556,
              "#d8576b"
             ],
             [
              0.6666666666666666,
              "#ed7953"
             ],
             [
              0.7777777777777778,
              "#fb9f3a"
             ],
             [
              0.8888888888888888,
              "#fdca26"
             ],
             [
              1,
              "#f0f921"
             ]
            ],
            "type": "heatmapgl"
           }
          ],
          "histogram": [
           {
            "marker": {
             "colorbar": {
              "outlinewidth": 0,
              "ticks": ""
             }
            },
            "type": "histogram"
           }
          ],
          "histogram2d": [
           {
            "colorbar": {
             "outlinewidth": 0,
             "ticks": ""
            },
            "colorscale": [
             [
              0,
              "#0d0887"
             ],
             [
              0.1111111111111111,
              "#46039f"
             ],
             [
              0.2222222222222222,
              "#7201a8"
             ],
             [
              0.3333333333333333,
              "#9c179e"
             ],
             [
              0.4444444444444444,
              "#bd3786"
             ],
             [
              0.5555555555555556,
              "#d8576b"
             ],
             [
              0.6666666666666666,
              "#ed7953"
             ],
             [
              0.7777777777777778,
              "#fb9f3a"
             ],
             [
              0.8888888888888888,
              "#fdca26"
             ],
             [
              1,
              "#f0f921"
             ]
            ],
            "type": "histogram2d"
           }
          ],
          "histogram2dcontour": [
           {
            "colorbar": {
             "outlinewidth": 0,
             "ticks": ""
            },
            "colorscale": [
             [
              0,
              "#0d0887"
             ],
             [
              0.1111111111111111,
              "#46039f"
             ],
             [
              0.2222222222222222,
              "#7201a8"
             ],
             [
              0.3333333333333333,
              "#9c179e"
             ],
             [
              0.4444444444444444,
              "#bd3786"
             ],
             [
              0.5555555555555556,
              "#d8576b"
             ],
             [
              0.6666666666666666,
              "#ed7953"
             ],
             [
              0.7777777777777778,
              "#fb9f3a"
             ],
             [
              0.8888888888888888,
              "#fdca26"
             ],
             [
              1,
              "#f0f921"
             ]
            ],
            "type": "histogram2dcontour"
           }
          ],
          "mesh3d": [
           {
            "colorbar": {
             "outlinewidth": 0,
             "ticks": ""
            },
            "type": "mesh3d"
           }
          ],
          "parcoords": [
           {
            "line": {
             "colorbar": {
              "outlinewidth": 0,
              "ticks": ""
             }
            },
            "type": "parcoords"
           }
          ],
          "pie": [
           {
            "automargin": true,
            "type": "pie"
           }
          ],
          "scatter": [
           {
            "marker": {
             "colorbar": {
              "outlinewidth": 0,
              "ticks": ""
             }
            },
            "type": "scatter"
           }
          ],
          "scatter3d": [
           {
            "line": {
             "colorbar": {
              "outlinewidth": 0,
              "ticks": ""
             }
            },
            "marker": {
             "colorbar": {
              "outlinewidth": 0,
              "ticks": ""
             }
            },
            "type": "scatter3d"
           }
          ],
          "scattercarpet": [
           {
            "marker": {
             "colorbar": {
              "outlinewidth": 0,
              "ticks": ""
             }
            },
            "type": "scattercarpet"
           }
          ],
          "scattergeo": [
           {
            "marker": {
             "colorbar": {
              "outlinewidth": 0,
              "ticks": ""
             }
            },
            "type": "scattergeo"
           }
          ],
          "scattergl": [
           {
            "marker": {
             "colorbar": {
              "outlinewidth": 0,
              "ticks": ""
             }
            },
            "type": "scattergl"
           }
          ],
          "scattermapbox": [
           {
            "marker": {
             "colorbar": {
              "outlinewidth": 0,
              "ticks": ""
             }
            },
            "type": "scattermapbox"
           }
          ],
          "scatterpolar": [
           {
            "marker": {
             "colorbar": {
              "outlinewidth": 0,
              "ticks": ""
             }
            },
            "type": "scatterpolar"
           }
          ],
          "scatterpolargl": [
           {
            "marker": {
             "colorbar": {
              "outlinewidth": 0,
              "ticks": ""
             }
            },
            "type": "scatterpolargl"
           }
          ],
          "scatterternary": [
           {
            "marker": {
             "colorbar": {
              "outlinewidth": 0,
              "ticks": ""
             }
            },
            "type": "scatterternary"
           }
          ],
          "surface": [
           {
            "colorbar": {
             "outlinewidth": 0,
             "ticks": ""
            },
            "colorscale": [
             [
              0,
              "#0d0887"
             ],
             [
              0.1111111111111111,
              "#46039f"
             ],
             [
              0.2222222222222222,
              "#7201a8"
             ],
             [
              0.3333333333333333,
              "#9c179e"
             ],
             [
              0.4444444444444444,
              "#bd3786"
             ],
             [
              0.5555555555555556,
              "#d8576b"
             ],
             [
              0.6666666666666666,
              "#ed7953"
             ],
             [
              0.7777777777777778,
              "#fb9f3a"
             ],
             [
              0.8888888888888888,
              "#fdca26"
             ],
             [
              1,
              "#f0f921"
             ]
            ],
            "type": "surface"
           }
          ],
          "table": [
           {
            "cells": {
             "fill": {
              "color": "#EBF0F8"
             },
             "line": {
              "color": "white"
             }
            },
            "header": {
             "fill": {
              "color": "#C8D4E3"
             },
             "line": {
              "color": "white"
             }
            },
            "type": "table"
           }
          ]
         },
         "layout": {
          "annotationdefaults": {
           "arrowcolor": "#2a3f5f",
           "arrowhead": 0,
           "arrowwidth": 1
          },
          "coloraxis": {
           "colorbar": {
            "outlinewidth": 0,
            "ticks": ""
           }
          },
          "colorscale": {
           "diverging": [
            [
             0,
             "#8e0152"
            ],
            [
             0.1,
             "#c51b7d"
            ],
            [
             0.2,
             "#de77ae"
            ],
            [
             0.3,
             "#f1b6da"
            ],
            [
             0.4,
             "#fde0ef"
            ],
            [
             0.5,
             "#f7f7f7"
            ],
            [
             0.6,
             "#e6f5d0"
            ],
            [
             0.7,
             "#b8e186"
            ],
            [
             0.8,
             "#7fbc41"
            ],
            [
             0.9,
             "#4d9221"
            ],
            [
             1,
             "#276419"
            ]
           ],
           "sequential": [
            [
             0,
             "#0d0887"
            ],
            [
             0.1111111111111111,
             "#46039f"
            ],
            [
             0.2222222222222222,
             "#7201a8"
            ],
            [
             0.3333333333333333,
             "#9c179e"
            ],
            [
             0.4444444444444444,
             "#bd3786"
            ],
            [
             0.5555555555555556,
             "#d8576b"
            ],
            [
             0.6666666666666666,
             "#ed7953"
            ],
            [
             0.7777777777777778,
             "#fb9f3a"
            ],
            [
             0.8888888888888888,
             "#fdca26"
            ],
            [
             1,
             "#f0f921"
            ]
           ],
           "sequentialminus": [
            [
             0,
             "#0d0887"
            ],
            [
             0.1111111111111111,
             "#46039f"
            ],
            [
             0.2222222222222222,
             "#7201a8"
            ],
            [
             0.3333333333333333,
             "#9c179e"
            ],
            [
             0.4444444444444444,
             "#bd3786"
            ],
            [
             0.5555555555555556,
             "#d8576b"
            ],
            [
             0.6666666666666666,
             "#ed7953"
            ],
            [
             0.7777777777777778,
             "#fb9f3a"
            ],
            [
             0.8888888888888888,
             "#fdca26"
            ],
            [
             1,
             "#f0f921"
            ]
           ]
          },
          "colorway": [
           "#636efa",
           "#EF553B",
           "#00cc96",
           "#ab63fa",
           "#FFA15A",
           "#19d3f3",
           "#FF6692",
           "#B6E880",
           "#FF97FF",
           "#FECB52"
          ],
          "font": {
           "color": "#2a3f5f"
          },
          "geo": {
           "bgcolor": "white",
           "lakecolor": "white",
           "landcolor": "#E5ECF6",
           "showlakes": true,
           "showland": true,
           "subunitcolor": "white"
          },
          "hoverlabel": {
           "align": "left"
          },
          "hovermode": "closest",
          "mapbox": {
           "style": "light"
          },
          "paper_bgcolor": "white",
          "plot_bgcolor": "#E5ECF6",
          "polar": {
           "angularaxis": {
            "gridcolor": "white",
            "linecolor": "white",
            "ticks": ""
           },
           "bgcolor": "#E5ECF6",
           "radialaxis": {
            "gridcolor": "white",
            "linecolor": "white",
            "ticks": ""
           }
          },
          "scene": {
           "xaxis": {
            "backgroundcolor": "#E5ECF6",
            "gridcolor": "white",
            "gridwidth": 2,
            "linecolor": "white",
            "showbackground": true,
            "ticks": "",
            "zerolinecolor": "white"
           },
           "yaxis": {
            "backgroundcolor": "#E5ECF6",
            "gridcolor": "white",
            "gridwidth": 2,
            "linecolor": "white",
            "showbackground": true,
            "ticks": "",
            "zerolinecolor": "white"
           },
           "zaxis": {
            "backgroundcolor": "#E5ECF6",
            "gridcolor": "white",
            "gridwidth": 2,
            "linecolor": "white",
            "showbackground": true,
            "ticks": "",
            "zerolinecolor": "white"
           }
          },
          "shapedefaults": {
           "line": {
            "color": "#2a3f5f"
           }
          },
          "ternary": {
           "aaxis": {
            "gridcolor": "white",
            "linecolor": "white",
            "ticks": ""
           },
           "baxis": {
            "gridcolor": "white",
            "linecolor": "white",
            "ticks": ""
           },
           "bgcolor": "#E5ECF6",
           "caxis": {
            "gridcolor": "white",
            "linecolor": "white",
            "ticks": ""
           }
          },
          "title": {
           "x": 0.05
          },
          "xaxis": {
           "automargin": true,
           "gridcolor": "white",
           "linecolor": "white",
           "ticks": "",
           "title": {
            "standoff": 15
           },
           "zerolinecolor": "white",
           "zerolinewidth": 2
          },
          "yaxis": {
           "automargin": true,
           "gridcolor": "white",
           "linecolor": "white",
           "ticks": "",
           "title": {
            "standoff": 15
           },
           "zerolinecolor": "white",
           "zerolinewidth": 2
          }
         }
        },
        "title": {
         "text": "Top 5 end station"
        },
        "xaxis": {
         "anchor": "y",
         "domain": [
          0,
          0.16799999999999998
         ]
        },
        "xaxis2": {
         "anchor": "y2",
         "domain": [
          0.208,
          0.376
         ]
        },
        "xaxis3": {
         "anchor": "y3",
         "domain": [
          0.416,
          0.584
         ]
        },
        "xaxis4": {
         "anchor": "y4",
         "domain": [
          0.624,
          0.792
         ]
        },
        "xaxis5": {
         "anchor": "y5",
         "domain": [
          0.832,
          1
         ]
        },
        "yaxis": {
         "anchor": "x",
         "domain": [
          0,
          1
         ]
        },
        "yaxis2": {
         "anchor": "x2",
         "domain": [
          0,
          1
         ]
        },
        "yaxis3": {
         "anchor": "x3",
         "domain": [
          0,
          1
         ]
        },
        "yaxis4": {
         "anchor": "x4",
         "domain": [
          0,
          1
         ]
        },
        "yaxis5": {
         "anchor": "x5",
         "domain": [
          0,
          1
         ]
        }
       }
      },
      "text/html": [
       "<div>                            <div id=\"67b93f18-37c4-4170-b228-8a2aa8c6eabb\" class=\"plotly-graph-div\" style=\"height:525px; width:100%;\"></div>            <script type=\"text/javascript\">                require([\"plotly\"], function(Plotly) {                    window.PLOTLYENV=window.PLOTLYENV || {};                                    if (document.getElementById(\"67b93f18-37c4-4170-b228-8a2aa8c6eabb\")) {                    Plotly.newPlot(                        \"67b93f18-37c4-4170-b228-8a2aa8c6eabb\",                        [{\"type\": \"bar\", \"x\": [\"W 41 St & 8 Ave\", \"1 Ave & E 16 St\", \"E 14 St & Avenue B\", \"E 15 St & 3 Ave\", \"W 26 St & 8 Ave\", \"E 7 St & Avenue A\", \"Cooper Square & E 7 St\", \"E 25 St & 2 Ave\", \"Forsyth St & Broome St\", \"E 20 St & FDR Drive\"], \"xaxis\": \"x\", \"y\": [111, 101, 86, 79, 75, 74, 73, 73, 71, 70], \"yaxis\": \"y\"}, {\"type\": \"bar\", \"x\": [\"W 52 St & 5 Ave\", \"E 47 St & Park Ave\", \"Pershing Square North\", \"Broadway & E 22 St\", \"E 17 St & Broadway\", \"W 21 St & 6 Ave\", \"Broadway & W 49 St\", \"W 20 St & 11 Ave\", \"E 33 St & 2 Ave\", \"Pershing Square South\"], \"xaxis\": \"x2\", \"y\": [3184, 2563, 2498, 2317, 1655, 1358, 1321, 1282, 1269, 1263], \"yaxis\": \"y2\"}, {\"type\": \"bar\", \"x\": [\"E 17 St & Broadway\", \"Broadway & E 22 St\", \"W 21 St & 6 Ave\", \"Cleveland Pl & Spring St\", \"Carmine St & 6 Ave\", \"Pershing Square North\", \"Broadway & E 14 St\", \"Greenwich Ave & 8 Ave\", \"Cooper Square & E 7 St\", \"W 18 St & 6 Ave\"], \"xaxis\": \"x3\", \"y\": [1330, 1248, 1193, 893, 874, 874, 871, 851, 832, 826], \"yaxis\": \"y3\"}, {\"type\": \"bar\", \"x\": [\"W 33 St & 7 Ave\", \"Pershing Square North\", \"8 Ave & W 33 St\", \"8 Ave & W 31 St\", \"W 41 St & 8 Ave\", \"E 17 St & Broadway\", \"W 31 St & 7 Ave\", \"W 38 St & 8 Ave\", \"W 21 St & 6 Ave\", \"Broadway & E 22 St\"], \"xaxis\": \"x4\", \"y\": [3835, 3434, 1945, 1871, 1868, 1673, 1597, 1576, 1572, 1223], \"yaxis\": \"y4\"}, {\"type\": \"bar\", \"x\": [\"Pershing Square North\", \"E 7 St & Avenue A\", \"1 Ave & E 16 St\", \"E 14 St & Avenue B\", \"W 41 St & 8 Ave\", \"W 33 St & 7 Ave\", \"W 21 St & 6 Ave\", \"E 17 St & Broadway\", \"E 15 St & 3 Ave\", \"E 11 St & 2 Ave\"], \"xaxis\": \"x5\", \"y\": [2123, 1693, 1259, 1240, 1219, 1211, 1190, 1179, 1176, 1155], \"yaxis\": \"y5\"}],                        {\"annotations\": [{\"font\": {\"size\": 16}, \"showarrow\": false, \"text\": \"early morning\", \"x\": 0.08399999999999999, \"xanchor\": \"center\", \"xref\": \"paper\", \"y\": 1.0, \"yanchor\": \"bottom\", \"yref\": \"paper\"}, {\"font\": {\"size\": 16}, \"showarrow\": false, \"text\": \"morning\", \"x\": 0.292, \"xanchor\": \"center\", \"xref\": \"paper\", \"y\": 1.0, \"yanchor\": \"bottom\", \"yref\": \"paper\"}, {\"font\": {\"size\": 16}, \"showarrow\": false, \"text\": \"noon\", \"x\": 0.5, \"xanchor\": \"center\", \"xref\": \"paper\", \"y\": 1.0, \"yanchor\": \"bottom\", \"yref\": \"paper\"}, {\"font\": {\"size\": 16}, \"showarrow\": false, \"text\": \"afternoon\", \"x\": 0.708, \"xanchor\": \"center\", \"xref\": \"paper\", \"y\": 1.0, \"yanchor\": \"bottom\", \"yref\": \"paper\"}, {\"font\": {\"size\": 16}, \"showarrow\": false, \"text\": \"evening\", \"x\": 0.9159999999999999, \"xanchor\": \"center\", \"xref\": \"paper\", \"y\": 1.0, \"yanchor\": \"bottom\", \"yref\": \"paper\"}], \"template\": {\"data\": {\"bar\": [{\"error_x\": {\"color\": \"#2a3f5f\"}, \"error_y\": {\"color\": \"#2a3f5f\"}, \"marker\": {\"line\": {\"color\": \"#E5ECF6\", \"width\": 0.5}}, \"type\": \"bar\"}], \"barpolar\": [{\"marker\": {\"line\": {\"color\": \"#E5ECF6\", \"width\": 0.5}}, \"type\": \"barpolar\"}], \"carpet\": [{\"aaxis\": {\"endlinecolor\": \"#2a3f5f\", \"gridcolor\": \"white\", \"linecolor\": \"white\", \"minorgridcolor\": \"white\", \"startlinecolor\": \"#2a3f5f\"}, \"baxis\": {\"endlinecolor\": \"#2a3f5f\", \"gridcolor\": \"white\", \"linecolor\": \"white\", \"minorgridcolor\": \"white\", \"startlinecolor\": \"#2a3f5f\"}, \"type\": \"carpet\"}], \"choropleth\": [{\"colorbar\": {\"outlinewidth\": 0, \"ticks\": \"\"}, \"type\": \"choropleth\"}], \"contour\": [{\"colorbar\": {\"outlinewidth\": 0, \"ticks\": \"\"}, \"colorscale\": [[0.0, \"#0d0887\"], [0.1111111111111111, \"#46039f\"], [0.2222222222222222, \"#7201a8\"], [0.3333333333333333, \"#9c179e\"], [0.4444444444444444, \"#bd3786\"], [0.5555555555555556, \"#d8576b\"], [0.6666666666666666, \"#ed7953\"], [0.7777777777777778, \"#fb9f3a\"], [0.8888888888888888, \"#fdca26\"], [1.0, \"#f0f921\"]], \"type\": \"contour\"}], \"contourcarpet\": [{\"colorbar\": {\"outlinewidth\": 0, \"ticks\": \"\"}, \"type\": \"contourcarpet\"}], \"heatmap\": [{\"colorbar\": {\"outlinewidth\": 0, \"ticks\": \"\"}, \"colorscale\": [[0.0, \"#0d0887\"], [0.1111111111111111, \"#46039f\"], [0.2222222222222222, \"#7201a8\"], [0.3333333333333333, \"#9c179e\"], [0.4444444444444444, \"#bd3786\"], [0.5555555555555556, \"#d8576b\"], [0.6666666666666666, \"#ed7953\"], [0.7777777777777778, \"#fb9f3a\"], [0.8888888888888888, \"#fdca26\"], [1.0, \"#f0f921\"]], \"type\": \"heatmap\"}], \"heatmapgl\": [{\"colorbar\": {\"outlinewidth\": 0, \"ticks\": \"\"}, \"colorscale\": [[0.0, \"#0d0887\"], [0.1111111111111111, \"#46039f\"], [0.2222222222222222, \"#7201a8\"], [0.3333333333333333, \"#9c179e\"], [0.4444444444444444, \"#bd3786\"], [0.5555555555555556, \"#d8576b\"], [0.6666666666666666, \"#ed7953\"], [0.7777777777777778, \"#fb9f3a\"], [0.8888888888888888, \"#fdca26\"], [1.0, \"#f0f921\"]], \"type\": \"heatmapgl\"}], \"histogram\": [{\"marker\": {\"colorbar\": {\"outlinewidth\": 0, \"ticks\": \"\"}}, \"type\": \"histogram\"}], \"histogram2d\": [{\"colorbar\": {\"outlinewidth\": 0, \"ticks\": \"\"}, \"colorscale\": [[0.0, \"#0d0887\"], [0.1111111111111111, \"#46039f\"], [0.2222222222222222, \"#7201a8\"], [0.3333333333333333, \"#9c179e\"], [0.4444444444444444, \"#bd3786\"], [0.5555555555555556, \"#d8576b\"], [0.6666666666666666, \"#ed7953\"], [0.7777777777777778, \"#fb9f3a\"], [0.8888888888888888, \"#fdca26\"], [1.0, \"#f0f921\"]], \"type\": \"histogram2d\"}], \"histogram2dcontour\": [{\"colorbar\": {\"outlinewidth\": 0, \"ticks\": \"\"}, \"colorscale\": [[0.0, \"#0d0887\"], [0.1111111111111111, \"#46039f\"], [0.2222222222222222, \"#7201a8\"], [0.3333333333333333, \"#9c179e\"], [0.4444444444444444, \"#bd3786\"], [0.5555555555555556, \"#d8576b\"], [0.6666666666666666, \"#ed7953\"], [0.7777777777777778, \"#fb9f3a\"], [0.8888888888888888, \"#fdca26\"], [1.0, \"#f0f921\"]], \"type\": \"histogram2dcontour\"}], \"mesh3d\": [{\"colorbar\": {\"outlinewidth\": 0, \"ticks\": \"\"}, \"type\": \"mesh3d\"}], \"parcoords\": [{\"line\": {\"colorbar\": {\"outlinewidth\": 0, \"ticks\": \"\"}}, \"type\": \"parcoords\"}], \"pie\": [{\"automargin\": true, \"type\": \"pie\"}], \"scatter\": [{\"marker\": {\"colorbar\": {\"outlinewidth\": 0, \"ticks\": \"\"}}, \"type\": \"scatter\"}], \"scatter3d\": [{\"line\": {\"colorbar\": {\"outlinewidth\": 0, \"ticks\": \"\"}}, \"marker\": {\"colorbar\": {\"outlinewidth\": 0, \"ticks\": \"\"}}, \"type\": \"scatter3d\"}], \"scattercarpet\": [{\"marker\": {\"colorbar\": {\"outlinewidth\": 0, \"ticks\": \"\"}}, \"type\": \"scattercarpet\"}], \"scattergeo\": [{\"marker\": {\"colorbar\": {\"outlinewidth\": 0, \"ticks\": \"\"}}, \"type\": \"scattergeo\"}], \"scattergl\": [{\"marker\": {\"colorbar\": {\"outlinewidth\": 0, \"ticks\": \"\"}}, \"type\": \"scattergl\"}], \"scattermapbox\": [{\"marker\": {\"colorbar\": {\"outlinewidth\": 0, \"ticks\": \"\"}}, \"type\": \"scattermapbox\"}], \"scatterpolar\": [{\"marker\": {\"colorbar\": {\"outlinewidth\": 0, \"ticks\": \"\"}}, \"type\": \"scatterpolar\"}], \"scatterpolargl\": [{\"marker\": {\"colorbar\": {\"outlinewidth\": 0, \"ticks\": \"\"}}, \"type\": \"scatterpolargl\"}], \"scatterternary\": [{\"marker\": {\"colorbar\": {\"outlinewidth\": 0, \"ticks\": \"\"}}, \"type\": \"scatterternary\"}], \"surface\": [{\"colorbar\": {\"outlinewidth\": 0, \"ticks\": \"\"}, \"colorscale\": [[0.0, \"#0d0887\"], [0.1111111111111111, \"#46039f\"], [0.2222222222222222, \"#7201a8\"], [0.3333333333333333, \"#9c179e\"], [0.4444444444444444, \"#bd3786\"], [0.5555555555555556, \"#d8576b\"], [0.6666666666666666, \"#ed7953\"], [0.7777777777777778, \"#fb9f3a\"], [0.8888888888888888, \"#fdca26\"], [1.0, \"#f0f921\"]], \"type\": \"surface\"}], \"table\": [{\"cells\": {\"fill\": {\"color\": \"#EBF0F8\"}, \"line\": {\"color\": \"white\"}}, \"header\": {\"fill\": {\"color\": \"#C8D4E3\"}, \"line\": {\"color\": \"white\"}}, \"type\": \"table\"}]}, \"layout\": {\"annotationdefaults\": {\"arrowcolor\": \"#2a3f5f\", \"arrowhead\": 0, \"arrowwidth\": 1}, \"coloraxis\": {\"colorbar\": {\"outlinewidth\": 0, \"ticks\": \"\"}}, \"colorscale\": {\"diverging\": [[0, \"#8e0152\"], [0.1, \"#c51b7d\"], [0.2, \"#de77ae\"], [0.3, \"#f1b6da\"], [0.4, \"#fde0ef\"], [0.5, \"#f7f7f7\"], [0.6, \"#e6f5d0\"], [0.7, \"#b8e186\"], [0.8, \"#7fbc41\"], [0.9, \"#4d9221\"], [1, \"#276419\"]], \"sequential\": [[0.0, \"#0d0887\"], [0.1111111111111111, \"#46039f\"], [0.2222222222222222, \"#7201a8\"], [0.3333333333333333, \"#9c179e\"], [0.4444444444444444, \"#bd3786\"], [0.5555555555555556, \"#d8576b\"], [0.6666666666666666, \"#ed7953\"], [0.7777777777777778, \"#fb9f3a\"], [0.8888888888888888, \"#fdca26\"], [1.0, \"#f0f921\"]], \"sequentialminus\": [[0.0, \"#0d0887\"], [0.1111111111111111, \"#46039f\"], [0.2222222222222222, \"#7201a8\"], [0.3333333333333333, \"#9c179e\"], [0.4444444444444444, \"#bd3786\"], [0.5555555555555556, \"#d8576b\"], [0.6666666666666666, \"#ed7953\"], [0.7777777777777778, \"#fb9f3a\"], [0.8888888888888888, \"#fdca26\"], [1.0, \"#f0f921\"]]}, \"colorway\": [\"#636efa\", \"#EF553B\", \"#00cc96\", \"#ab63fa\", \"#FFA15A\", \"#19d3f3\", \"#FF6692\", \"#B6E880\", \"#FF97FF\", \"#FECB52\"], \"font\": {\"color\": \"#2a3f5f\"}, \"geo\": {\"bgcolor\": \"white\", \"lakecolor\": \"white\", \"landcolor\": \"#E5ECF6\", \"showlakes\": true, \"showland\": true, \"subunitcolor\": \"white\"}, \"hoverlabel\": {\"align\": \"left\"}, \"hovermode\": \"closest\", \"mapbox\": {\"style\": \"light\"}, \"paper_bgcolor\": \"white\", \"plot_bgcolor\": \"#E5ECF6\", \"polar\": {\"angularaxis\": {\"gridcolor\": \"white\", \"linecolor\": \"white\", \"ticks\": \"\"}, \"bgcolor\": \"#E5ECF6\", \"radialaxis\": {\"gridcolor\": \"white\", \"linecolor\": \"white\", \"ticks\": \"\"}}, \"scene\": {\"xaxis\": {\"backgroundcolor\": \"#E5ECF6\", \"gridcolor\": \"white\", \"gridwidth\": 2, \"linecolor\": \"white\", \"showbackground\": true, \"ticks\": \"\", \"zerolinecolor\": \"white\"}, \"yaxis\": {\"backgroundcolor\": \"#E5ECF6\", \"gridcolor\": \"white\", \"gridwidth\": 2, \"linecolor\": \"white\", \"showbackground\": true, \"ticks\": \"\", \"zerolinecolor\": \"white\"}, \"zaxis\": {\"backgroundcolor\": \"#E5ECF6\", \"gridcolor\": \"white\", \"gridwidth\": 2, \"linecolor\": \"white\", \"showbackground\": true, \"ticks\": \"\", \"zerolinecolor\": \"white\"}}, \"shapedefaults\": {\"line\": {\"color\": \"#2a3f5f\"}}, \"ternary\": {\"aaxis\": {\"gridcolor\": \"white\", \"linecolor\": \"white\", \"ticks\": \"\"}, \"baxis\": {\"gridcolor\": \"white\", \"linecolor\": \"white\", \"ticks\": \"\"}, \"bgcolor\": \"#E5ECF6\", \"caxis\": {\"gridcolor\": \"white\", \"linecolor\": \"white\", \"ticks\": \"\"}}, \"title\": {\"x\": 0.05}, \"xaxis\": {\"automargin\": true, \"gridcolor\": \"white\", \"linecolor\": \"white\", \"ticks\": \"\", \"title\": {\"standoff\": 15}, \"zerolinecolor\": \"white\", \"zerolinewidth\": 2}, \"yaxis\": {\"automargin\": true, \"gridcolor\": \"white\", \"linecolor\": \"white\", \"ticks\": \"\", \"title\": {\"standoff\": 15}, \"zerolinecolor\": \"white\", \"zerolinewidth\": 2}}}, \"title\": {\"text\": \"Top 5 end station\"}, \"xaxis\": {\"anchor\": \"y\", \"domain\": [0.0, 0.16799999999999998]}, \"xaxis2\": {\"anchor\": \"y2\", \"domain\": [0.208, 0.376]}, \"xaxis3\": {\"anchor\": \"y3\", \"domain\": [0.416, 0.584]}, \"xaxis4\": {\"anchor\": \"y4\", \"domain\": [0.624, 0.792]}, \"xaxis5\": {\"anchor\": \"y5\", \"domain\": [0.832, 1.0]}, \"yaxis\": {\"anchor\": \"x\", \"domain\": [0.0, 1.0]}, \"yaxis2\": {\"anchor\": \"x2\", \"domain\": [0.0, 1.0]}, \"yaxis3\": {\"anchor\": \"x3\", \"domain\": [0.0, 1.0]}, \"yaxis4\": {\"anchor\": \"x4\", \"domain\": [0.0, 1.0]}, \"yaxis5\": {\"anchor\": \"x5\", \"domain\": [0.0, 1.0]}},                        {\"responsive\": true}                    ).then(function(){\n",
       "                            \n",
       "var gd = document.getElementById('67b93f18-37c4-4170-b228-8a2aa8c6eabb');\n",
       "var x = new MutationObserver(function (mutations, observer) {{\n",
       "        var display = window.getComputedStyle(gd).display;\n",
       "        if (!display || display === 'none') {{\n",
       "            console.log([gd, 'removed!']);\n",
       "            Plotly.purge(gd);\n",
       "            observer.disconnect();\n",
       "        }}\n",
       "}});\n",
       "\n",
       "// Listen for the removal of the full notebook cells\n",
       "var notebookContainer = gd.closest('#notebook-container');\n",
       "if (notebookContainer) {{\n",
       "    x.observe(notebookContainer, {childList: true});\n",
       "}}\n",
       "\n",
       "// Listen for the clearing of the current output cell\n",
       "var outputEl = gd.closest('.output');\n",
       "if (outputEl) {{\n",
       "    x.observe(outputEl, {childList: true});\n",
       "}}\n",
       "\n",
       "                        })                };                });            </script>        </div>"
      ]
     },
     "metadata": {},
     "output_type": "display_data"
    }
   ],
   "source": [
    "fig2 = tools.make_subplots(rows=1, cols=5, subplot_titles=day_parts)\n",
    "for idx, daypart in enumerate(day_parts):\n",
    "    df_start_top10 = df_station_end[df_station_end['part_of_day'] == daypart].sort_values(['age'], ascending=False).head(10)\n",
    "    trace = go.Bar(\n",
    "            x=df_start_top10.name,\n",
    "            y=df_start_top10.age\n",
    "    )\n",
    "    fig2.append_trace(trace, 1, idx + 1)\n",
    "\n",
    "fig2['layout'].update(title='Top 5 end station')\n",
    "\n",
    "iplot(fig2)"
   ]
  },
  {
   "cell_type": "code",
   "execution_count": 377,
   "metadata": {},
   "outputs": [],
   "source": [
    "#df.index = df['Start Time']\n",
    "#countsPerDay = df['Start Time'].resample('D', how = ['count'])\n",
    "\n",
    "df.index = df['Start Time'] # Set 'starttime' variable as the index\n",
    "#countsPerDay = df['Start Time'].resample('D', how = ['count'])\n",
    "countsPerDay = df['Start Time'].resample('D').count()"
   ]
  },
  {
   "cell_type": "code",
   "execution_count": 378,
   "metadata": {},
   "outputs": [
    {
     "data": {
      "text/plain": [
       "array([40401, 35517, 30927, 15498, 15760, 32344, 29574, 43172, 44866,\n",
       "       18351, 15060, 13357, 27303,     0,     0,     0,  7029,  4073,\n",
       "       10397, 27269, 36611, 26806, 29716, 33824, 28948, 19603, 26166,\n",
       "       21493, 42157, 39375,  6932])"
      ]
     },
     "execution_count": 378,
     "metadata": {},
     "output_type": "execute_result"
    }
   ],
   "source": [
    "countsPerDay.values\n",
    "#countsPerDay.head()"
   ]
  },
  {
   "cell_type": "code",
   "execution_count": 379,
   "metadata": {},
   "outputs": [
    {
     "data": {
      "text/plain": [
       "31"
      ]
     },
     "execution_count": 379,
     "metadata": {},
     "output_type": "execute_result"
    }
   ],
   "source": [
    "ndim = countsPerDay.shape[0]\n",
    "ndim"
   ]
  },
  {
   "cell_type": "code",
   "execution_count": 380,
   "metadata": {},
   "outputs": [
    {
     "name": "stdout",
     "output_type": "stream",
     "text": [
      "1.0 0.0\n",
      "count= 40401\n",
      "2.0 0.12\n",
      "count= 35517\n",
      "3.0 0.0\n",
      "count= 30927\n",
      "4.0 0.0\n",
      "count= 15498\n",
      "5.0 0.0\n",
      "count= 15760\n",
      "6.0 0.0\n",
      "count= 32344\n",
      "7.0 0.0\n",
      "count= 29574\n",
      "8.0 0.16\n",
      "count= 43172\n",
      "9.0 0.0\n",
      "count= 44866\n",
      "10.0 0.0\n",
      "count= 18351\n",
      "11.0 0.24\n",
      "count= 15060\n",
      "12.0 0.0\n",
      "count= 13357\n",
      "13.0 0.0\n",
      "count= 27303\n",
      "14.0 0.32\n",
      "count= 0\n",
      "15.0 0.71\n",
      "count= 0\n",
      "16.0 0.0\n",
      "count= 0\n",
      "17.0 0.0\n",
      "count= 7029\n",
      "18.0 0.0\n",
      "count= 4073\n",
      "19.0 0.07\n",
      "count= 10397\n",
      "20.0 0.0\n",
      "count= 27269\n",
      "21.0 0.0\n",
      "count= 36611\n",
      "22.0 0.0\n",
      "count= 26806\n",
      "23.0 0.0\n",
      "count= 29716\n",
      "24.0 0.0\n",
      "count= 33824\n",
      "25.0 0.0\n",
      "count= 28948\n",
      "26.0 0.1\n",
      "count= 19603\n",
      "27.0 0.02\n",
      "count= 26166\n",
      "28.0 0.42\n",
      "count= 21493\n",
      "29.0 0.43\n",
      "count= 42157\n",
      "30.0 0.0\n",
      "count= 39375\n",
      "31.0 0.33\n",
      "count= 6932\n"
     ]
    }
   ],
   "source": [
    "# Now add count\n",
    "weatherDf['count'] = 0\n",
    "ndim = countsPerDay.shape[0]\n",
    "for index,row in weatherDf.iterrows():\n",
    "    #print('colNum=', i)\n",
    "    #print('val=', df2.iloc[: , idx].values)\n",
    "    #print('day=',j['Day'])\n",
    "    \n",
    "    print(row['Day'], row['P'])\n",
    "    #row['count'] = countsPerDay['count'].values[index]\n",
    "    if index < ndim:\n",
    "        print('count=', countsPerDay.values[index])\n",
    "       # df['count'][index] = countsPerDay['count'].values[index]\n",
    "        weatherDf.loc[index,'count'] = countsPerDay.values[index]"
   ]
  },
  {
   "cell_type": "code",
   "execution_count": 381,
   "metadata": {},
   "outputs": [
    {
     "data": {
      "text/html": [
       "<div>\n",
       "<style scoped>\n",
       "    .dataframe tbody tr th:only-of-type {\n",
       "        vertical-align: middle;\n",
       "    }\n",
       "\n",
       "    .dataframe tbody tr th {\n",
       "        vertical-align: top;\n",
       "    }\n",
       "\n",
       "    .dataframe thead th {\n",
       "        text-align: right;\n",
       "    }\n",
       "</style>\n",
       "<table border=\"1\" class=\"dataframe\">\n",
       "  <thead>\n",
       "    <tr style=\"text-align: right;\">\n",
       "      <th></th>\n",
       "      <th>Day</th>\n",
       "      <th>AvgTemp</th>\n",
       "      <th>AvgDP</th>\n",
       "      <th>AvgH</th>\n",
       "      <th>AvgW</th>\n",
       "      <th>AvgP</th>\n",
       "      <th>P</th>\n",
       "      <th>count</th>\n",
       "    </tr>\n",
       "  </thead>\n",
       "  <tbody>\n",
       "    <tr>\n",
       "      <th>0</th>\n",
       "      <td>1</td>\n",
       "      <td>59.2</td>\n",
       "      <td>53.1</td>\n",
       "      <td>81.3</td>\n",
       "      <td>8.0</td>\n",
       "      <td>29.7</td>\n",
       "      <td>0.00</td>\n",
       "      <td>40401</td>\n",
       "    </tr>\n",
       "    <tr>\n",
       "      <th>1</th>\n",
       "      <td>2</td>\n",
       "      <td>48.0</td>\n",
       "      <td>23.3</td>\n",
       "      <td>38.7</td>\n",
       "      <td>10.7</td>\n",
       "      <td>29.8</td>\n",
       "      <td>0.12</td>\n",
       "      <td>35517</td>\n",
       "    </tr>\n",
       "    <tr>\n",
       "      <th>2</th>\n",
       "      <td>3</td>\n",
       "      <td>34.9</td>\n",
       "      <td>12.8</td>\n",
       "      <td>41.1</td>\n",
       "      <td>6.4</td>\n",
       "      <td>30.3</td>\n",
       "      <td>0.00</td>\n",
       "      <td>30927</td>\n",
       "    </tr>\n",
       "    <tr>\n",
       "      <th>3</th>\n",
       "      <td>4</td>\n",
       "      <td>26.7</td>\n",
       "      <td>6.2</td>\n",
       "      <td>42.8</td>\n",
       "      <td>5.5</td>\n",
       "      <td>30.5</td>\n",
       "      <td>0.00</td>\n",
       "      <td>15498</td>\n",
       "    </tr>\n",
       "    <tr>\n",
       "      <th>4</th>\n",
       "      <td>5</td>\n",
       "      <td>28.6</td>\n",
       "      <td>1.2</td>\n",
       "      <td>33.3</td>\n",
       "      <td>4.3</td>\n",
       "      <td>30.6</td>\n",
       "      <td>0.00</td>\n",
       "      <td>15760</td>\n",
       "    </tr>\n",
       "    <tr>\n",
       "      <th>5</th>\n",
       "      <td>6</td>\n",
       "      <td>36.9</td>\n",
       "      <td>17.7</td>\n",
       "      <td>47.0</td>\n",
       "      <td>5.3</td>\n",
       "      <td>30.5</td>\n",
       "      <td>0.00</td>\n",
       "      <td>32344</td>\n",
       "    </tr>\n",
       "    <tr>\n",
       "      <th>6</th>\n",
       "      <td>7</td>\n",
       "      <td>47.5</td>\n",
       "      <td>41.7</td>\n",
       "      <td>80.5</td>\n",
       "      <td>4.3</td>\n",
       "      <td>30.2</td>\n",
       "      <td>0.00</td>\n",
       "      <td>29574</td>\n",
       "    </tr>\n",
       "    <tr>\n",
       "      <th>7</th>\n",
       "      <td>8</td>\n",
       "      <td>54.7</td>\n",
       "      <td>34.0</td>\n",
       "      <td>49.6</td>\n",
       "      <td>11.5</td>\n",
       "      <td>29.9</td>\n",
       "      <td>0.16</td>\n",
       "      <td>43172</td>\n",
       "    </tr>\n",
       "    <tr>\n",
       "      <th>8</th>\n",
       "      <td>9</td>\n",
       "      <td>55.2</td>\n",
       "      <td>22.6</td>\n",
       "      <td>29.2</td>\n",
       "      <td>10.2</td>\n",
       "      <td>29.9</td>\n",
       "      <td>0.00</td>\n",
       "      <td>44866</td>\n",
       "    </tr>\n",
       "    <tr>\n",
       "      <th>9</th>\n",
       "      <td>10</td>\n",
       "      <td>37.4</td>\n",
       "      <td>25.8</td>\n",
       "      <td>66.1</td>\n",
       "      <td>7.6</td>\n",
       "      <td>29.9</td>\n",
       "      <td>0.00</td>\n",
       "      <td>18351</td>\n",
       "    </tr>\n",
       "    <tr>\n",
       "      <th>10</th>\n",
       "      <td>11</td>\n",
       "      <td>26.2</td>\n",
       "      <td>9.7</td>\n",
       "      <td>50.0</td>\n",
       "      <td>5.8</td>\n",
       "      <td>30.2</td>\n",
       "      <td>0.24</td>\n",
       "      <td>15060</td>\n",
       "    </tr>\n",
       "    <tr>\n",
       "      <th>11</th>\n",
       "      <td>12</td>\n",
       "      <td>27.7</td>\n",
       "      <td>9.4</td>\n",
       "      <td>46.7</td>\n",
       "      <td>4.9</td>\n",
       "      <td>30.3</td>\n",
       "      <td>0.00</td>\n",
       "      <td>13357</td>\n",
       "    </tr>\n",
       "    <tr>\n",
       "      <th>12</th>\n",
       "      <td>13</td>\n",
       "      <td>30.1</td>\n",
       "      <td>11.8</td>\n",
       "      <td>48.3</td>\n",
       "      <td>6.2</td>\n",
       "      <td>30.4</td>\n",
       "      <td>0.00</td>\n",
       "      <td>27303</td>\n",
       "    </tr>\n",
       "    <tr>\n",
       "      <th>13</th>\n",
       "      <td>14</td>\n",
       "      <td>30.8</td>\n",
       "      <td>27.5</td>\n",
       "      <td>88.1</td>\n",
       "      <td>14.1</td>\n",
       "      <td>29.6</td>\n",
       "      <td>0.32</td>\n",
       "      <td>0</td>\n",
       "    </tr>\n",
       "    <tr>\n",
       "      <th>14</th>\n",
       "      <td>15</td>\n",
       "      <td>25.9</td>\n",
       "      <td>15.7</td>\n",
       "      <td>65.3</td>\n",
       "      <td>8.3</td>\n",
       "      <td>29.6</td>\n",
       "      <td>0.71</td>\n",
       "      <td>0</td>\n",
       "    </tr>\n",
       "    <tr>\n",
       "      <th>15</th>\n",
       "      <td>16</td>\n",
       "      <td>33.3</td>\n",
       "      <td>15.0</td>\n",
       "      <td>49.3</td>\n",
       "      <td>8.7</td>\n",
       "      <td>30.0</td>\n",
       "      <td>0.00</td>\n",
       "      <td>0</td>\n",
       "    </tr>\n",
       "    <tr>\n",
       "      <th>16</th>\n",
       "      <td>17</td>\n",
       "      <td>38.1</td>\n",
       "      <td>19.1</td>\n",
       "      <td>47.5</td>\n",
       "      <td>8.1</td>\n",
       "      <td>30.2</td>\n",
       "      <td>0.00</td>\n",
       "      <td>7029</td>\n",
       "    </tr>\n",
       "    <tr>\n",
       "      <th>17</th>\n",
       "      <td>18</td>\n",
       "      <td>36.8</td>\n",
       "      <td>27.7</td>\n",
       "      <td>70.9</td>\n",
       "      <td>12.2</td>\n",
       "      <td>30.2</td>\n",
       "      <td>0.00</td>\n",
       "      <td>4073</td>\n",
       "    </tr>\n",
       "    <tr>\n",
       "      <th>18</th>\n",
       "      <td>19</td>\n",
       "      <td>41.9</td>\n",
       "      <td>24.3</td>\n",
       "      <td>52.2</td>\n",
       "      <td>9.8</td>\n",
       "      <td>30.2</td>\n",
       "      <td>0.07</td>\n",
       "      <td>10397</td>\n",
       "    </tr>\n",
       "    <tr>\n",
       "      <th>19</th>\n",
       "      <td>20</td>\n",
       "      <td>44.4</td>\n",
       "      <td>19.1</td>\n",
       "      <td>38.2</td>\n",
       "      <td>5.2</td>\n",
       "      <td>30.1</td>\n",
       "      <td>0.00</td>\n",
       "      <td>27269</td>\n",
       "    </tr>\n",
       "    <tr>\n",
       "      <th>20</th>\n",
       "      <td>21</td>\n",
       "      <td>50.4</td>\n",
       "      <td>29.0</td>\n",
       "      <td>44.5</td>\n",
       "      <td>5.6</td>\n",
       "      <td>29.9</td>\n",
       "      <td>0.00</td>\n",
       "      <td>36611</td>\n",
       "    </tr>\n",
       "    <tr>\n",
       "      <th>21</th>\n",
       "      <td>22</td>\n",
       "      <td>38.4</td>\n",
       "      <td>12.2</td>\n",
       "      <td>34.7</td>\n",
       "      <td>4.8</td>\n",
       "      <td>30.1</td>\n",
       "      <td>0.00</td>\n",
       "      <td>26806</td>\n",
       "    </tr>\n",
       "    <tr>\n",
       "      <th>22</th>\n",
       "      <td>23</td>\n",
       "      <td>35.0</td>\n",
       "      <td>9.2</td>\n",
       "      <td>37.9</td>\n",
       "      <td>6.4</td>\n",
       "      <td>30.5</td>\n",
       "      <td>0.00</td>\n",
       "      <td>29716</td>\n",
       "    </tr>\n",
       "    <tr>\n",
       "      <th>23</th>\n",
       "      <td>24</td>\n",
       "      <td>44.8</td>\n",
       "      <td>28.6</td>\n",
       "      <td>53.9</td>\n",
       "      <td>9.0</td>\n",
       "      <td>30.3</td>\n",
       "      <td>0.00</td>\n",
       "      <td>33824</td>\n",
       "    </tr>\n",
       "    <tr>\n",
       "      <th>24</th>\n",
       "      <td>25</td>\n",
       "      <td>50.7</td>\n",
       "      <td>38.3</td>\n",
       "      <td>63.4</td>\n",
       "      <td>7.8</td>\n",
       "      <td>30.2</td>\n",
       "      <td>0.00</td>\n",
       "      <td>28948</td>\n",
       "    </tr>\n",
       "    <tr>\n",
       "      <th>25</th>\n",
       "      <td>26</td>\n",
       "      <td>41.1</td>\n",
       "      <td>35.3</td>\n",
       "      <td>79.8</td>\n",
       "      <td>12.9</td>\n",
       "      <td>30.4</td>\n",
       "      <td>0.10</td>\n",
       "      <td>19603</td>\n",
       "    </tr>\n",
       "    <tr>\n",
       "      <th>26</th>\n",
       "      <td>27</td>\n",
       "      <td>44.7</td>\n",
       "      <td>41.8</td>\n",
       "      <td>89.7</td>\n",
       "      <td>7.0</td>\n",
       "      <td>30.1</td>\n",
       "      <td>0.02</td>\n",
       "      <td>26166</td>\n",
       "    </tr>\n",
       "    <tr>\n",
       "      <th>27</th>\n",
       "      <td>28</td>\n",
       "      <td>44.4</td>\n",
       "      <td>42.5</td>\n",
       "      <td>93.1</td>\n",
       "      <td>9.9</td>\n",
       "      <td>29.9</td>\n",
       "      <td>0.42</td>\n",
       "      <td>21493</td>\n",
       "    </tr>\n",
       "    <tr>\n",
       "      <th>28</th>\n",
       "      <td>29</td>\n",
       "      <td>50.3</td>\n",
       "      <td>34.9</td>\n",
       "      <td>60.1</td>\n",
       "      <td>4.7</td>\n",
       "      <td>30.1</td>\n",
       "      <td>0.43</td>\n",
       "      <td>42157</td>\n",
       "    </tr>\n",
       "    <tr>\n",
       "      <th>29</th>\n",
       "      <td>30</td>\n",
       "      <td>44.5</td>\n",
       "      <td>27.0</td>\n",
       "      <td>51.0</td>\n",
       "      <td>6.9</td>\n",
       "      <td>30.2</td>\n",
       "      <td>0.00</td>\n",
       "      <td>39375</td>\n",
       "    </tr>\n",
       "    <tr>\n",
       "      <th>30</th>\n",
       "      <td>31</td>\n",
       "      <td>40.4</td>\n",
       "      <td>37.8</td>\n",
       "      <td>91.0</td>\n",
       "      <td>14.9</td>\n",
       "      <td>30.0</td>\n",
       "      <td>0.33</td>\n",
       "      <td>6932</td>\n",
       "    </tr>\n",
       "  </tbody>\n",
       "</table>\n",
       "</div>"
      ],
      "text/plain": [
       "    Day  AvgTemp  AvgDP  AvgH  AvgW  AvgP     P  count\n",
       "0     1     59.2   53.1  81.3   8.0  29.7  0.00  40401\n",
       "1     2     48.0   23.3  38.7  10.7  29.8  0.12  35517\n",
       "2     3     34.9   12.8  41.1   6.4  30.3  0.00  30927\n",
       "3     4     26.7    6.2  42.8   5.5  30.5  0.00  15498\n",
       "4     5     28.6    1.2  33.3   4.3  30.6  0.00  15760\n",
       "5     6     36.9   17.7  47.0   5.3  30.5  0.00  32344\n",
       "6     7     47.5   41.7  80.5   4.3  30.2  0.00  29574\n",
       "7     8     54.7   34.0  49.6  11.5  29.9  0.16  43172\n",
       "8     9     55.2   22.6  29.2  10.2  29.9  0.00  44866\n",
       "9    10     37.4   25.8  66.1   7.6  29.9  0.00  18351\n",
       "10   11     26.2    9.7  50.0   5.8  30.2  0.24  15060\n",
       "11   12     27.7    9.4  46.7   4.9  30.3  0.00  13357\n",
       "12   13     30.1   11.8  48.3   6.2  30.4  0.00  27303\n",
       "13   14     30.8   27.5  88.1  14.1  29.6  0.32      0\n",
       "14   15     25.9   15.7  65.3   8.3  29.6  0.71      0\n",
       "15   16     33.3   15.0  49.3   8.7  30.0  0.00      0\n",
       "16   17     38.1   19.1  47.5   8.1  30.2  0.00   7029\n",
       "17   18     36.8   27.7  70.9  12.2  30.2  0.00   4073\n",
       "18   19     41.9   24.3  52.2   9.8  30.2  0.07  10397\n",
       "19   20     44.4   19.1  38.2   5.2  30.1  0.00  27269\n",
       "20   21     50.4   29.0  44.5   5.6  29.9  0.00  36611\n",
       "21   22     38.4   12.2  34.7   4.8  30.1  0.00  26806\n",
       "22   23     35.0    9.2  37.9   6.4  30.5  0.00  29716\n",
       "23   24     44.8   28.6  53.9   9.0  30.3  0.00  33824\n",
       "24   25     50.7   38.3  63.4   7.8  30.2  0.00  28948\n",
       "25   26     41.1   35.3  79.8  12.9  30.4  0.10  19603\n",
       "26   27     44.7   41.8  89.7   7.0  30.1  0.02  26166\n",
       "27   28     44.4   42.5  93.1   9.9  29.9  0.42  21493\n",
       "28   29     50.3   34.9  60.1   4.7  30.1  0.43  42157\n",
       "29   30     44.5   27.0  51.0   6.9  30.2  0.00  39375\n",
       "30   31     40.4   37.8  91.0  14.9  30.0  0.33   6932"
      ]
     },
     "execution_count": 381,
     "metadata": {},
     "output_type": "execute_result"
    }
   ],
   "source": [
    "weatherDf"
   ]
  },
  {
   "cell_type": "code",
   "execution_count": 382,
   "metadata": {},
   "outputs": [
    {
     "data": {
      "image/png": "[encoded data removed]",
      "text/plain": [
       "<Figure size 432x288 with 2 Axes>"
      ]
     },
     "metadata": {},
     "output_type": "display_data"
    }
   ],
   "source": [
    "import matplotlib.pyplot as plt\n",
    "\n",
    "sns.set(font_scale=1)\n",
    "sns.heatmap(df.corr(), annot=True)\n",
    "plt.show()"
   ]
  },
  {
   "cell_type": "code",
   "execution_count": 383,
   "metadata": {},
   "outputs": [
    {
     "data": {
      "image/png": "[encoded data removed]",
      "text/plain": [
       "<Figure size 432x288 with 2 Axes>"
      ]
     },
     "metadata": {},
     "output_type": "display_data"
    }
   ],
   "source": [
    "sns.set(font_scale=1)\n",
    "\n",
    "sns.heatmap(weatherDf.corr(), annot=True)\n",
    "plt.show()"
   ]
  },
  {
   "cell_type": "code",
   "execution_count": 384,
   "metadata": {},
   "outputs": [],
   "source": [
    "# Now let's setup a test and train for the month of March 2017\n",
    "from sklearn.model_selection import train_test_split\n",
    "#X_train, X_test, y_train, y_test = train_test_split(weatherDf.drop(columns = ['count'], axis=1), weatherDf['count'], test_size=0.3)\n",
    "\n",
    "#X = np.array(weatherDf.drop(weatherDf[['Day', 'count']], 1))\n",
    "y = np.array(weatherDf['count'])\n",
    "\n",
    "X = np.array(weatherDf.drop(weatherDf[['Day']], 1))\n",
    "\n",
    "\n",
    "X_train, X_test, y_train, y_test = train_test_split(X, y, test_size = 0.2)"
   ]
  },
  {
   "cell_type": "code",
   "execution_count": 385,
   "metadata": {},
   "outputs": [],
   "source": [
    "def rmsle(y, y_):\n",
    "    log1 = np.nan_to_num(np.array([np.log(v + 1) for v in y]))\n",
    "    log2 = np.nan_to_num(np.array([np.log(v + 1) for v in y_]))\n",
    "    calc = (log1 - log2) ** 2\n",
    "    return np.sqrt(np.mean(calc))"
   ]
  },
  {
   "cell_type": "code",
   "execution_count": 386,
   "metadata": {},
   "outputs": [
    {
     "name": "stdout",
     "output_type": "stream",
     "text": [
      "Linear regression accuracy =>  1.0 \n",
      "RMSLE =>  1.9235771486495422e-11\n"
     ]
    }
   ],
   "source": [
    "from sklearn.linear_model import LinearRegression\n",
    "clfL = LinearRegression(normalize= True)\n",
    "clfL.fit(X_train, y_train)\n",
    "print(\"Linear regression accuracy => \", clfL.score(X_test, y_test), \"\\nRMSLE => \", rmsle(y_test, clfL.predict(X_test)))"
   ]
  },
  {
   "cell_type": "code",
   "execution_count": 387,
   "metadata": {},
   "outputs": [
    {
     "name": "stdout",
     "output_type": "stream",
     "text": [
      "Decision Tree accuracy =>  0.9707143110730114 \n",
      "RMSLE =>  0.10055848269075164\n"
     ]
    }
   ],
   "source": [
    "from sklearn.tree import DecisionTreeRegressor\n",
    "\n",
    "clfD = DecisionTreeRegressor()\n",
    "clfD.fit(X_train, y_train)\n",
    "print(\"Decision Tree accuracy => \", clfD.score(X_test, y_test), \"\\nRMSLE => \", rmsle(y_test, clfD.predict(X_test)))"
   ]
  },
  {
   "cell_type": "code",
   "execution_count": 388,
   "metadata": {},
   "outputs": [
    {
     "name": "stdout",
     "output_type": "stream",
     "text": [
      "Random Forest accuracy =>  0.9747735672650731 \n",
      "RMSLE =>  2.9909384573991433\n"
     ]
    }
   ],
   "source": [
    "from sklearn.ensemble import RandomForestRegressor\n",
    "\n",
    "clf = RandomForestRegressor(n_estimators=200, max_depth=4, oob_score=True)\n",
    "clf.fit(X_train, y_train)\n",
    "print('Random Forest accuracy => ', clf.score(X_test, y_test), \"\\nRMSLE => \", rmsle(y_test, clf.predict(X_test)))"
   ]
  },
  {
   "cell_type": "code",
   "execution_count": 389,
   "metadata": {},
   "outputs": [
    {
     "data": {
      "text/plain": [
       "array([0.01483455, 0.00824899, 0.00751122, 0.01801923, 0.01001448,\n",
       "       0.00251856, 0.93885296])"
      ]
     },
     "execution_count": 389,
     "metadata": {},
     "output_type": "execute_result"
    }
   ],
   "source": [
    "clf.feature_importances_"
   ]
  },
  {
   "cell_type": "code",
   "execution_count": 390,
   "metadata": {},
   "outputs": [
    {
     "data": {
      "text/plain": [
       "Index(['Day', 'AvgTemp', 'AvgDP', 'AvgH', 'AvgW', 'AvgP', 'P', 'count'], dtype='object')"
      ]
     },
     "execution_count": 390,
     "metadata": {},
     "output_type": "execute_result"
    }
   ],
   "source": [
    "weatherDf.columns"
   ]
  },
  {
   "cell_type": "code",
   "execution_count": 391,
   "metadata": {},
   "outputs": [
    {
     "data": {
      "text/plain": [
       "Index(['Day', 'AvgTemp', 'AvgDP', 'AvgH', 'AvgW', 'AvgP', 'P'], dtype='object')"
      ]
     },
     "execution_count": 391,
     "metadata": {},
     "output_type": "execute_result"
    }
   ],
   "source": [
    "dfTest = weatherDf\n",
    "dfTest.drop(['count'], axis=1, inplace=True)\n",
    "dfTest.columns\n",
    "\n"
   ]
  },
  {
   "cell_type": "code",
   "execution_count": 392,
   "metadata": {},
   "outputs": [],
   "source": [
    "importances = clf.feature_importances_\n",
    "indices = np.argsort(importances)\n",
    "features = dfTest.columns"
   ]
  },
  {
   "cell_type": "code",
   "execution_count": 393,
   "metadata": {},
   "outputs": [
    {
     "data": {
      "image/png": "[encoded data removed]",
      "text/plain": [
       "<Figure size 432x288 with 1 Axes>"
      ]
     },
     "metadata": {},
     "output_type": "display_data"
    }
   ],
   "source": [
    "\n",
    "\n",
    "plt.title('Feature Importance')\n",
    "#plt.barh(dfTest.columns, clf.feature_importances_.argsort())\n",
    "plt.barh(range(len(indices)), importances[indices])\n",
    "\n",
    "plt.yticks(range(len(indices)), [features[i] for i in indices])\n",
    "plt.xlabel('Relative Importance')\n",
    "plt.show()"
   ]
  },
  {
   "cell_type": "code",
   "execution_count": 394,
   "metadata": {},
   "outputs": [],
   "source": [
    "pred_test = clf.predict(X_test)\n",
    "pred_train = clf.predict(X_train)"
   ]
  },
  {
   "cell_type": "code",
   "execution_count": 395,
   "metadata": {},
   "outputs": [],
   "source": [
    "from sklearn.metrics import r2_score\n",
    "from scipy.stats import spearmanr, pearsonr\n",
    "test_score = r2_score(y_test, pred_test)\n",
    "spearman = spearmanr(y_test, pred_test)\n",
    "pearson = pearsonr(y_test, pred_test)"
   ]
  },
  {
   "cell_type": "code",
   "execution_count": 396,
   "metadata": {},
   "outputs": [
    {
     "name": "stdout",
     "output_type": "stream",
     "text": [
      "Out of bag R-2 score estimate:  0.96\n",
      "Test data R-2 score:  0.975\n",
      "Test data Spearman correlation: 1.0\n",
      "Test data Pearson correlation: 0.995\n"
     ]
    }
   ],
   "source": [
    "print(f'Out of bag R-2 score estimate: {clf.oob_score_:>5.3}')\n",
    "print(f'Test data R-2 score:  {test_score:>5.3}')\n",
    "print(f'Test data Spearman correlation: {spearman[0]:.3}')\n",
    "print(f'Test data Pearson correlation: {pearson[0]:.3}')"
   ]
  },
  {
   "cell_type": "code",
   "execution_count": 397,
   "metadata": {},
   "outputs": [
    {
     "data": {
      "text/plain": [
       "RandomForestRegressor(bootstrap=True, criterion='mse', max_depth=4,\n",
       "                      max_features='auto', max_leaf_nodes=None,\n",
       "                      min_impurity_decrease=0.0, min_impurity_split=None,\n",
       "                      min_samples_leaf=1, min_samples_split=2,\n",
       "                      min_weight_fraction_leaf=0.0, n_estimators=200,\n",
       "                      n_jobs=None, oob_score=True, random_state=None, verbose=0,\n",
       "                      warm_start=False)"
      ]
     },
     "execution_count": 397,
     "metadata": {},
     "output_type": "execute_result"
    }
   ],
   "source": [
    "clf"
   ]
  },
  {
   "cell_type": "code",
   "execution_count": 398,
   "metadata": {},
   "outputs": [],
   "source": [
    "#df[['count', 'workingday']].groupby(['workingday'], as_index = False).mean().sort_values(by = 'count')\n",
    "#df[['Start Station Name','Start Time']].groupby(['Start Station Name']), as_index = False).sum().sort_values(by = 'Start Station Name')"
   ]
  },
  {
   "cell_type": "code",
   "execution_count": 399,
   "metadata": {},
   "outputs": [],
   "source": [
    "ind = pd.DatetimeIndex(df['Start Time'])\n",
    "df['date'] = ind.date.astype('datetime64')\n",
    "df['hour'] = ind.hour"
   ]
  },
  {
   "cell_type": "code",
   "execution_count": 400,
   "metadata": {},
   "outputs": [],
   "source": [
    "#df['Start Time'].count()\n",
    "by_date = df.pivot_table('Start Station ID', aggfunc='count',\n",
    "                           index='date',\n",
    "                           columns='User Type',)"
   ]
  },
  {
   "cell_type": "code",
   "execution_count": 401,
   "metadata": {},
   "outputs": [
    {
     "data": {
      "image/png": "[encoded data removed]",
      "text/plain": [
       "<Figure size 1152x576 with 2 Axes>"
      ]
     },
     "metadata": {},
     "output_type": "display_data"
    }
   ],
   "source": [
    "fig, ax = plt.subplots(2, figsize=(16,8))\n",
    "fig.subplots_adjust(hspace=0.5)\n",
    "by_date.iloc[:,0].plot(ax=ax[0], title='(24hr or 3-day Pass) Customer Subscriber');\n",
    "by_date.iloc[:,1].plot(ax=ax[1], title='(Annual) Customer Subscriber');\n"
   ]
  },
  {
   "cell_type": "code",
   "execution_count": 402,
   "metadata": {},
   "outputs": [
    {
     "data": {
      "text/html": [
       "<div>\n",
       "<style scoped>\n",
       "    .dataframe tbody tr th:only-of-type {\n",
       "        vertical-align: middle;\n",
       "    }\n",
       "\n",
       "    .dataframe tbody tr th {\n",
       "        vertical-align: top;\n",
       "    }\n",
       "\n",
       "    .dataframe thead th {\n",
       "        text-align: right;\n",
       "    }\n",
       "</style>\n",
       "<table border=\"1\" class=\"dataframe\">\n",
       "  <thead>\n",
       "    <tr style=\"text-align: right;\">\n",
       "      <th>User Type</th>\n",
       "      <th>Customer</th>\n",
       "      <th>Subscriber</th>\n",
       "    </tr>\n",
       "    <tr>\n",
       "      <th>date</th>\n",
       "      <th></th>\n",
       "      <th></th>\n",
       "    </tr>\n",
       "  </thead>\n",
       "  <tbody>\n",
       "    <tr>\n",
       "      <th>2017-03-01</th>\n",
       "      <td>1027</td>\n",
       "      <td>39374</td>\n",
       "    </tr>\n",
       "    <tr>\n",
       "      <th>2017-03-02</th>\n",
       "      <td>1006</td>\n",
       "      <td>34511</td>\n",
       "    </tr>\n",
       "    <tr>\n",
       "      <th>2017-03-03</th>\n",
       "      <td>867</td>\n",
       "      <td>30060</td>\n",
       "    </tr>\n",
       "    <tr>\n",
       "      <th>2017-03-04</th>\n",
       "      <td>549</td>\n",
       "      <td>14949</td>\n",
       "    </tr>\n",
       "    <tr>\n",
       "      <th>2017-03-05</th>\n",
       "      <td>684</td>\n",
       "      <td>15076</td>\n",
       "    </tr>\n",
       "  </tbody>\n",
       "</table>\n",
       "</div>"
      ],
      "text/plain": [
       "User Type   Customer  Subscriber\n",
       "date                            \n",
       "2017-03-01      1027       39374\n",
       "2017-03-02      1006       34511\n",
       "2017-03-03       867       30060\n",
       "2017-03-04       549       14949\n",
       "2017-03-05       684       15076"
      ]
     },
     "execution_count": 402,
     "metadata": {},
     "output_type": "execute_result"
    }
   ],
   "source": [
    "by_date.head()\n",
    "#df.head()"
   ]
  },
  {
   "cell_type": "code",
   "execution_count": 403,
   "metadata": {},
   "outputs": [],
   "source": [
    "count_by_date = df.pivot_table('Start Station ID', aggfunc='count',\n",
    "                           index='date',)"
   ]
  },
  {
   "cell_type": "code",
   "execution_count": 404,
   "metadata": {
    "scrolled": true
   },
   "outputs": [
    {
     "data": {
      "text/html": [
       "<style  type=\"text/css\" >\n",
       "</style><table id=\"T_aebbed02_1a26_11eb_8cd8_34363bcf3f6a\" ><thead>    <tr>        <th class=\"blank level0\" ></th>        <th class=\"col_heading level0 col0\" >Start Station ID</th>    </tr>    <tr>        <th class=\"index_name level0\" >date</th>        <th class=\"blank\" ></th>    </tr></thead><tbody>\n",
       "                <tr>\n",
       "                        <th id=\"T_aebbed02_1a26_11eb_8cd8_34363bcf3f6alevel0_row0\" class=\"row_heading level0 row0\" >2017-03-01 00:00:00</th>\n",
       "                        <td id=\"T_aebbed02_1a26_11eb_8cd8_34363bcf3f6arow0_col0\" class=\"data row0 col0\" >40401</td>\n",
       "            </tr>\n",
       "            <tr>\n",
       "                        <th id=\"T_aebbed02_1a26_11eb_8cd8_34363bcf3f6alevel0_row1\" class=\"row_heading level0 row1\" >2017-03-02 00:00:00</th>\n",
       "                        <td id=\"T_aebbed02_1a26_11eb_8cd8_34363bcf3f6arow1_col0\" class=\"data row1 col0\" >35517</td>\n",
       "            </tr>\n",
       "            <tr>\n",
       "                        <th id=\"T_aebbed02_1a26_11eb_8cd8_34363bcf3f6alevel0_row2\" class=\"row_heading level0 row2\" >2017-03-03 00:00:00</th>\n",
       "                        <td id=\"T_aebbed02_1a26_11eb_8cd8_34363bcf3f6arow2_col0\" class=\"data row2 col0\" >30927</td>\n",
       "            </tr>\n",
       "            <tr>\n",
       "                        <th id=\"T_aebbed02_1a26_11eb_8cd8_34363bcf3f6alevel0_row3\" class=\"row_heading level0 row3\" >2017-03-04 00:00:00</th>\n",
       "                        <td id=\"T_aebbed02_1a26_11eb_8cd8_34363bcf3f6arow3_col0\" class=\"data row3 col0\" >15498</td>\n",
       "            </tr>\n",
       "            <tr>\n",
       "                        <th id=\"T_aebbed02_1a26_11eb_8cd8_34363bcf3f6alevel0_row4\" class=\"row_heading level0 row4\" >2017-03-05 00:00:00</th>\n",
       "                        <td id=\"T_aebbed02_1a26_11eb_8cd8_34363bcf3f6arow4_col0\" class=\"data row4 col0\" >15760</td>\n",
       "            </tr>\n",
       "            <tr>\n",
       "                        <th id=\"T_aebbed02_1a26_11eb_8cd8_34363bcf3f6alevel0_row5\" class=\"row_heading level0 row5\" >2017-03-06 00:00:00</th>\n",
       "                        <td id=\"T_aebbed02_1a26_11eb_8cd8_34363bcf3f6arow5_col0\" class=\"data row5 col0\" >32344</td>\n",
       "            </tr>\n",
       "            <tr>\n",
       "                        <th id=\"T_aebbed02_1a26_11eb_8cd8_34363bcf3f6alevel0_row6\" class=\"row_heading level0 row6\" >2017-03-07 00:00:00</th>\n",
       "                        <td id=\"T_aebbed02_1a26_11eb_8cd8_34363bcf3f6arow6_col0\" class=\"data row6 col0\" >29574</td>\n",
       "            </tr>\n",
       "            <tr>\n",
       "                        <th id=\"T_aebbed02_1a26_11eb_8cd8_34363bcf3f6alevel0_row7\" class=\"row_heading level0 row7\" >2017-03-08 00:00:00</th>\n",
       "                        <td id=\"T_aebbed02_1a26_11eb_8cd8_34363bcf3f6arow7_col0\" class=\"data row7 col0\" >43172</td>\n",
       "            </tr>\n",
       "            <tr>\n",
       "                        <th id=\"T_aebbed02_1a26_11eb_8cd8_34363bcf3f6alevel0_row8\" class=\"row_heading level0 row8\" >2017-03-09 00:00:00</th>\n",
       "                        <td id=\"T_aebbed02_1a26_11eb_8cd8_34363bcf3f6arow8_col0\" class=\"data row8 col0\" >44866</td>\n",
       "            </tr>\n",
       "            <tr>\n",
       "                        <th id=\"T_aebbed02_1a26_11eb_8cd8_34363bcf3f6alevel0_row9\" class=\"row_heading level0 row9\" >2017-03-10 00:00:00</th>\n",
       "                        <td id=\"T_aebbed02_1a26_11eb_8cd8_34363bcf3f6arow9_col0\" class=\"data row9 col0\" >18351</td>\n",
       "            </tr>\n",
       "            <tr>\n",
       "                        <th id=\"T_aebbed02_1a26_11eb_8cd8_34363bcf3f6alevel0_row10\" class=\"row_heading level0 row10\" >2017-03-11 00:00:00</th>\n",
       "                        <td id=\"T_aebbed02_1a26_11eb_8cd8_34363bcf3f6arow10_col0\" class=\"data row10 col0\" >15060</td>\n",
       "            </tr>\n",
       "            <tr>\n",
       "                        <th id=\"T_aebbed02_1a26_11eb_8cd8_34363bcf3f6alevel0_row11\" class=\"row_heading level0 row11\" >2017-03-12 00:00:00</th>\n",
       "                        <td id=\"T_aebbed02_1a26_11eb_8cd8_34363bcf3f6arow11_col0\" class=\"data row11 col0\" >13357</td>\n",
       "            </tr>\n",
       "            <tr>\n",
       "                        <th id=\"T_aebbed02_1a26_11eb_8cd8_34363bcf3f6alevel0_row12\" class=\"row_heading level0 row12\" >2017-03-13 00:00:00</th>\n",
       "                        <td id=\"T_aebbed02_1a26_11eb_8cd8_34363bcf3f6arow12_col0\" class=\"data row12 col0\" >27303</td>\n",
       "            </tr>\n",
       "            <tr>\n",
       "                        <th id=\"T_aebbed02_1a26_11eb_8cd8_34363bcf3f6alevel0_row13\" class=\"row_heading level0 row13\" >2017-03-17 00:00:00</th>\n",
       "                        <td id=\"T_aebbed02_1a26_11eb_8cd8_34363bcf3f6arow13_col0\" class=\"data row13 col0\" >7029</td>\n",
       "            </tr>\n",
       "            <tr>\n",
       "                        <th id=\"T_aebbed02_1a26_11eb_8cd8_34363bcf3f6alevel0_row14\" class=\"row_heading level0 row14\" >2017-03-18 00:00:00</th>\n",
       "                        <td id=\"T_aebbed02_1a26_11eb_8cd8_34363bcf3f6arow14_col0\" class=\"data row14 col0\" >4073</td>\n",
       "            </tr>\n",
       "            <tr>\n",
       "                        <th id=\"T_aebbed02_1a26_11eb_8cd8_34363bcf3f6alevel0_row15\" class=\"row_heading level0 row15\" >2017-03-19 00:00:00</th>\n",
       "                        <td id=\"T_aebbed02_1a26_11eb_8cd8_34363bcf3f6arow15_col0\" class=\"data row15 col0\" >10397</td>\n",
       "            </tr>\n",
       "            <tr>\n",
       "                        <th id=\"T_aebbed02_1a26_11eb_8cd8_34363bcf3f6alevel0_row16\" class=\"row_heading level0 row16\" >2017-03-20 00:00:00</th>\n",
       "                        <td id=\"T_aebbed02_1a26_11eb_8cd8_34363bcf3f6arow16_col0\" class=\"data row16 col0\" >27269</td>\n",
       "            </tr>\n",
       "            <tr>\n",
       "                        <th id=\"T_aebbed02_1a26_11eb_8cd8_34363bcf3f6alevel0_row17\" class=\"row_heading level0 row17\" >2017-03-21 00:00:00</th>\n",
       "                        <td id=\"T_aebbed02_1a26_11eb_8cd8_34363bcf3f6arow17_col0\" class=\"data row17 col0\" >36611</td>\n",
       "            </tr>\n",
       "            <tr>\n",
       "                        <th id=\"T_aebbed02_1a26_11eb_8cd8_34363bcf3f6alevel0_row18\" class=\"row_heading level0 row18\" >2017-03-22 00:00:00</th>\n",
       "                        <td id=\"T_aebbed02_1a26_11eb_8cd8_34363bcf3f6arow18_col0\" class=\"data row18 col0\" >26806</td>\n",
       "            </tr>\n",
       "            <tr>\n",
       "                        <th id=\"T_aebbed02_1a26_11eb_8cd8_34363bcf3f6alevel0_row19\" class=\"row_heading level0 row19\" >2017-03-23 00:00:00</th>\n",
       "                        <td id=\"T_aebbed02_1a26_11eb_8cd8_34363bcf3f6arow19_col0\" class=\"data row19 col0\" >29716</td>\n",
       "            </tr>\n",
       "            <tr>\n",
       "                        <th id=\"T_aebbed02_1a26_11eb_8cd8_34363bcf3f6alevel0_row20\" class=\"row_heading level0 row20\" >2017-03-24 00:00:00</th>\n",
       "                        <td id=\"T_aebbed02_1a26_11eb_8cd8_34363bcf3f6arow20_col0\" class=\"data row20 col0\" >33824</td>\n",
       "            </tr>\n",
       "            <tr>\n",
       "                        <th id=\"T_aebbed02_1a26_11eb_8cd8_34363bcf3f6alevel0_row21\" class=\"row_heading level0 row21\" >2017-03-25 00:00:00</th>\n",
       "                        <td id=\"T_aebbed02_1a26_11eb_8cd8_34363bcf3f6arow21_col0\" class=\"data row21 col0\" >28948</td>\n",
       "            </tr>\n",
       "            <tr>\n",
       "                        <th id=\"T_aebbed02_1a26_11eb_8cd8_34363bcf3f6alevel0_row22\" class=\"row_heading level0 row22\" >2017-03-26 00:00:00</th>\n",
       "                        <td id=\"T_aebbed02_1a26_11eb_8cd8_34363bcf3f6arow22_col0\" class=\"data row22 col0\" >19603</td>\n",
       "            </tr>\n",
       "            <tr>\n",
       "                        <th id=\"T_aebbed02_1a26_11eb_8cd8_34363bcf3f6alevel0_row23\" class=\"row_heading level0 row23\" >2017-03-27 00:00:00</th>\n",
       "                        <td id=\"T_aebbed02_1a26_11eb_8cd8_34363bcf3f6arow23_col0\" class=\"data row23 col0\" >26166</td>\n",
       "            </tr>\n",
       "            <tr>\n",
       "                        <th id=\"T_aebbed02_1a26_11eb_8cd8_34363bcf3f6alevel0_row24\" class=\"row_heading level0 row24\" >2017-03-28 00:00:00</th>\n",
       "                        <td id=\"T_aebbed02_1a26_11eb_8cd8_34363bcf3f6arow24_col0\" class=\"data row24 col0\" >21493</td>\n",
       "            </tr>\n",
       "            <tr>\n",
       "                        <th id=\"T_aebbed02_1a26_11eb_8cd8_34363bcf3f6alevel0_row25\" class=\"row_heading level0 row25\" >2017-03-29 00:00:00</th>\n",
       "                        <td id=\"T_aebbed02_1a26_11eb_8cd8_34363bcf3f6arow25_col0\" class=\"data row25 col0\" >42157</td>\n",
       "            </tr>\n",
       "            <tr>\n",
       "                        <th id=\"T_aebbed02_1a26_11eb_8cd8_34363bcf3f6alevel0_row26\" class=\"row_heading level0 row26\" >2017-03-30 00:00:00</th>\n",
       "                        <td id=\"T_aebbed02_1a26_11eb_8cd8_34363bcf3f6arow26_col0\" class=\"data row26 col0\" >39375</td>\n",
       "            </tr>\n",
       "            <tr>\n",
       "                        <th id=\"T_aebbed02_1a26_11eb_8cd8_34363bcf3f6alevel0_row27\" class=\"row_heading level0 row27\" >2017-03-31 00:00:00</th>\n",
       "                        <td id=\"T_aebbed02_1a26_11eb_8cd8_34363bcf3f6arow27_col0\" class=\"data row27 col0\" >6932</td>\n",
       "            </tr>\n",
       "    </tbody></table>"
      ],
      "text/plain": [
       "<pandas.io.formats.style.Styler at 0x7fcae0455d90>"
      ]
     },
     "execution_count": 404,
     "metadata": {},
     "output_type": "execute_result"
    }
   ],
   "source": [
    "#count_by_date.head()\n",
    "#count_by_date.describe\n",
    "count_by_date.style\n"
   ]
  },
  {
   "cell_type": "code",
   "execution_count": 405,
   "metadata": {},
   "outputs": [
    {
     "data": {
      "text/plain": [
       "<matplotlib.axes._subplots.AxesSubplot at 0x7fcae0626310>"
      ]
     },
     "execution_count": 405,
     "metadata": {},
     "output_type": "execute_result"
    },
    {
     "data": {
      "image/png": "[encoded data removed]",
      "text/plain": [
       "<Figure size 432x288 with 1 Axes>"
      ]
     },
     "metadata": {},
     "output_type": "display_data"
    }
   ],
   "source": [
    "count_by_date.plot()\n",
    "\n",
    "\n",
    "\n"
   ]
  },
  {
   "cell_type": "code",
   "execution_count": 406,
   "metadata": {},
   "outputs": [
    {
     "data": {
      "image/png": "[encoded data removed]",
      "text/plain": [
       "<Figure size 432x288 with 1 Axes>"
      ]
     },
     "metadata": {},
     "output_type": "display_data"
    }
   ],
   "source": [
    "# now print weatherdf\n",
    "import matplotlib.pyplot as plt\n",
    "ax = plt.gca()\n",
    "\n",
    "weatherDf.plot(kind='line',x='Day',y='P',ax=ax)\n",
    "plt.show()\n"
   ]
  },
  {
   "cell_type": "code",
   "execution_count": 407,
   "metadata": {},
   "outputs": [
    {
     "data": {
      "image/png": "[encoded data removed]",
      "text/plain": [
       "<Figure size 432x288 with 1 Axes>"
      ]
     },
     "metadata": {},
     "output_type": "display_data"
    }
   ],
   "source": [
    "ax = plt.gca()\n",
    "\n",
    "df.plot(kind='line',x='date',y='Start Station ID',ax=ax)\n",
    "#df.plot(kind='line',x='Day',y='AvgDP', color='red', ax=ax)\n",
    "\n",
    "plt.show()"
   ]
  },
  {
   "cell_type": "code",
   "execution_count": 408,
   "metadata": {},
   "outputs": [],
   "source": [
    "group_by_start_station = (df.groupby(['Start Station ID'])\n",
    "                    .apply(lambda x: (x['Start Station ID']==519).count())\n",
    "                    .reset_index(name='count'))"
   ]
  },
  {
   "cell_type": "code",
   "execution_count": 409,
   "metadata": {},
   "outputs": [
    {
     "name": "stdout",
     "output_type": "stream",
     "text": [
      "     Start Station ID  count\n",
      "0                  72   1887\n",
      "1                  79   1256\n",
      "2                  82    547\n",
      "3                  83    567\n",
      "4                 116   2216\n",
      "..                ...    ...\n",
      "609              3452    263\n",
      "610              3453    324\n",
      "611              3454    257\n",
      "612              3455    157\n",
      "613              3456     26\n",
      "\n",
      "[614 rows x 2 columns]\n"
     ]
    }
   ],
   "source": [
    "#group_by_start_station['Start Station ID']==519\n",
    "print(group_by_start_station)\n"
   ]
  },
  {
   "cell_type": "code",
   "execution_count": 410,
   "metadata": {},
   "outputs": [
    {
     "name": "stdout",
     "output_type": "stream",
     "text": [
      "3348\n"
     ]
    }
   ],
   "source": [
    "print(group_by_start_station['Start Station ID'].values[519])"
   ]
  },
  {
   "cell_type": "code",
   "execution_count": 411,
   "metadata": {},
   "outputs": [
    {
     "name": "stdout",
     "output_type": "stream",
     "text": [
      "     Start Station ID  count\n",
      "269               519   9040\n",
      "250               497   5429\n",
      "194               435   5276\n",
      "245               492   5265\n",
      "168               402   5152\n"
     ]
    }
   ],
   "source": [
    "print(group_by_start_station.nlargest(5, 'count'))"
   ]
  },
  {
   "cell_type": "code",
   "execution_count": 412,
   "metadata": {},
   "outputs": [],
   "source": [
    "#count_by_date2 = df.pivot_table(index=['Start Station Name','Start Station ID'],aggfunc=np.sum,values=['mycount'])\n",
    "\n",
    "#countdate2 = df.pivot_table(df.loc[df['Start Station ID']=='519'], index='date', aggfunc='count')\n",
    "\n",
    "countsdate2 = df['Start Station ID'].value_counts(normalize=True)\n",
    "\n",
    "#count_by_date = df.pivot_table('Start Station ID', aggfunc='count',\n",
    "#                           index='date',)"
   ]
  },
  {
   "cell_type": "code",
   "execution_count": 413,
   "metadata": {},
   "outputs": [],
   "source": [
    "countdate2 = df\n",
    "countdate2.head()\n",
    "#countdate2 == 519\n",
    "#countsdate2 = df.groupby('Start Station ID').filter(lambda x: x.values[519]==519)\n",
    "\n",
    "\n",
    "#count_by_date2 = countdate2.eq('Start Station ID' == 519).pivot_table('Start Station ID', aggfunc='count',\n",
    "#                           index='date',)\n",
    "\n",
    "df6 = countdate2.loc['2017-03-08']\n"
   ]
  },
  {
   "cell_type": "code",
   "execution_count": 414,
   "metadata": {},
   "outputs": [
    {
     "data": {
      "text/plain": [
       "(43172, 19)"
      ]
     },
     "execution_count": 414,
     "metadata": {},
     "output_type": "execute_result"
    }
   ],
   "source": [
    "#df6['Start Station ID']==519\n",
    "df6.shape"
   ]
  },
  {
   "cell_type": "code",
   "execution_count": 415,
   "metadata": {},
   "outputs": [],
   "source": [
    "onecountNoRain=0\n",
    "for index, row in df6.iterrows():\n",
    "    if row['Start Station ID'] == 519:  # Pershing Square North\n",
    "        #print(row['Start Time'], row['Start Station Name'])\n",
    "        onecountNoRain = onecountNoRain + 1"
   ]
  },
  {
   "cell_type": "code",
   "execution_count": 416,
   "metadata": {},
   "outputs": [
    {
     "data": {
      "text/plain": [
       "542"
      ]
     },
     "execution_count": 416,
     "metadata": {},
     "output_type": "execute_result"
    }
   ],
   "source": [
    "onecountNoRain"
   ]
  },
  {
   "cell_type": "code",
   "execution_count": 417,
   "metadata": {},
   "outputs": [],
   "source": [
    "df6 = countdate2.loc['2017-03-17']\n",
    "\n",
    "onecountRain=0\n",
    "for index, row in df6.iterrows():\n",
    "    if row['Start Station ID'] == 519:  # Pershing Square North\n",
    "        #print(row['Start Time'], row['Start Station Name'])\n",
    "        onecountRain = onecountRain + 1"
   ]
  },
  {
   "cell_type": "code",
   "execution_count": 418,
   "metadata": {},
   "outputs": [
    {
     "data": {
      "text/plain": [
       "129"
      ]
     },
     "execution_count": 418,
     "metadata": {},
     "output_type": "execute_result"
    }
   ],
   "source": [
    "onecountRain"
   ]
  },
  {
   "cell_type": "code",
   "execution_count": null,
   "metadata": {},
   "outputs": [],
   "source": []
  }
 ],
 "metadata": {
  "kernelspec": {
   "display_name": "Python 3",
   "language": "python",
   "name": "python3"
  },
  "language_info": {
   "codemirror_mode": {
    "name": "ipython",
    "version": 3
   },
   "file_extension": ".py",
   "mimetype": "text/x-python",
   "name": "python",
   "nbconvert_exporter": "python",
   "pygments_lexer": "ipython3",
   "version": "3.7.4"
  }
 },
 "nbformat": 4,
 "nbformat_minor": 1
}
